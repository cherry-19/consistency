{
 "cells": [
  {
   "cell_type": "markdown",
   "id": "eef6c97c",
   "metadata": {},
   "source": [
    "# Day 1 "
   ]
  },
  {
   "cell_type": "code",
   "execution_count": 3,
   "id": "fc292bfe",
   "metadata": {},
   "outputs": [
    {
     "data": {
      "text/html": [
       "<div>\n",
       "<style scoped>\n",
       "    .dataframe tbody tr th:only-of-type {\n",
       "        vertical-align: middle;\n",
       "    }\n",
       "\n",
       "    .dataframe tbody tr th {\n",
       "        vertical-align: top;\n",
       "    }\n",
       "\n",
       "    .dataframe thead th {\n",
       "        text-align: right;\n",
       "    }\n",
       "</style>\n",
       "<table border=\"1\" class=\"dataframe\">\n",
       "  <thead>\n",
       "    <tr style=\"text-align: right;\">\n",
       "      <th></th>\n",
       "      <th>Name</th>\n",
       "      <th>Age</th>\n",
       "      <th>Address</th>\n",
       "      <th>Qualification</th>\n",
       "    </tr>\n",
       "  </thead>\n",
       "  <tbody>\n",
       "    <tr>\n",
       "      <th>0</th>\n",
       "      <td>jai</td>\n",
       "      <td>27</td>\n",
       "      <td>Delhi</td>\n",
       "      <td>msc</td>\n",
       "    </tr>\n",
       "    <tr>\n",
       "      <th>1</th>\n",
       "      <td>princi</td>\n",
       "      <td>24</td>\n",
       "      <td>Kanpur</td>\n",
       "      <td>ma</td>\n",
       "    </tr>\n",
       "    <tr>\n",
       "      <th>2</th>\n",
       "      <td>gaurav</td>\n",
       "      <td>22</td>\n",
       "      <td>Allahabad</td>\n",
       "      <td>mca</td>\n",
       "    </tr>\n",
       "    <tr>\n",
       "      <th>3</th>\n",
       "      <td>anuj</td>\n",
       "      <td>32</td>\n",
       "      <td>Kannauj</td>\n",
       "      <td>phd</td>\n",
       "    </tr>\n",
       "  </tbody>\n",
       "</table>\n",
       "</div>"
      ],
      "text/plain": [
       "     Name  Age    Address Qualification\n",
       "0     jai   27      Delhi           msc\n",
       "1  princi   24     Kanpur            ma\n",
       "2  gaurav   22  Allahabad           mca\n",
       "3    anuj   32    Kannauj           phd"
      ]
     },
     "execution_count": 3,
     "metadata": {},
     "output_type": "execute_result"
    }
   ],
   "source": [
    "import pandas as pd \n",
    "data = {'Name':['Jai', 'Princi', 'Gaurav', 'Anuj'], \n",
    "        'Age':[27, 24, 22, 32], \n",
    "        'Address':['Delhi', 'Kanpur', 'Allahabad', 'Kannauj'], \n",
    "        'Qualification':['Msc', 'MA', 'MCA', 'Phd']} \n",
    "df = pd.DataFrame(data) \n",
    "df[\"Name\"]= df[\"Name\"].str.lower()\n",
    "df['Qualification'] = df['Qualification'].str.lower()\n",
    "df"
   ]
  },
  {
   "cell_type": "code",
   "execution_count": 5,
   "id": "c01c4384",
   "metadata": {},
   "outputs": [
    {
     "data": {
      "text/html": [
       "<div>\n",
       "<style scoped>\n",
       "    .dataframe tbody tr th:only-of-type {\n",
       "        vertical-align: middle;\n",
       "    }\n",
       "\n",
       "    .dataframe tbody tr th {\n",
       "        vertical-align: top;\n",
       "    }\n",
       "\n",
       "    .dataframe thead th {\n",
       "        text-align: right;\n",
       "    }\n",
       "</style>\n",
       "<table border=\"1\" class=\"dataframe\">\n",
       "  <thead>\n",
       "    <tr style=\"text-align: right;\">\n",
       "      <th></th>\n",
       "      <th>Name</th>\n",
       "      <th>Age</th>\n",
       "      <th>Address</th>\n",
       "      <th>Qualification</th>\n",
       "    </tr>\n",
       "  </thead>\n",
       "  <tbody>\n",
       "    <tr>\n",
       "      <th>0</th>\n",
       "      <td>Jai</td>\n",
       "      <td>27</td>\n",
       "      <td>N</td>\n",
       "      <td>Msc</td>\n",
       "    </tr>\n",
       "    <tr>\n",
       "      <th>1</th>\n",
       "      <td>Princi</td>\n",
       "      <td>24</td>\n",
       "      <td>K</td>\n",
       "      <td>MA</td>\n",
       "    </tr>\n",
       "    <tr>\n",
       "      <th>2</th>\n",
       "      <td>Gaurav</td>\n",
       "      <td>22</td>\n",
       "      <td>All</td>\n",
       "      <td>MCA</td>\n",
       "    </tr>\n",
       "    <tr>\n",
       "      <th>3</th>\n",
       "      <td>Anuj</td>\n",
       "      <td>32</td>\n",
       "      <td>Knnu</td>\n",
       "      <td>Phd</td>\n",
       "    </tr>\n",
       "  </tbody>\n",
       "</table>\n",
       "</div>"
      ],
      "text/plain": [
       "     Name  Age Address Qualification\n",
       "0     Jai   27       N           Msc\n",
       "1  Princi   24       K            MA\n",
       "2  Gaurav   22     All           MCA\n",
       "3    Anuj   32    Knnu           Phd"
      ]
     },
     "execution_count": 5,
     "metadata": {},
     "output_type": "execute_result"
    }
   ],
   "source": [
    "import pandas as pd \n",
    "     \n",
    "# Define a dictionary containing employee data \n",
    "data = {'Name':['Jai', 'Princi', 'Gaurav', 'Anuj'], \n",
    "        'Age':[27, 24, 22, 32], \n",
    "        'Address':['Nagpur', 'Kanpur', 'Allahabad', 'Knnuaj'], \n",
    "        'Qualification':['Msc', 'MA', 'MCA', 'Phd']} \n",
    " \n",
    "# Convert the dictionary into DataFrame  \n",
    "df = pd.DataFrame(data) \n",
    "    \n",
    "# dropping null value columns to avoid errors \n",
    "df.dropna(inplace = True) \n",
    "    \n",
    "# new data frame with split value columns \n",
    "df[\"Address\"]= df[\"Address\"].str.split(\"a\", n = 1, expand = True)[0] \n",
    "df"
   ]
  },
  {
   "cell_type": "code",
   "execution_count": 12,
   "id": "2c0dedcd",
   "metadata": {},
   "outputs": [
    {
     "data": {
      "text/plain": [
       "0          Jai, Nagpur\n",
       "1       Princi, Kanpur\n",
       "2    Gaurav, Allahabad\n",
       "3        Anuj, Kannuaj\n",
       "Name: Name, dtype: object"
      ]
     },
     "execution_count": 12,
     "metadata": {},
     "output_type": "execute_result"
    }
   ],
   "source": [
    "data = {'Name':['Jai', 'Princi', 'Gaurav', 'Anuj'], \n",
    "        'Age':[27, 24, 22, 32], \n",
    "        'Address':['Nagpur', 'Kanpur', 'Allahabad', 'Kannuaj'], \n",
    "        'Qualification':['Msc', 'MA', 'MCA', 'Phd']} \n",
    "df = pd.DataFrame(data) \n",
    "new = df[\"Address\"].copy() \n",
    "df[\"Name\"].str.cat(new, sep =\", \") "
   ]
  },
  {
   "cell_type": "code",
   "execution_count": 13,
   "id": "d911a1e1",
   "metadata": {},
   "outputs": [
    {
     "name": "stdout",
     "output_type": "stream",
     "text": [
      "0    False\n",
      "1    False\n",
      "2    False\n",
      "3    False\n",
      "Name: Address, dtype: bool\n",
      "0    False\n",
      "1    False\n",
      "2    False\n",
      "3    False\n",
      "Name: Address, dtype: bool\n",
      "0    False\n",
      "1    False\n",
      "2    False\n",
      "3    False\n",
      "Name: Address, dtype: bool\n"
     ]
    }
   ],
   "source": [
    "data = {'Name':['Jai', 'Princi', 'Gaurav', 'Anuj'], \n",
    "        'Age':[27, 24, 22, 32], \n",
    "        'Address':['Nagpur junction', 'Kanpur junction', \n",
    "                   'Nagpur junction', 'Kannuaj junction'], \n",
    "        'Qualification':['Msc', 'MA', 'MCA', 'Phd']} \n",
    " \n",
    "# Convert the dictionary into DataFrame  \n",
    "df = pd.DataFrame(data)\n",
    "   \n",
    "# replacing address name and adding spaces in start and end \n",
    "new = df[\"Address\"].replace(\"Nagpur junction\", \"  Nagpur junction  \").copy() \n",
    "   \n",
    "# checking with custom string \n",
    "print(new.str.strip()==\" Nagpur junction\")\n",
    "print(new.str.strip()==\"Nagpur junction \")\n",
    "print(new.str.strip()==\" Nagpur junction \")"
   ]
  },
  {
   "cell_type": "code",
   "execution_count": 19,
   "id": "a6db9ca3",
   "metadata": {},
   "outputs": [
    {
     "data": {
      "text/plain": [
       "0    False\n",
       "1    False\n",
       "2    False\n",
       "3    False\n",
       "Name: Address, dtype: bool"
      ]
     },
     "execution_count": 19,
     "metadata": {},
     "output_type": "execute_result"
    }
   ],
   "source": [
    "# checking with custom removed space string \n",
    "new.str.lstrip()==\"Boston Celtics  \"\n",
    "new.str.rstrip()==\"     Boston Celtics  \"\n",
    "new.str.strip()==\"      Boston Celtics       \""
   ]
  },
  {
   "cell_type": "code",
   "execution_count": 21,
   "id": "94463a52",
   "metadata": {},
   "outputs": [
    {
     "data": {
      "text/html": [
       "<div>\n",
       "<style scoped>\n",
       "    .dataframe tbody tr th:only-of-type {\n",
       "        vertical-align: middle;\n",
       "    }\n",
       "\n",
       "    .dataframe tbody tr th {\n",
       "        vertical-align: top;\n",
       "    }\n",
       "\n",
       "    .dataframe thead th {\n",
       "        text-align: right;\n",
       "    }\n",
       "</style>\n",
       "<table border=\"1\" class=\"dataframe\">\n",
       "  <thead>\n",
       "    <tr style=\"text-align: right;\">\n",
       "      <th></th>\n",
       "      <th>0</th>\n",
       "      <th>1</th>\n",
       "    </tr>\n",
       "  </thead>\n",
       "  <tbody>\n",
       "    <tr>\n",
       "      <th>0</th>\n",
       "      <td>a</td>\n",
       "      <td>1</td>\n",
       "    </tr>\n",
       "    <tr>\n",
       "      <th>1</th>\n",
       "      <td>b</td>\n",
       "      <td>2</td>\n",
       "    </tr>\n",
       "    <tr>\n",
       "      <th>2</th>\n",
       "      <td>NaN</td>\n",
       "      <td>NaN</td>\n",
       "    </tr>\n",
       "  </tbody>\n",
       "</table>\n",
       "</div>"
      ],
      "text/plain": [
       "     0    1\n",
       "0    a    1\n",
       "1    b    2\n",
       "2  NaN  NaN"
      ]
     },
     "execution_count": 21,
     "metadata": {},
     "output_type": "execute_result"
    }
   ],
   "source": [
    "s = pd.Series(['a1', 'b2', 'c3'])\n",
    " \n",
    "# Extracting a data\n",
    "n= s.str.extract(r'([ab])(\\d)')\n",
    "n"
   ]
  },
  {
   "cell_type": "code",
   "execution_count": 23,
   "id": "f93a3eb7",
   "metadata": {},
   "outputs": [
    {
     "data": {
      "text/html": [
       "<div>\n",
       "<style scoped>\n",
       "    .dataframe tbody tr th:only-of-type {\n",
       "        vertical-align: middle;\n",
       "    }\n",
       "\n",
       "    .dataframe tbody tr th {\n",
       "        vertical-align: top;\n",
       "    }\n",
       "\n",
       "    .dataframe thead th {\n",
       "        text-align: right;\n",
       "    }\n",
       "</style>\n",
       "<table border=\"1\" class=\"dataframe\">\n",
       "  <thead>\n",
       "    <tr style=\"text-align: right;\">\n",
       "      <th></th>\n",
       "      <th>0</th>\n",
       "    </tr>\n",
       "  </thead>\n",
       "  <tbody>\n",
       "    <tr>\n",
       "      <th>0</th>\n",
       "      <td>a</td>\n",
       "    </tr>\n",
       "    <tr>\n",
       "      <th>1</th>\n",
       "      <td>b</td>\n",
       "    </tr>\n",
       "    <tr>\n",
       "      <th>2</th>\n",
       "      <td>c</td>\n",
       "    </tr>\n",
       "  </tbody>\n",
       "</table>\n",
       "</div>"
      ],
      "text/plain": [
       "   0\n",
       "0  a\n",
       "1  b\n",
       "2  c"
      ]
     },
     "execution_count": 23,
     "metadata": {},
     "output_type": "execute_result"
    }
   ],
   "source": [
    "s = pd.Series(['a1', 'b2', 'c3'])\n",
    " \n",
    "# Extracting a data\n",
    "n= s.str.extract(r'([a-z])')\n",
    "n"
   ]
  },
  {
   "cell_type": "code",
   "execution_count": 25,
   "id": "011c741a",
   "metadata": {},
   "outputs": [
    {
     "data": {
      "text/html": [
       "<div>\n",
       "<style scoped>\n",
       "    .dataframe tbody tr th:only-of-type {\n",
       "        vertical-align: middle;\n",
       "    }\n",
       "\n",
       "    .dataframe tbody tr th {\n",
       "        vertical-align: top;\n",
       "    }\n",
       "\n",
       "    .dataframe thead th {\n",
       "        text-align: right;\n",
       "    }\n",
       "</style>\n",
       "<table border=\"1\" class=\"dataframe\">\n",
       "  <thead>\n",
       "    <tr style=\"text-align: right;\">\n",
       "      <th></th>\n",
       "      <th>0</th>\n",
       "    </tr>\n",
       "  </thead>\n",
       "  <tbody>\n",
       "    <tr>\n",
       "      <th>0</th>\n",
       "      <td>1</td>\n",
       "    </tr>\n",
       "    <tr>\n",
       "      <th>1</th>\n",
       "      <td>2</td>\n",
       "    </tr>\n",
       "    <tr>\n",
       "      <th>2</th>\n",
       "      <td>3</td>\n",
       "    </tr>\n",
       "  </tbody>\n",
       "</table>\n",
       "</div>"
      ],
      "text/plain": [
       "   0\n",
       "0  1\n",
       "1  2\n",
       "2  3"
      ]
     },
     "execution_count": 25,
     "metadata": {},
     "output_type": "execute_result"
    }
   ],
   "source": [
    "s = pd.Series(['a1', 'b2', 'c3'])\n",
    " \n",
    "# Extracting a data\n",
    "n= s.str.extract(r'(\\d)')\n",
    "n"
   ]
  },
  {
   "cell_type": "code",
   "execution_count": 26,
   "id": "65d93ce5",
   "metadata": {},
   "outputs": [
    {
     "data": {
      "text/html": [
       "<div>\n",
       "<style scoped>\n",
       "    .dataframe tbody tr th:only-of-type {\n",
       "        vertical-align: middle;\n",
       "    }\n",
       "\n",
       "    .dataframe tbody tr th {\n",
       "        vertical-align: top;\n",
       "    }\n",
       "\n",
       "    .dataframe thead th {\n",
       "        text-align: right;\n",
       "    }\n",
       "</style>\n",
       "<table border=\"1\" class=\"dataframe\">\n",
       "  <thead>\n",
       "    <tr style=\"text-align: right;\">\n",
       "      <th></th>\n",
       "      <th>Geeks</th>\n",
       "      <th>For</th>\n",
       "    </tr>\n",
       "  </thead>\n",
       "  <tbody>\n",
       "    <tr>\n",
       "      <th>0</th>\n",
       "      <td>a</td>\n",
       "      <td>1</td>\n",
       "    </tr>\n",
       "    <tr>\n",
       "      <th>1</th>\n",
       "      <td>b</td>\n",
       "      <td>2</td>\n",
       "    </tr>\n",
       "    <tr>\n",
       "      <th>2</th>\n",
       "      <td>NaN</td>\n",
       "      <td>NaN</td>\n",
       "    </tr>\n",
       "  </tbody>\n",
       "</table>\n",
       "</div>"
      ],
      "text/plain": [
       "  Geeks  For\n",
       "0     a    1\n",
       "1     b    2\n",
       "2   NaN  NaN"
      ]
     },
     "execution_count": 26,
     "metadata": {},
     "output_type": "execute_result"
    }
   ],
   "source": [
    "s = pd.Series(['a1', 'b2', 'c3'])\n",
    " \n",
    "# Extracting a data\n",
    "n = s.str.extract(r'(?P<Geeks>[ab])(?P<For>\\d)')\n",
    "n"
   ]
  },
  {
   "cell_type": "markdown",
   "id": "cfebf156",
   "metadata": {},
   "source": [
    "# Day 2"
   ]
  },
  {
   "cell_type": "code",
   "execution_count": 27,
   "id": "459b4345",
   "metadata": {},
   "outputs": [
    {
     "data": {
      "text/html": [
       "<div>\n",
       "<style scoped>\n",
       "    .dataframe tbody tr th:only-of-type {\n",
       "        vertical-align: middle;\n",
       "    }\n",
       "\n",
       "    .dataframe tbody tr th {\n",
       "        vertical-align: top;\n",
       "    }\n",
       "\n",
       "    .dataframe thead th {\n",
       "        text-align: right;\n",
       "    }\n",
       "</style>\n",
       "<table border=\"1\" class=\"dataframe\">\n",
       "  <thead>\n",
       "    <tr style=\"text-align: right;\">\n",
       "      <th></th>\n",
       "      <th>First Name</th>\n",
       "      <th>Gender</th>\n",
       "      <th>Start Date</th>\n",
       "      <th>Last Login Time</th>\n",
       "      <th>Salary</th>\n",
       "      <th>Bonus %</th>\n",
       "      <th>Senior Management</th>\n",
       "      <th>Team</th>\n",
       "    </tr>\n",
       "  </thead>\n",
       "  <tbody>\n",
       "    <tr>\n",
       "      <th>0</th>\n",
       "      <td>douglas</td>\n",
       "      <td>Male</td>\n",
       "      <td>8/6/1993</td>\n",
       "      <td>12:42 PM</td>\n",
       "      <td>97308</td>\n",
       "      <td>6.945</td>\n",
       "      <td>True</td>\n",
       "      <td>Marketing</td>\n",
       "    </tr>\n",
       "    <tr>\n",
       "      <th>1</th>\n",
       "      <td>thomas</td>\n",
       "      <td>Male</td>\n",
       "      <td>3/31/1996</td>\n",
       "      <td>6:53 AM</td>\n",
       "      <td>61933</td>\n",
       "      <td>4.170</td>\n",
       "      <td>True</td>\n",
       "      <td>NaN</td>\n",
       "    </tr>\n",
       "    <tr>\n",
       "      <th>2</th>\n",
       "      <td>maria</td>\n",
       "      <td>Female</td>\n",
       "      <td>4/23/1993</td>\n",
       "      <td>11:17 AM</td>\n",
       "      <td>130590</td>\n",
       "      <td>11.858</td>\n",
       "      <td>False</td>\n",
       "      <td>Finance</td>\n",
       "    </tr>\n",
       "    <tr>\n",
       "      <th>3</th>\n",
       "      <td>jerry</td>\n",
       "      <td>Male</td>\n",
       "      <td>3/4/2005</td>\n",
       "      <td>1:00 PM</td>\n",
       "      <td>138705</td>\n",
       "      <td>9.340</td>\n",
       "      <td>True</td>\n",
       "      <td>Finance</td>\n",
       "    </tr>\n",
       "    <tr>\n",
       "      <th>4</th>\n",
       "      <td>larry</td>\n",
       "      <td>Male</td>\n",
       "      <td>1/24/1998</td>\n",
       "      <td>4:47 PM</td>\n",
       "      <td>101004</td>\n",
       "      <td>1.389</td>\n",
       "      <td>True</td>\n",
       "      <td>Client Services</td>\n",
       "    </tr>\n",
       "    <tr>\n",
       "      <th>...</th>\n",
       "      <td>...</td>\n",
       "      <td>...</td>\n",
       "      <td>...</td>\n",
       "      <td>...</td>\n",
       "      <td>...</td>\n",
       "      <td>...</td>\n",
       "      <td>...</td>\n",
       "      <td>...</td>\n",
       "    </tr>\n",
       "    <tr>\n",
       "      <th>995</th>\n",
       "      <td>henry</td>\n",
       "      <td>NaN</td>\n",
       "      <td>11/23/2014</td>\n",
       "      <td>6:09 AM</td>\n",
       "      <td>132483</td>\n",
       "      <td>16.655</td>\n",
       "      <td>False</td>\n",
       "      <td>Distribution</td>\n",
       "    </tr>\n",
       "    <tr>\n",
       "      <th>996</th>\n",
       "      <td>phillip</td>\n",
       "      <td>Male</td>\n",
       "      <td>1/31/1984</td>\n",
       "      <td>6:30 AM</td>\n",
       "      <td>42392</td>\n",
       "      <td>19.675</td>\n",
       "      <td>False</td>\n",
       "      <td>Finance</td>\n",
       "    </tr>\n",
       "    <tr>\n",
       "      <th>997</th>\n",
       "      <td>russell</td>\n",
       "      <td>Male</td>\n",
       "      <td>5/20/2013</td>\n",
       "      <td>12:39 PM</td>\n",
       "      <td>96914</td>\n",
       "      <td>1.421</td>\n",
       "      <td>False</td>\n",
       "      <td>Product</td>\n",
       "    </tr>\n",
       "    <tr>\n",
       "      <th>998</th>\n",
       "      <td>larry</td>\n",
       "      <td>Male</td>\n",
       "      <td>4/20/2013</td>\n",
       "      <td>4:45 PM</td>\n",
       "      <td>60500</td>\n",
       "      <td>11.985</td>\n",
       "      <td>False</td>\n",
       "      <td>Business Development</td>\n",
       "    </tr>\n",
       "    <tr>\n",
       "      <th>999</th>\n",
       "      <td>albert</td>\n",
       "      <td>Male</td>\n",
       "      <td>5/15/2012</td>\n",
       "      <td>6:24 PM</td>\n",
       "      <td>129949</td>\n",
       "      <td>10.169</td>\n",
       "      <td>True</td>\n",
       "      <td>Sales</td>\n",
       "    </tr>\n",
       "  </tbody>\n",
       "</table>\n",
       "<p>1000 rows × 8 columns</p>\n",
       "</div>"
      ],
      "text/plain": [
       "    First Name  Gender  Start Date Last Login Time  Salary  Bonus %  \\\n",
       "0      douglas    Male    8/6/1993        12:42 PM   97308    6.945   \n",
       "1       thomas    Male   3/31/1996         6:53 AM   61933    4.170   \n",
       "2        maria  Female   4/23/1993        11:17 AM  130590   11.858   \n",
       "3        jerry    Male    3/4/2005         1:00 PM  138705    9.340   \n",
       "4        larry    Male   1/24/1998         4:47 PM  101004    1.389   \n",
       "..         ...     ...         ...             ...     ...      ...   \n",
       "995      henry     NaN  11/23/2014         6:09 AM  132483   16.655   \n",
       "996    phillip    Male   1/31/1984         6:30 AM   42392   19.675   \n",
       "997    russell    Male   5/20/2013        12:39 PM   96914    1.421   \n",
       "998      larry    Male   4/20/2013         4:45 PM   60500   11.985   \n",
       "999     albert    Male   5/15/2012         6:24 PM  129949   10.169   \n",
       "\n",
       "    Senior Management                  Team  \n",
       "0                True             Marketing  \n",
       "1                True                   NaN  \n",
       "2               False               Finance  \n",
       "3                True               Finance  \n",
       "4                True       Client Services  \n",
       "..                ...                   ...  \n",
       "995             False          Distribution  \n",
       "996             False               Finance  \n",
       "997             False               Product  \n",
       "998             False  Business Development  \n",
       "999              True                 Sales  \n",
       "\n",
       "[1000 rows x 8 columns]"
      ]
     },
     "execution_count": 27,
     "metadata": {},
     "output_type": "execute_result"
    }
   ],
   "source": [
    "import pandas as pd\n",
    "  \n",
    "# making data frame from csv file\n",
    "data = pd.read_csv(\"employees.csv\")\n",
    "  \n",
    "# converting and overwriting values in column\n",
    "data[\"First Name\"]= data[\"First Name\"].str.lower()\n",
    "  \n",
    "# display\n",
    "data"
   ]
  },
  {
   "cell_type": "code",
   "execution_count": 32,
   "id": "b8c4705e",
   "metadata": {},
   "outputs": [
    {
     "data": {
      "text/plain": [
       "0                 MARKETING\n",
       "1                       NaN\n",
       "2                   FINANCE\n",
       "3                   FINANCE\n",
       "4           CLIENT SERVICES\n",
       "               ...         \n",
       "995            DISTRIBUTION\n",
       "996                 FINANCE\n",
       "997                 PRODUCT\n",
       "998    BUSINESS DEVELOPMENT\n",
       "999                   SALES\n",
       "Name: Team, Length: 1000, dtype: object"
      ]
     },
     "execution_count": 32,
     "metadata": {},
     "output_type": "execute_result"
    }
   ],
   "source": [
    "data[\"Team\"]= data[\"Team\"].str.upper()\n",
    "data[\"Team\"]"
   ]
  },
  {
   "cell_type": "code",
   "execution_count": 33,
   "id": "37c2dc12",
   "metadata": {},
   "outputs": [
    {
     "data": {
      "text/plain": [
       "0                 Marketing\n",
       "1                       NaN\n",
       "2                   Finance\n",
       "3                   Finance\n",
       "4           Client Services\n",
       "               ...         \n",
       "995            Distribution\n",
       "996                 Finance\n",
       "997                 Product\n",
       "998    Business Development\n",
       "999                   Sales\n",
       "Name: Team, Length: 1000, dtype: object"
      ]
     },
     "execution_count": 33,
     "metadata": {},
     "output_type": "execute_result"
    }
   ],
   "source": [
    "data[\"Team\"]= data[\"Team\"].str.upper().str.title()\n",
    "data[\"Team\"]"
   ]
  },
  {
   "cell_type": "markdown",
   "id": "ae5cd579",
   "metadata": {},
   "source": [
    "# day 3"
   ]
  },
  {
   "cell_type": "code",
   "execution_count": 34,
   "id": "566586ef",
   "metadata": {},
   "outputs": [
    {
     "data": {
      "text/html": [
       "<div>\n",
       "<style scoped>\n",
       "    .dataframe tbody tr th:only-of-type {\n",
       "        vertical-align: middle;\n",
       "    }\n",
       "\n",
       "    .dataframe tbody tr th {\n",
       "        vertical-align: top;\n",
       "    }\n",
       "\n",
       "    .dataframe thead th {\n",
       "        text-align: right;\n",
       "    }\n",
       "</style>\n",
       "<table border=\"1\" class=\"dataframe\">\n",
       "  <thead>\n",
       "    <tr style=\"text-align: right;\">\n",
       "      <th></th>\n",
       "      <th>Name</th>\n",
       "      <th>Team</th>\n",
       "      <th>Number</th>\n",
       "      <th>Position</th>\n",
       "      <th>Age</th>\n",
       "      <th>Height</th>\n",
       "      <th>Weight</th>\n",
       "      <th>College</th>\n",
       "      <th>Salary</th>\n",
       "    </tr>\n",
       "  </thead>\n",
       "  <tbody>\n",
       "    <tr>\n",
       "      <th>0</th>\n",
       "      <td>Avery Bradley</td>\n",
       "      <td>Boston Celtics</td>\n",
       "      <td>0.0</td>\n",
       "      <td>PG</td>\n",
       "      <td>Twenty five</td>\n",
       "      <td>6-2</td>\n",
       "      <td>180.0</td>\n",
       "      <td>Texas</td>\n",
       "      <td>7730337.0</td>\n",
       "    </tr>\n",
       "    <tr>\n",
       "      <th>1</th>\n",
       "      <td>Jae Crowder</td>\n",
       "      <td>Boston Celtics</td>\n",
       "      <td>99.0</td>\n",
       "      <td>SF</td>\n",
       "      <td>Twenty five</td>\n",
       "      <td>6-6</td>\n",
       "      <td>235.0</td>\n",
       "      <td>Marquette</td>\n",
       "      <td>6796117.0</td>\n",
       "    </tr>\n",
       "    <tr>\n",
       "      <th>7</th>\n",
       "      <td>Kelly Olynyk</td>\n",
       "      <td>Boston Celtics</td>\n",
       "      <td>41.0</td>\n",
       "      <td>C</td>\n",
       "      <td>Twenty five</td>\n",
       "      <td>7-0</td>\n",
       "      <td>238.0</td>\n",
       "      <td>Gonzaga</td>\n",
       "      <td>2165160.0</td>\n",
       "    </tr>\n",
       "    <tr>\n",
       "      <th>26</th>\n",
       "      <td>Thomas Robinson</td>\n",
       "      <td>Brooklyn Nets</td>\n",
       "      <td>41.0</td>\n",
       "      <td>PF</td>\n",
       "      <td>Twenty five</td>\n",
       "      <td>6-10</td>\n",
       "      <td>237.0</td>\n",
       "      <td>Kansas</td>\n",
       "      <td>981348.0</td>\n",
       "    </tr>\n",
       "    <tr>\n",
       "      <th>35</th>\n",
       "      <td>Cleanthony Early</td>\n",
       "      <td>New York Knicks</td>\n",
       "      <td>11.0</td>\n",
       "      <td>SF</td>\n",
       "      <td>Twenty five</td>\n",
       "      <td>6-8</td>\n",
       "      <td>210.0</td>\n",
       "      <td>Wichita State</td>\n",
       "      <td>845059.0</td>\n",
       "    </tr>\n",
       "    <tr>\n",
       "      <th>44</th>\n",
       "      <td>Derrick Williams</td>\n",
       "      <td>New York Knicks</td>\n",
       "      <td>23.0</td>\n",
       "      <td>PF</td>\n",
       "      <td>Twenty five</td>\n",
       "      <td>6-8</td>\n",
       "      <td>240.0</td>\n",
       "      <td>Arizona</td>\n",
       "      <td>4000000.0</td>\n",
       "    </tr>\n",
       "    <tr>\n",
       "      <th>47</th>\n",
       "      <td>Isaiah Canaan</td>\n",
       "      <td>Philadelphia 76ers</td>\n",
       "      <td>0.0</td>\n",
       "      <td>PG</td>\n",
       "      <td>Twenty five</td>\n",
       "      <td>6-0</td>\n",
       "      <td>201.0</td>\n",
       "      <td>Murray State</td>\n",
       "      <td>947276.0</td>\n",
       "    </tr>\n",
       "    <tr>\n",
       "      <th>48</th>\n",
       "      <td>Robert Covington</td>\n",
       "      <td>Philadelphia 76ers</td>\n",
       "      <td>33.0</td>\n",
       "      <td>SF</td>\n",
       "      <td>Twenty five</td>\n",
       "      <td>6-9</td>\n",
       "      <td>215.0</td>\n",
       "      <td>Tennessee State</td>\n",
       "      <td>1000000.0</td>\n",
       "    </tr>\n",
       "    <tr>\n",
       "      <th>59</th>\n",
       "      <td>Hollis Thompson</td>\n",
       "      <td>Philadelphia 76ers</td>\n",
       "      <td>31.0</td>\n",
       "      <td>SG</td>\n",
       "      <td>Twenty five</td>\n",
       "      <td>6-8</td>\n",
       "      <td>206.0</td>\n",
       "      <td>Georgetown</td>\n",
       "      <td>947276.0</td>\n",
       "    </tr>\n",
       "    <tr>\n",
       "      <th>71</th>\n",
       "      <td>Terrence Ross</td>\n",
       "      <td>Toronto Raptors</td>\n",
       "      <td>31.0</td>\n",
       "      <td>SF</td>\n",
       "      <td>Twenty five</td>\n",
       "      <td>6-7</td>\n",
       "      <td>195.0</td>\n",
       "      <td>Washington</td>\n",
       "      <td>3553917.0</td>\n",
       "    </tr>\n",
       "    <tr>\n",
       "      <th>79</th>\n",
       "      <td>Ian Clark</td>\n",
       "      <td>Golden State Warriors</td>\n",
       "      <td>21.0</td>\n",
       "      <td>SG</td>\n",
       "      <td>Twenty five</td>\n",
       "      <td>6-3</td>\n",
       "      <td>175.0</td>\n",
       "      <td>Belmont</td>\n",
       "      <td>947276.0</td>\n",
       "    </tr>\n",
       "    <tr>\n",
       "      <th>105</th>\n",
       "      <td>C.J. Wilcox</td>\n",
       "      <td>Los Angeles Clippers</td>\n",
       "      <td>30.0</td>\n",
       "      <td>SG</td>\n",
       "      <td>Twenty five</td>\n",
       "      <td>6-5</td>\n",
       "      <td>195.0</td>\n",
       "      <td>Washington</td>\n",
       "      <td>1159680.0</td>\n",
       "    </tr>\n",
       "    <tr>\n",
       "      <th>113</th>\n",
       "      <td>Ryan Kelly</td>\n",
       "      <td>Los Angeles Lakers</td>\n",
       "      <td>4.0</td>\n",
       "      <td>PF</td>\n",
       "      <td>Twenty five</td>\n",
       "      <td>6-11</td>\n",
       "      <td>230.0</td>\n",
       "      <td>Duke</td>\n",
       "      <td>1724250.0</td>\n",
       "    </tr>\n",
       "    <tr>\n",
       "      <th>126</th>\n",
       "      <td>John Jenkins</td>\n",
       "      <td>Phoenix Suns</td>\n",
       "      <td>23.0</td>\n",
       "      <td>SG</td>\n",
       "      <td>Twenty five</td>\n",
       "      <td>6-4</td>\n",
       "      <td>215.0</td>\n",
       "      <td>Vanderbilt</td>\n",
       "      <td>981348.0</td>\n",
       "    </tr>\n",
       "    <tr>\n",
       "      <th>130</th>\n",
       "      <td>Phil Pressey</td>\n",
       "      <td>Phoenix Suns</td>\n",
       "      <td>25.0</td>\n",
       "      <td>PG</td>\n",
       "      <td>Twenty five</td>\n",
       "      <td>5-11</td>\n",
       "      <td>175.0</td>\n",
       "      <td>Missouri</td>\n",
       "      <td>55722.0</td>\n",
       "    </tr>\n",
       "    <tr>\n",
       "      <th>136</th>\n",
       "      <td>Quincy Acy</td>\n",
       "      <td>Sacramento Kings</td>\n",
       "      <td>13.0</td>\n",
       "      <td>SF</td>\n",
       "      <td>Twenty five</td>\n",
       "      <td>6-7</td>\n",
       "      <td>240.0</td>\n",
       "      <td>Baylor</td>\n",
       "      <td>981348.0</td>\n",
       "    </tr>\n",
       "    <tr>\n",
       "      <th>143</th>\n",
       "      <td>DeMarcus Cousins</td>\n",
       "      <td>Sacramento Kings</td>\n",
       "      <td>15.0</td>\n",
       "      <td>C</td>\n",
       "      <td>Twenty five</td>\n",
       "      <td>6-11</td>\n",
       "      <td>270.0</td>\n",
       "      <td>Kentucky</td>\n",
       "      <td>15851950.0</td>\n",
       "    </tr>\n",
       "    <tr>\n",
       "      <th>144</th>\n",
       "      <td>Seth Curry</td>\n",
       "      <td>Sacramento Kings</td>\n",
       "      <td>30.0</td>\n",
       "      <td>SG</td>\n",
       "      <td>Twenty five</td>\n",
       "      <td>6-2</td>\n",
       "      <td>185.0</td>\n",
       "      <td>Duke</td>\n",
       "      <td>947276.0</td>\n",
       "    </tr>\n",
       "    <tr>\n",
       "      <th>151</th>\n",
       "      <td>Cameron Bairstow</td>\n",
       "      <td>Chicago Bulls</td>\n",
       "      <td>41.0</td>\n",
       "      <td>PF</td>\n",
       "      <td>Twenty five</td>\n",
       "      <td>6-9</td>\n",
       "      <td>250.0</td>\n",
       "      <td>New Mexico</td>\n",
       "      <td>845059.0</td>\n",
       "    </tr>\n",
       "    <tr>\n",
       "      <th>166</th>\n",
       "      <td>Matthew Dellavedova</td>\n",
       "      <td>Cleveland Cavaliers</td>\n",
       "      <td>8.0</td>\n",
       "      <td>PG</td>\n",
       "      <td>Twenty five</td>\n",
       "      <td>6-4</td>\n",
       "      <td>198.0</td>\n",
       "      <td>Saint Mary's</td>\n",
       "      <td>1147276.0</td>\n",
       "    </tr>\n",
       "    <tr>\n",
       "      <th>175</th>\n",
       "      <td>Jordan McRae</td>\n",
       "      <td>Cleveland Cavaliers</td>\n",
       "      <td>12.0</td>\n",
       "      <td>SG</td>\n",
       "      <td>Twenty five</td>\n",
       "      <td>6-5</td>\n",
       "      <td>179.0</td>\n",
       "      <td>Tennessee</td>\n",
       "      <td>111196.0</td>\n",
       "    </tr>\n",
       "    <tr>\n",
       "      <th>177</th>\n",
       "      <td>Iman Shumpert</td>\n",
       "      <td>Cleveland Cavaliers</td>\n",
       "      <td>4.0</td>\n",
       "      <td>SG</td>\n",
       "      <td>Twenty five</td>\n",
       "      <td>6-5</td>\n",
       "      <td>220.0</td>\n",
       "      <td>Georgia Tech</td>\n",
       "      <td>8988765.0</td>\n",
       "    </tr>\n",
       "    <tr>\n",
       "      <th>179</th>\n",
       "      <td>Tristan Thompson</td>\n",
       "      <td>Cleveland Cavaliers</td>\n",
       "      <td>13.0</td>\n",
       "      <td>C</td>\n",
       "      <td>Twenty five</td>\n",
       "      <td>6-9</td>\n",
       "      <td>238.0</td>\n",
       "      <td>Texas</td>\n",
       "      <td>14260870.0</td>\n",
       "    </tr>\n",
       "    <tr>\n",
       "      <th>184</th>\n",
       "      <td>Lorenzo Brown</td>\n",
       "      <td>Detroit Pistons</td>\n",
       "      <td>17.0</td>\n",
       "      <td>PG</td>\n",
       "      <td>Twenty five</td>\n",
       "      <td>6-5</td>\n",
       "      <td>189.0</td>\n",
       "      <td>North Carolina State</td>\n",
       "      <td>111444.0</td>\n",
       "    </tr>\n",
       "    <tr>\n",
       "      <th>185</th>\n",
       "      <td>Reggie Bullock</td>\n",
       "      <td>Detroit Pistons</td>\n",
       "      <td>25.0</td>\n",
       "      <td>SF</td>\n",
       "      <td>Twenty five</td>\n",
       "      <td>6-7</td>\n",
       "      <td>205.0</td>\n",
       "      <td>North Carolina</td>\n",
       "      <td>1252440.0</td>\n",
       "    </tr>\n",
       "    <tr>\n",
       "      <th>202</th>\n",
       "      <td>Solomon Hill</td>\n",
       "      <td>Indiana Pacers</td>\n",
       "      <td>44.0</td>\n",
       "      <td>SF</td>\n",
       "      <td>Twenty five</td>\n",
       "      <td>6-7</td>\n",
       "      <td>225.0</td>\n",
       "      <td>Arizona</td>\n",
       "      <td>1358880.0</td>\n",
       "    </tr>\n",
       "    <tr>\n",
       "      <th>209</th>\n",
       "      <td>Shayne Whittington</td>\n",
       "      <td>Indiana Pacers</td>\n",
       "      <td>42.0</td>\n",
       "      <td>PF</td>\n",
       "      <td>Twenty five</td>\n",
       "      <td>6-11</td>\n",
       "      <td>250.0</td>\n",
       "      <td>Western Michigan</td>\n",
       "      <td>845059.0</td>\n",
       "    </tr>\n",
       "    <tr>\n",
       "      <th>214</th>\n",
       "      <td>Jared Cunningham</td>\n",
       "      <td>Milwaukee Bucks</td>\n",
       "      <td>9.0</td>\n",
       "      <td>SG</td>\n",
       "      <td>Twenty five</td>\n",
       "      <td>6-4</td>\n",
       "      <td>195.0</td>\n",
       "      <td>Oregon State</td>\n",
       "      <td>947276.0</td>\n",
       "    </tr>\n",
       "    <tr>\n",
       "      <th>216</th>\n",
       "      <td>John Henson</td>\n",
       "      <td>Milwaukee Bucks</td>\n",
       "      <td>31.0</td>\n",
       "      <td>PF</td>\n",
       "      <td>Twenty five</td>\n",
       "      <td>6-11</td>\n",
       "      <td>229.0</td>\n",
       "      <td>North Carolina</td>\n",
       "      <td>2943221.0</td>\n",
       "    </tr>\n",
       "    <tr>\n",
       "      <th>266</th>\n",
       "      <td>JaMychal Green</td>\n",
       "      <td>Memphis Grizzlies</td>\n",
       "      <td>0.0</td>\n",
       "      <td>PF</td>\n",
       "      <td>Twenty five</td>\n",
       "      <td>6-9</td>\n",
       "      <td>227.0</td>\n",
       "      <td>Alabama</td>\n",
       "      <td>845059.0</td>\n",
       "    </tr>\n",
       "    <tr>\n",
       "      <th>272</th>\n",
       "      <td>Lance Stephenson</td>\n",
       "      <td>Memphis Grizzlies</td>\n",
       "      <td>1.0</td>\n",
       "      <td>SF</td>\n",
       "      <td>Twenty five</td>\n",
       "      <td>6-5</td>\n",
       "      <td>230.0</td>\n",
       "      <td>Cincinnati</td>\n",
       "      <td>9000000.0</td>\n",
       "    </tr>\n",
       "    <tr>\n",
       "      <th>284</th>\n",
       "      <td>James Ennis</td>\n",
       "      <td>New Orleans Pelicans</td>\n",
       "      <td>4.0</td>\n",
       "      <td>SF</td>\n",
       "      <td>Twenty five</td>\n",
       "      <td>6-7</td>\n",
       "      <td>210.0</td>\n",
       "      <td>Long Beach State</td>\n",
       "      <td>845059.0</td>\n",
       "    </tr>\n",
       "    <tr>\n",
       "      <th>286</th>\n",
       "      <td>Tim Frazier</td>\n",
       "      <td>New Orleans Pelicans</td>\n",
       "      <td>2.0</td>\n",
       "      <td>PG</td>\n",
       "      <td>Twenty five</td>\n",
       "      <td>6-1</td>\n",
       "      <td>170.0</td>\n",
       "      <td>Penn State</td>\n",
       "      <td>845059.0</td>\n",
       "    </tr>\n",
       "    <tr>\n",
       "      <th>289</th>\n",
       "      <td>Jordan Hamilton</td>\n",
       "      <td>New Orleans Pelicans</td>\n",
       "      <td>25.0</td>\n",
       "      <td>SG</td>\n",
       "      <td>Twenty five</td>\n",
       "      <td>6-7</td>\n",
       "      <td>220.0</td>\n",
       "      <td>Texas</td>\n",
       "      <td>1015421.0</td>\n",
       "    </tr>\n",
       "    <tr>\n",
       "      <th>290</th>\n",
       "      <td>Jrue Holiday</td>\n",
       "      <td>New Orleans Pelicans</td>\n",
       "      <td>11.0</td>\n",
       "      <td>PG</td>\n",
       "      <td>Twenty five</td>\n",
       "      <td>6-4</td>\n",
       "      <td>205.0</td>\n",
       "      <td>UCLA</td>\n",
       "      <td>10595507.0</td>\n",
       "    </tr>\n",
       "    <tr>\n",
       "      <th>366</th>\n",
       "      <td>Nikola Vucevic</td>\n",
       "      <td>Orlando Magic</td>\n",
       "      <td>9.0</td>\n",
       "      <td>C</td>\n",
       "      <td>Twenty five</td>\n",
       "      <td>7-0</td>\n",
       "      <td>260.0</td>\n",
       "      <td>USC</td>\n",
       "      <td>11250000.0</td>\n",
       "    </tr>\n",
       "    <tr>\n",
       "      <th>382</th>\n",
       "      <td>John Wall</td>\n",
       "      <td>Washington Wizards</td>\n",
       "      <td>2.0</td>\n",
       "      <td>PG</td>\n",
       "      <td>Twenty five</td>\n",
       "      <td>6-4</td>\n",
       "      <td>195.0</td>\n",
       "      <td>Kentucky</td>\n",
       "      <td>15851950.0</td>\n",
       "    </tr>\n",
       "    <tr>\n",
       "      <th>385</th>\n",
       "      <td>Will Barton</td>\n",
       "      <td>Denver Nuggets</td>\n",
       "      <td>5.0</td>\n",
       "      <td>SF</td>\n",
       "      <td>Twenty five</td>\n",
       "      <td>6-6</td>\n",
       "      <td>175.0</td>\n",
       "      <td>Memphis</td>\n",
       "      <td>3533333.0</td>\n",
       "    </tr>\n",
       "    <tr>\n",
       "      <th>404</th>\n",
       "      <td>Adreian Payne</td>\n",
       "      <td>Minnesota Timberwolves</td>\n",
       "      <td>33.0</td>\n",
       "      <td>PF</td>\n",
       "      <td>Twenty five</td>\n",
       "      <td>6-10</td>\n",
       "      <td>237.0</td>\n",
       "      <td>Michigan State</td>\n",
       "      <td>1938840.0</td>\n",
       "    </tr>\n",
       "    <tr>\n",
       "      <th>428</th>\n",
       "      <td>Al-Farouq Aminu</td>\n",
       "      <td>Portland Trail Blazers</td>\n",
       "      <td>8.0</td>\n",
       "      <td>SF</td>\n",
       "      <td>Twenty five</td>\n",
       "      <td>6-9</td>\n",
       "      <td>215.0</td>\n",
       "      <td>Wake Forest</td>\n",
       "      <td>8042895.0</td>\n",
       "    </tr>\n",
       "    <tr>\n",
       "      <th>436</th>\n",
       "      <td>Damian Lillard</td>\n",
       "      <td>Portland Trail Blazers</td>\n",
       "      <td>0.0</td>\n",
       "      <td>PG</td>\n",
       "      <td>Twenty five</td>\n",
       "      <td>6-3</td>\n",
       "      <td>195.0</td>\n",
       "      <td>Weber State</td>\n",
       "      <td>4236287.0</td>\n",
       "    </tr>\n",
       "  </tbody>\n",
       "</table>\n",
       "</div>"
      ],
      "text/plain": [
       "                    Name                    Team  Number Position  \\\n",
       "0          Avery Bradley          Boston Celtics     0.0       PG   \n",
       "1            Jae Crowder          Boston Celtics    99.0       SF   \n",
       "7           Kelly Olynyk          Boston Celtics    41.0        C   \n",
       "26       Thomas Robinson           Brooklyn Nets    41.0       PF   \n",
       "35      Cleanthony Early         New York Knicks    11.0       SF   \n",
       "44      Derrick Williams         New York Knicks    23.0       PF   \n",
       "47         Isaiah Canaan      Philadelphia 76ers     0.0       PG   \n",
       "48      Robert Covington      Philadelphia 76ers    33.0       SF   \n",
       "59       Hollis Thompson      Philadelphia 76ers    31.0       SG   \n",
       "71         Terrence Ross         Toronto Raptors    31.0       SF   \n",
       "79             Ian Clark   Golden State Warriors    21.0       SG   \n",
       "105          C.J. Wilcox    Los Angeles Clippers    30.0       SG   \n",
       "113           Ryan Kelly      Los Angeles Lakers     4.0       PF   \n",
       "126         John Jenkins            Phoenix Suns    23.0       SG   \n",
       "130         Phil Pressey            Phoenix Suns    25.0       PG   \n",
       "136           Quincy Acy        Sacramento Kings    13.0       SF   \n",
       "143     DeMarcus Cousins        Sacramento Kings    15.0        C   \n",
       "144           Seth Curry        Sacramento Kings    30.0       SG   \n",
       "151     Cameron Bairstow           Chicago Bulls    41.0       PF   \n",
       "166  Matthew Dellavedova     Cleveland Cavaliers     8.0       PG   \n",
       "175         Jordan McRae     Cleveland Cavaliers    12.0       SG   \n",
       "177        Iman Shumpert     Cleveland Cavaliers     4.0       SG   \n",
       "179     Tristan Thompson     Cleveland Cavaliers    13.0        C   \n",
       "184        Lorenzo Brown         Detroit Pistons    17.0       PG   \n",
       "185       Reggie Bullock         Detroit Pistons    25.0       SF   \n",
       "202         Solomon Hill          Indiana Pacers    44.0       SF   \n",
       "209   Shayne Whittington          Indiana Pacers    42.0       PF   \n",
       "214     Jared Cunningham         Milwaukee Bucks     9.0       SG   \n",
       "216          John Henson         Milwaukee Bucks    31.0       PF   \n",
       "266       JaMychal Green       Memphis Grizzlies     0.0       PF   \n",
       "272     Lance Stephenson       Memphis Grizzlies     1.0       SF   \n",
       "284          James Ennis    New Orleans Pelicans     4.0       SF   \n",
       "286          Tim Frazier    New Orleans Pelicans     2.0       PG   \n",
       "289      Jordan Hamilton    New Orleans Pelicans    25.0       SG   \n",
       "290         Jrue Holiday    New Orleans Pelicans    11.0       PG   \n",
       "366       Nikola Vucevic           Orlando Magic     9.0        C   \n",
       "382            John Wall      Washington Wizards     2.0       PG   \n",
       "385          Will Barton          Denver Nuggets     5.0       SF   \n",
       "404        Adreian Payne  Minnesota Timberwolves    33.0       PF   \n",
       "428      Al-Farouq Aminu  Portland Trail Blazers     8.0       SF   \n",
       "436       Damian Lillard  Portland Trail Blazers     0.0       PG   \n",
       "\n",
       "             Age Height  Weight               College      Salary  \n",
       "0    Twenty five    6-2   180.0                 Texas   7730337.0  \n",
       "1    Twenty five    6-6   235.0             Marquette   6796117.0  \n",
       "7    Twenty five    7-0   238.0               Gonzaga   2165160.0  \n",
       "26   Twenty five   6-10   237.0                Kansas    981348.0  \n",
       "35   Twenty five    6-8   210.0         Wichita State    845059.0  \n",
       "44   Twenty five    6-8   240.0               Arizona   4000000.0  \n",
       "47   Twenty five    6-0   201.0          Murray State    947276.0  \n",
       "48   Twenty five    6-9   215.0       Tennessee State   1000000.0  \n",
       "59   Twenty five    6-8   206.0            Georgetown    947276.0  \n",
       "71   Twenty five    6-7   195.0            Washington   3553917.0  \n",
       "79   Twenty five    6-3   175.0               Belmont    947276.0  \n",
       "105  Twenty five    6-5   195.0            Washington   1159680.0  \n",
       "113  Twenty five   6-11   230.0                  Duke   1724250.0  \n",
       "126  Twenty five    6-4   215.0            Vanderbilt    981348.0  \n",
       "130  Twenty five   5-11   175.0              Missouri     55722.0  \n",
       "136  Twenty five    6-7   240.0                Baylor    981348.0  \n",
       "143  Twenty five   6-11   270.0              Kentucky  15851950.0  \n",
       "144  Twenty five    6-2   185.0                  Duke    947276.0  \n",
       "151  Twenty five    6-9   250.0            New Mexico    845059.0  \n",
       "166  Twenty five    6-4   198.0          Saint Mary's   1147276.0  \n",
       "175  Twenty five    6-5   179.0             Tennessee    111196.0  \n",
       "177  Twenty five    6-5   220.0          Georgia Tech   8988765.0  \n",
       "179  Twenty five    6-9   238.0                 Texas  14260870.0  \n",
       "184  Twenty five    6-5   189.0  North Carolina State    111444.0  \n",
       "185  Twenty five    6-7   205.0        North Carolina   1252440.0  \n",
       "202  Twenty five    6-7   225.0               Arizona   1358880.0  \n",
       "209  Twenty five   6-11   250.0      Western Michigan    845059.0  \n",
       "214  Twenty five    6-4   195.0          Oregon State    947276.0  \n",
       "216  Twenty five   6-11   229.0        North Carolina   2943221.0  \n",
       "266  Twenty five    6-9   227.0               Alabama    845059.0  \n",
       "272  Twenty five    6-5   230.0            Cincinnati   9000000.0  \n",
       "284  Twenty five    6-7   210.0      Long Beach State    845059.0  \n",
       "286  Twenty five    6-1   170.0            Penn State    845059.0  \n",
       "289  Twenty five    6-7   220.0                 Texas   1015421.0  \n",
       "290  Twenty five    6-4   205.0                  UCLA  10595507.0  \n",
       "366  Twenty five    7-0   260.0                   USC  11250000.0  \n",
       "382  Twenty five    6-4   195.0              Kentucky  15851950.0  \n",
       "385  Twenty five    6-6   175.0               Memphis   3533333.0  \n",
       "404  Twenty five   6-10   237.0        Michigan State   1938840.0  \n",
       "428  Twenty five    6-9   215.0           Wake Forest   8042895.0  \n",
       "436  Twenty five    6-3   195.0           Weber State   4236287.0  "
      ]
     },
     "execution_count": 34,
     "metadata": {},
     "output_type": "execute_result"
    }
   ],
   "source": [
    "data = pd.read_csv(\"https://media.geeksforgeeks.org/wp-content/uploads/nba.csv\")\n",
    " \n",
    "# overwriting column with replaced value of age\n",
    "data[\"Age\"]= data[\"Age\"].replace(25.0, \"Twenty five\")\n",
    " \n",
    "# creating a filter for age column\n",
    "# where age = \"Twenty five\"\n",
    "filter = data[\"Age\"]==\"Twenty five\"\n",
    " \n",
    "# printing only filtered columns\n",
    "data.where(filter).dropna()"
   ]
  },
  {
   "cell_type": "code",
   "execution_count": 36,
   "id": "2ed42d18",
   "metadata": {},
   "outputs": [
    {
     "data": {
      "text/html": [
       "<div>\n",
       "<style scoped>\n",
       "    .dataframe tbody tr th:only-of-type {\n",
       "        vertical-align: middle;\n",
       "    }\n",
       "\n",
       "    .dataframe tbody tr th {\n",
       "        vertical-align: top;\n",
       "    }\n",
       "\n",
       "    .dataframe thead th {\n",
       "        text-align: right;\n",
       "    }\n",
       "</style>\n",
       "<table border=\"1\" class=\"dataframe\">\n",
       "  <thead>\n",
       "    <tr style=\"text-align: right;\">\n",
       "      <th></th>\n",
       "      <th>Name</th>\n",
       "      <th>Team</th>\n",
       "      <th>Number</th>\n",
       "      <th>Position</th>\n",
       "      <th>Age</th>\n",
       "      <th>Height</th>\n",
       "      <th>Weight</th>\n",
       "      <th>College</th>\n",
       "      <th>Salary</th>\n",
       "    </tr>\n",
       "  </thead>\n",
       "  <tbody>\n",
       "    <tr>\n",
       "      <th>0</th>\n",
       "      <td>Avery Bradley</td>\n",
       "      <td>New Boston Celtics</td>\n",
       "      <td>0.0</td>\n",
       "      <td>PG</td>\n",
       "      <td>25.0</td>\n",
       "      <td>6-2</td>\n",
       "      <td>180.0</td>\n",
       "      <td>Texas</td>\n",
       "      <td>7730337.0</td>\n",
       "    </tr>\n",
       "    <tr>\n",
       "      <th>1</th>\n",
       "      <td>Jae Crowder</td>\n",
       "      <td>New Boston Celtics</td>\n",
       "      <td>99.0</td>\n",
       "      <td>SF</td>\n",
       "      <td>25.0</td>\n",
       "      <td>6-6</td>\n",
       "      <td>235.0</td>\n",
       "      <td>Marquette</td>\n",
       "      <td>6796117.0</td>\n",
       "    </tr>\n",
       "    <tr>\n",
       "      <th>3</th>\n",
       "      <td>R.J. Hunter</td>\n",
       "      <td>New Boston Celtics</td>\n",
       "      <td>28.0</td>\n",
       "      <td>SG</td>\n",
       "      <td>22.0</td>\n",
       "      <td>6-5</td>\n",
       "      <td>185.0</td>\n",
       "      <td>Georgia State</td>\n",
       "      <td>1148640.0</td>\n",
       "    </tr>\n",
       "    <tr>\n",
       "      <th>6</th>\n",
       "      <td>Jordan Mickey</td>\n",
       "      <td>New Boston Celtics</td>\n",
       "      <td>55.0</td>\n",
       "      <td>PF</td>\n",
       "      <td>21.0</td>\n",
       "      <td>6-8</td>\n",
       "      <td>235.0</td>\n",
       "      <td>LSU</td>\n",
       "      <td>1170960.0</td>\n",
       "    </tr>\n",
       "    <tr>\n",
       "      <th>7</th>\n",
       "      <td>Kelly Olynyk</td>\n",
       "      <td>New Boston Celtics</td>\n",
       "      <td>41.0</td>\n",
       "      <td>C</td>\n",
       "      <td>25.0</td>\n",
       "      <td>7-0</td>\n",
       "      <td>238.0</td>\n",
       "      <td>Gonzaga</td>\n",
       "      <td>2165160.0</td>\n",
       "    </tr>\n",
       "    <tr>\n",
       "      <th>8</th>\n",
       "      <td>Terry Rozier</td>\n",
       "      <td>New Boston Celtics</td>\n",
       "      <td>12.0</td>\n",
       "      <td>PG</td>\n",
       "      <td>22.0</td>\n",
       "      <td>6-2</td>\n",
       "      <td>190.0</td>\n",
       "      <td>Louisville</td>\n",
       "      <td>1824360.0</td>\n",
       "    </tr>\n",
       "    <tr>\n",
       "      <th>9</th>\n",
       "      <td>Marcus Smart</td>\n",
       "      <td>New Boston Celtics</td>\n",
       "      <td>36.0</td>\n",
       "      <td>PG</td>\n",
       "      <td>22.0</td>\n",
       "      <td>6-4</td>\n",
       "      <td>220.0</td>\n",
       "      <td>Oklahoma State</td>\n",
       "      <td>3431040.0</td>\n",
       "    </tr>\n",
       "    <tr>\n",
       "      <th>10</th>\n",
       "      <td>Jared Sullinger</td>\n",
       "      <td>New Boston Celtics</td>\n",
       "      <td>7.0</td>\n",
       "      <td>C</td>\n",
       "      <td>24.0</td>\n",
       "      <td>6-9</td>\n",
       "      <td>260.0</td>\n",
       "      <td>Ohio State</td>\n",
       "      <td>2569260.0</td>\n",
       "    </tr>\n",
       "    <tr>\n",
       "      <th>11</th>\n",
       "      <td>Isaiah Thomas</td>\n",
       "      <td>New Boston Celtics</td>\n",
       "      <td>4.0</td>\n",
       "      <td>PG</td>\n",
       "      <td>27.0</td>\n",
       "      <td>5-9</td>\n",
       "      <td>185.0</td>\n",
       "      <td>Washington</td>\n",
       "      <td>6912869.0</td>\n",
       "    </tr>\n",
       "    <tr>\n",
       "      <th>12</th>\n",
       "      <td>Evan Turner</td>\n",
       "      <td>New Boston Celtics</td>\n",
       "      <td>11.0</td>\n",
       "      <td>SG</td>\n",
       "      <td>27.0</td>\n",
       "      <td>6-7</td>\n",
       "      <td>220.0</td>\n",
       "      <td>Ohio State</td>\n",
       "      <td>3425510.0</td>\n",
       "    </tr>\n",
       "    <tr>\n",
       "      <th>13</th>\n",
       "      <td>James Young</td>\n",
       "      <td>New Boston Celtics</td>\n",
       "      <td>13.0</td>\n",
       "      <td>SG</td>\n",
       "      <td>20.0</td>\n",
       "      <td>6-6</td>\n",
       "      <td>215.0</td>\n",
       "      <td>Kentucky</td>\n",
       "      <td>1749840.0</td>\n",
       "    </tr>\n",
       "    <tr>\n",
       "      <th>14</th>\n",
       "      <td>Tyler Zeller</td>\n",
       "      <td>New Boston Celtics</td>\n",
       "      <td>44.0</td>\n",
       "      <td>C</td>\n",
       "      <td>26.0</td>\n",
       "      <td>7-0</td>\n",
       "      <td>253.0</td>\n",
       "      <td>North Carolina</td>\n",
       "      <td>2616975.0</td>\n",
       "    </tr>\n",
       "  </tbody>\n",
       "</table>\n",
       "</div>"
      ],
      "text/plain": [
       "               Name                Team  Number Position   Age Height  Weight  \\\n",
       "0     Avery Bradley  New Boston Celtics     0.0       PG  25.0    6-2   180.0   \n",
       "1       Jae Crowder  New Boston Celtics    99.0       SF  25.0    6-6   235.0   \n",
       "3       R.J. Hunter  New Boston Celtics    28.0       SG  22.0    6-5   185.0   \n",
       "6     Jordan Mickey  New Boston Celtics    55.0       PF  21.0    6-8   235.0   \n",
       "7      Kelly Olynyk  New Boston Celtics    41.0        C  25.0    7-0   238.0   \n",
       "8      Terry Rozier  New Boston Celtics    12.0       PG  22.0    6-2   190.0   \n",
       "9      Marcus Smart  New Boston Celtics    36.0       PG  22.0    6-4   220.0   \n",
       "10  Jared Sullinger  New Boston Celtics     7.0        C  24.0    6-9   260.0   \n",
       "11    Isaiah Thomas  New Boston Celtics     4.0       PG  27.0    5-9   185.0   \n",
       "12      Evan Turner  New Boston Celtics    11.0       SG  27.0    6-7   220.0   \n",
       "13      James Young  New Boston Celtics    13.0       SG  20.0    6-6   215.0   \n",
       "14     Tyler Zeller  New Boston Celtics    44.0        C  26.0    7-0   253.0   \n",
       "\n",
       "           College     Salary  \n",
       "0            Texas  7730337.0  \n",
       "1        Marquette  6796117.0  \n",
       "3    Georgia State  1148640.0  \n",
       "6              LSU  1170960.0  \n",
       "7          Gonzaga  2165160.0  \n",
       "8       Louisville  1824360.0  \n",
       "9   Oklahoma State  3431040.0  \n",
       "10      Ohio State  2569260.0  \n",
       "11      Washington  6912869.0  \n",
       "12      Ohio State  3425510.0  \n",
       "13        Kentucky  1749840.0  \n",
       "14  North Carolina  2616975.0  "
      ]
     },
     "execution_count": 36,
     "metadata": {},
     "output_type": "execute_result"
    }
   ],
   "source": [
    "data = pd.read_csv(\"https://media.geeksforgeeks.org/wp-content/uploads/nba.csv\")\n",
    " \n",
    "# overwriting column with replaced value of age\n",
    "data[\"Team\"]= data[\"Team\"].str.replace(\"boston\", \"New Boston\", case = False)\n",
    " \n",
    "# creating a filter for age column\n",
    "# where age = \"Twenty five\"\n",
    "filter = data[\"Team\"]==\"New Boston Celtics\"\n",
    " \n",
    "# printing only filtered columns\n",
    "data.where(filter).dropna()"
   ]
  },
  {
   "cell_type": "code",
   "execution_count": 39,
   "id": "473ef20d",
   "metadata": {},
   "outputs": [
    {
     "data": {
      "text/html": [
       "<div>\n",
       "<style scoped>\n",
       "    .dataframe tbody tr th:only-of-type {\n",
       "        vertical-align: middle;\n",
       "    }\n",
       "\n",
       "    .dataframe tbody tr th {\n",
       "        vertical-align: top;\n",
       "    }\n",
       "\n",
       "    .dataframe thead th {\n",
       "        text-align: right;\n",
       "    }\n",
       "</style>\n",
       "<table border=\"1\" class=\"dataframe\">\n",
       "  <thead>\n",
       "    <tr style=\"text-align: right;\">\n",
       "      <th></th>\n",
       "      <th>Name</th>\n",
       "      <th>Team</th>\n",
       "      <th>Number</th>\n",
       "      <th>Position</th>\n",
       "      <th>Age</th>\n",
       "      <th>Height</th>\n",
       "      <th>Weight</th>\n",
       "      <th>College</th>\n",
       "      <th>Salary</th>\n",
       "    </tr>\n",
       "  </thead>\n",
       "  <tbody>\n",
       "    <tr>\n",
       "      <th>7</th>\n",
       "      <td>Kelly Olynyk</td>\n",
       "      <td>New Boston Celtics</td>\n",
       "      <td>41.0</td>\n",
       "      <td>C</td>\n",
       "      <td>25.0</td>\n",
       "      <td>7-0</td>\n",
       "      <td>238.0</td>\n",
       "      <td>Gonzaga</td>\n",
       "      <td>2165160.0</td>\n",
       "    </tr>\n",
       "    <tr>\n",
       "      <th>10</th>\n",
       "      <td>Jared Sullinger</td>\n",
       "      <td>New Boston Celtics</td>\n",
       "      <td>7.0</td>\n",
       "      <td>C</td>\n",
       "      <td>24.0</td>\n",
       "      <td>6-9</td>\n",
       "      <td>260.0</td>\n",
       "      <td>Ohio State</td>\n",
       "      <td>2569260.0</td>\n",
       "    </tr>\n",
       "    <tr>\n",
       "      <th>14</th>\n",
       "      <td>Tyler Zeller</td>\n",
       "      <td>New Boston Celtics</td>\n",
       "      <td>44.0</td>\n",
       "      <td>C</td>\n",
       "      <td>26.0</td>\n",
       "      <td>7-0</td>\n",
       "      <td>253.0</td>\n",
       "      <td>North Carolina</td>\n",
       "      <td>2616975.0</td>\n",
       "    </tr>\n",
       "    <tr>\n",
       "      <th>23</th>\n",
       "      <td>Brook Lopez</td>\n",
       "      <td>Brooklyn Nets</td>\n",
       "      <td>11.0</td>\n",
       "      <td>C</td>\n",
       "      <td>28.0</td>\n",
       "      <td>7-0</td>\n",
       "      <td>275.0</td>\n",
       "      <td>Stanford</td>\n",
       "      <td>19689000.0</td>\n",
       "    </tr>\n",
       "    <tr>\n",
       "      <th>27</th>\n",
       "      <td>Henry Sims</td>\n",
       "      <td>Brooklyn Nets</td>\n",
       "      <td>14.0</td>\n",
       "      <td>C</td>\n",
       "      <td>26.0</td>\n",
       "      <td>6-10</td>\n",
       "      <td>248.0</td>\n",
       "      <td>Georgetown</td>\n",
       "      <td>947276.0</td>\n",
       "    </tr>\n",
       "    <tr>\n",
       "      <th>38</th>\n",
       "      <td>Robin Lopez</td>\n",
       "      <td>New York Knicks</td>\n",
       "      <td>8.0</td>\n",
       "      <td>C</td>\n",
       "      <td>28.0</td>\n",
       "      <td>7-0</td>\n",
       "      <td>255.0</td>\n",
       "      <td>Stanford</td>\n",
       "      <td>12650000.0</td>\n",
       "    </tr>\n",
       "    <tr>\n",
       "      <th>49</th>\n",
       "      <td>Joel Embiid</td>\n",
       "      <td>Philadelphia 76ers</td>\n",
       "      <td>21.0</td>\n",
       "      <td>C</td>\n",
       "      <td>22.0</td>\n",
       "      <td>7-0</td>\n",
       "      <td>250.0</td>\n",
       "      <td>Kansas</td>\n",
       "      <td>4626960.0</td>\n",
       "    </tr>\n",
       "    <tr>\n",
       "      <th>56</th>\n",
       "      <td>Jahlil Okafor</td>\n",
       "      <td>Philadelphia 76ers</td>\n",
       "      <td>8.0</td>\n",
       "      <td>C</td>\n",
       "      <td>20.0</td>\n",
       "      <td>6-11</td>\n",
       "      <td>275.0</td>\n",
       "      <td>Duke</td>\n",
       "      <td>4582680.0</td>\n",
       "    </tr>\n",
       "    <tr>\n",
       "      <th>78</th>\n",
       "      <td>Andrew Bogut</td>\n",
       "      <td>Golden State Warriors</td>\n",
       "      <td>12.0</td>\n",
       "      <td>C</td>\n",
       "      <td>31.0</td>\n",
       "      <td>7-0</td>\n",
       "      <td>260.0</td>\n",
       "      <td>Utah</td>\n",
       "      <td>13800000.0</td>\n",
       "    </tr>\n",
       "    <tr>\n",
       "      <th>81</th>\n",
       "      <td>Festus Ezeli</td>\n",
       "      <td>Golden State Warriors</td>\n",
       "      <td>31.0</td>\n",
       "      <td>C</td>\n",
       "      <td>26.0</td>\n",
       "      <td>6-11</td>\n",
       "      <td>265.0</td>\n",
       "      <td>Vanderbilt</td>\n",
       "      <td>2008748.0</td>\n",
       "    </tr>\n",
       "    <tr>\n",
       "      <th>88</th>\n",
       "      <td>Marreese Speights</td>\n",
       "      <td>Golden State Warriors</td>\n",
       "      <td>5.0</td>\n",
       "      <td>C</td>\n",
       "      <td>28.0</td>\n",
       "      <td>6-10</td>\n",
       "      <td>255.0</td>\n",
       "      <td>Florida</td>\n",
       "      <td>3815000.0</td>\n",
       "    </tr>\n",
       "    <tr>\n",
       "      <th>91</th>\n",
       "      <td>Cole Aldrich</td>\n",
       "      <td>Los Angeles Clippers</td>\n",
       "      <td>45.0</td>\n",
       "      <td>C</td>\n",
       "      <td>27.0</td>\n",
       "      <td>6-11</td>\n",
       "      <td>250.0</td>\n",
       "      <td>Kansas</td>\n",
       "      <td>1100602.0</td>\n",
       "    </tr>\n",
       "    <tr>\n",
       "      <th>98</th>\n",
       "      <td>DeAndre Jordan</td>\n",
       "      <td>Los Angeles Clippers</td>\n",
       "      <td>6.0</td>\n",
       "      <td>C</td>\n",
       "      <td>27.0</td>\n",
       "      <td>6-11</td>\n",
       "      <td>265.0</td>\n",
       "      <td>Texas A&amp;M</td>\n",
       "      <td>19689000.0</td>\n",
       "    </tr>\n",
       "    <tr>\n",
       "      <th>107</th>\n",
       "      <td>Tarik Black</td>\n",
       "      <td>Los Angeles Lakers</td>\n",
       "      <td>28.0</td>\n",
       "      <td>C</td>\n",
       "      <td>24.0</td>\n",
       "      <td>6-9</td>\n",
       "      <td>250.0</td>\n",
       "      <td>Kansas</td>\n",
       "      <td>845059.0</td>\n",
       "    </tr>\n",
       "    <tr>\n",
       "      <th>111</th>\n",
       "      <td>Roy Hibbert</td>\n",
       "      <td>Los Angeles Lakers</td>\n",
       "      <td>17.0</td>\n",
       "      <td>C</td>\n",
       "      <td>29.0</td>\n",
       "      <td>7-2</td>\n",
       "      <td>270.0</td>\n",
       "      <td>Georgetown</td>\n",
       "      <td>15592217.0</td>\n",
       "    </tr>\n",
       "    <tr>\n",
       "      <th>117</th>\n",
       "      <td>Robert Sacre</td>\n",
       "      <td>Los Angeles Lakers</td>\n",
       "      <td>50.0</td>\n",
       "      <td>C</td>\n",
       "      <td>27.0</td>\n",
       "      <td>7-0</td>\n",
       "      <td>270.0</td>\n",
       "      <td>Gonzaga</td>\n",
       "      <td>981348.0</td>\n",
       "    </tr>\n",
       "    <tr>\n",
       "      <th>128</th>\n",
       "      <td>Alex Len</td>\n",
       "      <td>Phoenix Suns</td>\n",
       "      <td>21.0</td>\n",
       "      <td>C</td>\n",
       "      <td>22.0</td>\n",
       "      <td>7-1</td>\n",
       "      <td>260.0</td>\n",
       "      <td>Maryland</td>\n",
       "      <td>3807120.0</td>\n",
       "    </tr>\n",
       "    <tr>\n",
       "      <th>135</th>\n",
       "      <td>Alan Williams</td>\n",
       "      <td>Phoenix Suns</td>\n",
       "      <td>15.0</td>\n",
       "      <td>C</td>\n",
       "      <td>23.0</td>\n",
       "      <td>6-8</td>\n",
       "      <td>260.0</td>\n",
       "      <td>UC Santa Barbara</td>\n",
       "      <td>83397.0</td>\n",
       "    </tr>\n",
       "    <tr>\n",
       "      <th>141</th>\n",
       "      <td>Willie Cauley-Stein</td>\n",
       "      <td>Sacramento Kings</td>\n",
       "      <td>0.0</td>\n",
       "      <td>C</td>\n",
       "      <td>22.0</td>\n",
       "      <td>7-0</td>\n",
       "      <td>240.0</td>\n",
       "      <td>Kentucky</td>\n",
       "      <td>3398280.0</td>\n",
       "    </tr>\n",
       "    <tr>\n",
       "      <th>143</th>\n",
       "      <td>DeMarcus Cousins</td>\n",
       "      <td>Sacramento Kings</td>\n",
       "      <td>15.0</td>\n",
       "      <td>C</td>\n",
       "      <td>25.0</td>\n",
       "      <td>6-11</td>\n",
       "      <td>270.0</td>\n",
       "      <td>Kentucky</td>\n",
       "      <td>15851950.0</td>\n",
       "    </tr>\n",
       "    <tr>\n",
       "      <th>147</th>\n",
       "      <td>Kosta Koufos</td>\n",
       "      <td>Sacramento Kings</td>\n",
       "      <td>41.0</td>\n",
       "      <td>C</td>\n",
       "      <td>27.0</td>\n",
       "      <td>7-0</td>\n",
       "      <td>265.0</td>\n",
       "      <td>Ohio State</td>\n",
       "      <td>7700000.0</td>\n",
       "    </tr>\n",
       "    <tr>\n",
       "      <th>162</th>\n",
       "      <td>Joakim Noah</td>\n",
       "      <td>Chicago Bulls</td>\n",
       "      <td>13.0</td>\n",
       "      <td>C</td>\n",
       "      <td>31.0</td>\n",
       "      <td>6-11</td>\n",
       "      <td>232.0</td>\n",
       "      <td>Florida</td>\n",
       "      <td>13400000.0</td>\n",
       "    </tr>\n",
       "    <tr>\n",
       "      <th>173</th>\n",
       "      <td>Sasha Kaun</td>\n",
       "      <td>Cleveland Cavaliers</td>\n",
       "      <td>14.0</td>\n",
       "      <td>C</td>\n",
       "      <td>31.0</td>\n",
       "      <td>6-11</td>\n",
       "      <td>260.0</td>\n",
       "      <td>Kansas</td>\n",
       "      <td>1276000.0</td>\n",
       "    </tr>\n",
       "    <tr>\n",
       "      <th>179</th>\n",
       "      <td>Tristan Thompson</td>\n",
       "      <td>Cleveland Cavaliers</td>\n",
       "      <td>13.0</td>\n",
       "      <td>C</td>\n",
       "      <td>25.0</td>\n",
       "      <td>6-9</td>\n",
       "      <td>238.0</td>\n",
       "      <td>Texas</td>\n",
       "      <td>14260870.0</td>\n",
       "    </tr>\n",
       "    <tr>\n",
       "      <th>181</th>\n",
       "      <td>Joel Anthony</td>\n",
       "      <td>Detroit Pistons</td>\n",
       "      <td>50.0</td>\n",
       "      <td>C</td>\n",
       "      <td>33.0</td>\n",
       "      <td>6-9</td>\n",
       "      <td>245.0</td>\n",
       "      <td>UNLV</td>\n",
       "      <td>2500000.0</td>\n",
       "    </tr>\n",
       "    <tr>\n",
       "      <th>182</th>\n",
       "      <td>Aron Baynes</td>\n",
       "      <td>Detroit Pistons</td>\n",
       "      <td>12.0</td>\n",
       "      <td>C</td>\n",
       "      <td>29.0</td>\n",
       "      <td>6-10</td>\n",
       "      <td>260.0</td>\n",
       "      <td>Washington State</td>\n",
       "      <td>6500000.0</td>\n",
       "    </tr>\n",
       "    <tr>\n",
       "      <th>188</th>\n",
       "      <td>Andre Drummond</td>\n",
       "      <td>Detroit Pistons</td>\n",
       "      <td>0.0</td>\n",
       "      <td>C</td>\n",
       "      <td>22.0</td>\n",
       "      <td>6-11</td>\n",
       "      <td>279.0</td>\n",
       "      <td>Connecticut</td>\n",
       "      <td>3272091.0</td>\n",
       "    </tr>\n",
       "    <tr>\n",
       "      <th>201</th>\n",
       "      <td>Jordan Hill</td>\n",
       "      <td>Indiana Pacers</td>\n",
       "      <td>27.0</td>\n",
       "      <td>C</td>\n",
       "      <td>28.0</td>\n",
       "      <td>6-10</td>\n",
       "      <td>235.0</td>\n",
       "      <td>Arizona</td>\n",
       "      <td>4000000.0</td>\n",
       "    </tr>\n",
       "    <tr>\n",
       "      <th>220</th>\n",
       "      <td>Greg Monroe</td>\n",
       "      <td>Milwaukee Bucks</td>\n",
       "      <td>15.0</td>\n",
       "      <td>C</td>\n",
       "      <td>26.0</td>\n",
       "      <td>6-11</td>\n",
       "      <td>265.0</td>\n",
       "      <td>Georgetown</td>\n",
       "      <td>16407500.0</td>\n",
       "    </tr>\n",
       "    <tr>\n",
       "      <th>224</th>\n",
       "      <td>Miles Plumlee</td>\n",
       "      <td>Milwaukee Bucks</td>\n",
       "      <td>18.0</td>\n",
       "      <td>C</td>\n",
       "      <td>27.0</td>\n",
       "      <td>6-11</td>\n",
       "      <td>249.0</td>\n",
       "      <td>Duke</td>\n",
       "      <td>2109294.0</td>\n",
       "    </tr>\n",
       "    <tr>\n",
       "      <th>234</th>\n",
       "      <td>JaVale McGee</td>\n",
       "      <td>Dallas Mavericks</td>\n",
       "      <td>11.0</td>\n",
       "      <td>C</td>\n",
       "      <td>28.0</td>\n",
       "      <td>7-0</td>\n",
       "      <td>270.0</td>\n",
       "      <td>Nevada</td>\n",
       "      <td>1270964.0</td>\n",
       "    </tr>\n",
       "    <tr>\n",
       "      <th>296</th>\n",
       "      <td>Matt Bonner</td>\n",
       "      <td>San Antonio Spurs</td>\n",
       "      <td>15.0</td>\n",
       "      <td>C</td>\n",
       "      <td>36.0</td>\n",
       "      <td>6-10</td>\n",
       "      <td>235.0</td>\n",
       "      <td>Florida</td>\n",
       "      <td>947276.0</td>\n",
       "    </tr>\n",
       "    <tr>\n",
       "      <th>298</th>\n",
       "      <td>Tim Duncan</td>\n",
       "      <td>San Antonio Spurs</td>\n",
       "      <td>21.0</td>\n",
       "      <td>C</td>\n",
       "      <td>40.0</td>\n",
       "      <td>6-11</td>\n",
       "      <td>250.0</td>\n",
       "      <td>Wake Forest</td>\n",
       "      <td>5250000.0</td>\n",
       "    </tr>\n",
       "    <tr>\n",
       "      <th>312</th>\n",
       "      <td>Al Horford</td>\n",
       "      <td>Atlanta Hawks</td>\n",
       "      <td>15.0</td>\n",
       "      <td>C</td>\n",
       "      <td>30.0</td>\n",
       "      <td>6-10</td>\n",
       "      <td>245.0</td>\n",
       "      <td>Florida</td>\n",
       "      <td>12000000.0</td>\n",
       "    </tr>\n",
       "    <tr>\n",
       "      <th>331</th>\n",
       "      <td>Frank Kaminsky III</td>\n",
       "      <td>Charlotte Hornets</td>\n",
       "      <td>44.0</td>\n",
       "      <td>C</td>\n",
       "      <td>23.0</td>\n",
       "      <td>7-0</td>\n",
       "      <td>240.0</td>\n",
       "      <td>Wisconsin</td>\n",
       "      <td>2612520.0</td>\n",
       "    </tr>\n",
       "    <tr>\n",
       "      <th>338</th>\n",
       "      <td>Cody Zeller</td>\n",
       "      <td>Charlotte Hornets</td>\n",
       "      <td>40.0</td>\n",
       "      <td>C</td>\n",
       "      <td>23.0</td>\n",
       "      <td>7-0</td>\n",
       "      <td>240.0</td>\n",
       "      <td>Indiana</td>\n",
       "      <td>4204200.0</td>\n",
       "    </tr>\n",
       "    <tr>\n",
       "      <th>351</th>\n",
       "      <td>Hassan Whiteside</td>\n",
       "      <td>Miami Heat</td>\n",
       "      <td>21.0</td>\n",
       "      <td>C</td>\n",
       "      <td>26.0</td>\n",
       "      <td>7-0</td>\n",
       "      <td>265.0</td>\n",
       "      <td>Marshall</td>\n",
       "      <td>981348.0</td>\n",
       "    </tr>\n",
       "    <tr>\n",
       "      <th>354</th>\n",
       "      <td>Dewayne Dedmon</td>\n",
       "      <td>Orlando Magic</td>\n",
       "      <td>3.0</td>\n",
       "      <td>C</td>\n",
       "      <td>26.0</td>\n",
       "      <td>7-0</td>\n",
       "      <td>245.0</td>\n",
       "      <td>USC</td>\n",
       "      <td>947276.0</td>\n",
       "    </tr>\n",
       "    <tr>\n",
       "      <th>366</th>\n",
       "      <td>Nikola Vucevic</td>\n",
       "      <td>Orlando Magic</td>\n",
       "      <td>9.0</td>\n",
       "      <td>C</td>\n",
       "      <td>25.0</td>\n",
       "      <td>7-0</td>\n",
       "      <td>260.0</td>\n",
       "      <td>USC</td>\n",
       "      <td>11250000.0</td>\n",
       "    </tr>\n",
       "    <tr>\n",
       "      <th>374</th>\n",
       "      <td>JJ Hickson</td>\n",
       "      <td>Washington Wizards</td>\n",
       "      <td>21.0</td>\n",
       "      <td>C</td>\n",
       "      <td>27.0</td>\n",
       "      <td>6-9</td>\n",
       "      <td>242.0</td>\n",
       "      <td>North Carolina State</td>\n",
       "      <td>273038.0</td>\n",
       "    </tr>\n",
       "    <tr>\n",
       "      <th>399</th>\n",
       "      <td>Gorgui Dieng</td>\n",
       "      <td>Minnesota Timberwolves</td>\n",
       "      <td>5.0</td>\n",
       "      <td>C</td>\n",
       "      <td>26.0</td>\n",
       "      <td>6-11</td>\n",
       "      <td>241.0</td>\n",
       "      <td>Louisville</td>\n",
       "      <td>1474440.0</td>\n",
       "    </tr>\n",
       "    <tr>\n",
       "      <th>410</th>\n",
       "      <td>Karl-Anthony Towns</td>\n",
       "      <td>Minnesota Timberwolves</td>\n",
       "      <td>32.0</td>\n",
       "      <td>C</td>\n",
       "      <td>20.0</td>\n",
       "      <td>7-0</td>\n",
       "      <td>244.0</td>\n",
       "      <td>Kentucky</td>\n",
       "      <td>5703600.0</td>\n",
       "    </tr>\n",
       "    <tr>\n",
       "      <th>412</th>\n",
       "      <td>Steven Adams</td>\n",
       "      <td>Oklahoma City Thunder</td>\n",
       "      <td>12.0</td>\n",
       "      <td>C</td>\n",
       "      <td>22.0</td>\n",
       "      <td>7-0</td>\n",
       "      <td>255.0</td>\n",
       "      <td>Pittsburgh</td>\n",
       "      <td>2279040.0</td>\n",
       "    </tr>\n",
       "    <tr>\n",
       "      <th>418</th>\n",
       "      <td>Enes Kanter</td>\n",
       "      <td>Oklahoma City Thunder</td>\n",
       "      <td>11.0</td>\n",
       "      <td>C</td>\n",
       "      <td>24.0</td>\n",
       "      <td>6-11</td>\n",
       "      <td>245.0</td>\n",
       "      <td>Kentucky</td>\n",
       "      <td>16407500.0</td>\n",
       "    </tr>\n",
       "    <tr>\n",
       "      <th>420</th>\n",
       "      <td>Nazr Mohammed</td>\n",
       "      <td>Oklahoma City Thunder</td>\n",
       "      <td>13.0</td>\n",
       "      <td>C</td>\n",
       "      <td>38.0</td>\n",
       "      <td>6-10</td>\n",
       "      <td>250.0</td>\n",
       "      <td>Kentucky</td>\n",
       "      <td>222888.0</td>\n",
       "    </tr>\n",
       "    <tr>\n",
       "      <th>431</th>\n",
       "      <td>Ed Davis</td>\n",
       "      <td>Portland Trail Blazers</td>\n",
       "      <td>17.0</td>\n",
       "      <td>C</td>\n",
       "      <td>27.0</td>\n",
       "      <td>6-10</td>\n",
       "      <td>240.0</td>\n",
       "      <td>North Carolina</td>\n",
       "      <td>6980802.0</td>\n",
       "    </tr>\n",
       "    <tr>\n",
       "      <th>434</th>\n",
       "      <td>Chris Kaman</td>\n",
       "      <td>Portland Trail Blazers</td>\n",
       "      <td>35.0</td>\n",
       "      <td>C</td>\n",
       "      <td>34.0</td>\n",
       "      <td>7-0</td>\n",
       "      <td>265.0</td>\n",
       "      <td>Central Michigan</td>\n",
       "      <td>5016000.0</td>\n",
       "    </tr>\n",
       "    <tr>\n",
       "      <th>439</th>\n",
       "      <td>Mason Plumlee</td>\n",
       "      <td>Portland Trail Blazers</td>\n",
       "      <td>24.0</td>\n",
       "      <td>C</td>\n",
       "      <td>26.0</td>\n",
       "      <td>6-11</td>\n",
       "      <td>235.0</td>\n",
       "      <td>Duke</td>\n",
       "      <td>1415520.0</td>\n",
       "    </tr>\n",
       "    <tr>\n",
       "      <th>456</th>\n",
       "      <td>Jeff Withey</td>\n",
       "      <td>Utah Jazz</td>\n",
       "      <td>24.0</td>\n",
       "      <td>C</td>\n",
       "      <td>26.0</td>\n",
       "      <td>7-0</td>\n",
       "      <td>231.0</td>\n",
       "      <td>Kansas</td>\n",
       "      <td>947276.0</td>\n",
       "    </tr>\n",
       "  </tbody>\n",
       "</table>\n",
       "</div>"
      ],
      "text/plain": [
       "                    Name                    Team  Number Position   Age  \\\n",
       "7           Kelly Olynyk      New Boston Celtics    41.0        C  25.0   \n",
       "10       Jared Sullinger      New Boston Celtics     7.0        C  24.0   \n",
       "14          Tyler Zeller      New Boston Celtics    44.0        C  26.0   \n",
       "23           Brook Lopez           Brooklyn Nets    11.0        C  28.0   \n",
       "27            Henry Sims           Brooklyn Nets    14.0        C  26.0   \n",
       "38           Robin Lopez         New York Knicks     8.0        C  28.0   \n",
       "49           Joel Embiid      Philadelphia 76ers    21.0        C  22.0   \n",
       "56         Jahlil Okafor      Philadelphia 76ers     8.0        C  20.0   \n",
       "78          Andrew Bogut   Golden State Warriors    12.0        C  31.0   \n",
       "81          Festus Ezeli   Golden State Warriors    31.0        C  26.0   \n",
       "88     Marreese Speights   Golden State Warriors     5.0        C  28.0   \n",
       "91          Cole Aldrich    Los Angeles Clippers    45.0        C  27.0   \n",
       "98        DeAndre Jordan    Los Angeles Clippers     6.0        C  27.0   \n",
       "107          Tarik Black      Los Angeles Lakers    28.0        C  24.0   \n",
       "111          Roy Hibbert      Los Angeles Lakers    17.0        C  29.0   \n",
       "117         Robert Sacre      Los Angeles Lakers    50.0        C  27.0   \n",
       "128             Alex Len            Phoenix Suns    21.0        C  22.0   \n",
       "135        Alan Williams            Phoenix Suns    15.0        C  23.0   \n",
       "141  Willie Cauley-Stein        Sacramento Kings     0.0        C  22.0   \n",
       "143     DeMarcus Cousins        Sacramento Kings    15.0        C  25.0   \n",
       "147         Kosta Koufos        Sacramento Kings    41.0        C  27.0   \n",
       "162          Joakim Noah           Chicago Bulls    13.0        C  31.0   \n",
       "173           Sasha Kaun     Cleveland Cavaliers    14.0        C  31.0   \n",
       "179     Tristan Thompson     Cleveland Cavaliers    13.0        C  25.0   \n",
       "181         Joel Anthony         Detroit Pistons    50.0        C  33.0   \n",
       "182          Aron Baynes         Detroit Pistons    12.0        C  29.0   \n",
       "188       Andre Drummond         Detroit Pistons     0.0        C  22.0   \n",
       "201          Jordan Hill          Indiana Pacers    27.0        C  28.0   \n",
       "220          Greg Monroe         Milwaukee Bucks    15.0        C  26.0   \n",
       "224        Miles Plumlee         Milwaukee Bucks    18.0        C  27.0   \n",
       "234         JaVale McGee        Dallas Mavericks    11.0        C  28.0   \n",
       "296          Matt Bonner       San Antonio Spurs    15.0        C  36.0   \n",
       "298           Tim Duncan       San Antonio Spurs    21.0        C  40.0   \n",
       "312           Al Horford           Atlanta Hawks    15.0        C  30.0   \n",
       "331   Frank Kaminsky III       Charlotte Hornets    44.0        C  23.0   \n",
       "338          Cody Zeller       Charlotte Hornets    40.0        C  23.0   \n",
       "351     Hassan Whiteside              Miami Heat    21.0        C  26.0   \n",
       "354       Dewayne Dedmon           Orlando Magic     3.0        C  26.0   \n",
       "366       Nikola Vucevic           Orlando Magic     9.0        C  25.0   \n",
       "374           JJ Hickson      Washington Wizards    21.0        C  27.0   \n",
       "399         Gorgui Dieng  Minnesota Timberwolves     5.0        C  26.0   \n",
       "410   Karl-Anthony Towns  Minnesota Timberwolves    32.0        C  20.0   \n",
       "412         Steven Adams   Oklahoma City Thunder    12.0        C  22.0   \n",
       "418          Enes Kanter   Oklahoma City Thunder    11.0        C  24.0   \n",
       "420        Nazr Mohammed   Oklahoma City Thunder    13.0        C  38.0   \n",
       "431             Ed Davis  Portland Trail Blazers    17.0        C  27.0   \n",
       "434          Chris Kaman  Portland Trail Blazers    35.0        C  34.0   \n",
       "439        Mason Plumlee  Portland Trail Blazers    24.0        C  26.0   \n",
       "456          Jeff Withey               Utah Jazz    24.0        C  26.0   \n",
       "\n",
       "    Height  Weight               College      Salary  \n",
       "7      7-0   238.0               Gonzaga   2165160.0  \n",
       "10     6-9   260.0            Ohio State   2569260.0  \n",
       "14     7-0   253.0        North Carolina   2616975.0  \n",
       "23     7-0   275.0              Stanford  19689000.0  \n",
       "27    6-10   248.0            Georgetown    947276.0  \n",
       "38     7-0   255.0              Stanford  12650000.0  \n",
       "49     7-0   250.0                Kansas   4626960.0  \n",
       "56    6-11   275.0                  Duke   4582680.0  \n",
       "78     7-0   260.0                  Utah  13800000.0  \n",
       "81    6-11   265.0            Vanderbilt   2008748.0  \n",
       "88    6-10   255.0               Florida   3815000.0  \n",
       "91    6-11   250.0                Kansas   1100602.0  \n",
       "98    6-11   265.0             Texas A&M  19689000.0  \n",
       "107    6-9   250.0                Kansas    845059.0  \n",
       "111    7-2   270.0            Georgetown  15592217.0  \n",
       "117    7-0   270.0               Gonzaga    981348.0  \n",
       "128    7-1   260.0              Maryland   3807120.0  \n",
       "135    6-8   260.0      UC Santa Barbara     83397.0  \n",
       "141    7-0   240.0              Kentucky   3398280.0  \n",
       "143   6-11   270.0              Kentucky  15851950.0  \n",
       "147    7-0   265.0            Ohio State   7700000.0  \n",
       "162   6-11   232.0               Florida  13400000.0  \n",
       "173   6-11   260.0                Kansas   1276000.0  \n",
       "179    6-9   238.0                 Texas  14260870.0  \n",
       "181    6-9   245.0                  UNLV   2500000.0  \n",
       "182   6-10   260.0      Washington State   6500000.0  \n",
       "188   6-11   279.0           Connecticut   3272091.0  \n",
       "201   6-10   235.0               Arizona   4000000.0  \n",
       "220   6-11   265.0            Georgetown  16407500.0  \n",
       "224   6-11   249.0                  Duke   2109294.0  \n",
       "234    7-0   270.0                Nevada   1270964.0  \n",
       "296   6-10   235.0               Florida    947276.0  \n",
       "298   6-11   250.0           Wake Forest   5250000.0  \n",
       "312   6-10   245.0               Florida  12000000.0  \n",
       "331    7-0   240.0             Wisconsin   2612520.0  \n",
       "338    7-0   240.0               Indiana   4204200.0  \n",
       "351    7-0   265.0              Marshall    981348.0  \n",
       "354    7-0   245.0                   USC    947276.0  \n",
       "366    7-0   260.0                   USC  11250000.0  \n",
       "374    6-9   242.0  North Carolina State    273038.0  \n",
       "399   6-11   241.0            Louisville   1474440.0  \n",
       "410    7-0   244.0              Kentucky   5703600.0  \n",
       "412    7-0   255.0            Pittsburgh   2279040.0  \n",
       "418   6-11   245.0              Kentucky  16407500.0  \n",
       "420   6-10   250.0              Kentucky    222888.0  \n",
       "431   6-10   240.0        North Carolina   6980802.0  \n",
       "434    7-0   265.0      Central Michigan   5016000.0  \n",
       "439   6-11   235.0                  Duke   1415520.0  \n",
       "456    7-0   231.0                Kansas    947276.0  "
      ]
     },
     "execution_count": 39,
     "metadata": {},
     "output_type": "execute_result"
    }
   ],
   "source": [
    "filter = data[\"Position\"]==\"C\"\n",
    " \n",
    "# printing only filtered columns\n",
    "data.where(filter).dropna()"
   ]
  },
  {
   "cell_type": "code",
   "execution_count": 40,
   "id": "32966819",
   "metadata": {},
   "outputs": [
    {
     "data": {
      "text/html": [
       "<div>\n",
       "<style scoped>\n",
       "    .dataframe tbody tr th:only-of-type {\n",
       "        vertical-align: middle;\n",
       "    }\n",
       "\n",
       "    .dataframe tbody tr th {\n",
       "        vertical-align: top;\n",
       "    }\n",
       "\n",
       "    .dataframe thead th {\n",
       "        text-align: right;\n",
       "    }\n",
       "</style>\n",
       "<table border=\"1\" class=\"dataframe\">\n",
       "  <thead>\n",
       "    <tr style=\"text-align: right;\">\n",
       "      <th></th>\n",
       "      <th>Name</th>\n",
       "      <th>Team</th>\n",
       "      <th>Number</th>\n",
       "      <th>Position</th>\n",
       "      <th>Age</th>\n",
       "      <th>Height</th>\n",
       "      <th>Weight</th>\n",
       "      <th>College</th>\n",
       "      <th>Salary</th>\n",
       "    </tr>\n",
       "  </thead>\n",
       "  <tbody>\n",
       "    <tr>\n",
       "      <th>0</th>\n",
       "      <td>Avery Bradley</td>\n",
       "      <td>New Boston Celtics</td>\n",
       "      <td>0.0</td>\n",
       "      <td>PG</td>\n",
       "      <td>25.0</td>\n",
       "      <td>6-2</td>\n",
       "      <td>180.0</td>\n",
       "      <td>Texas</td>\n",
       "      <td>7730337.0</td>\n",
       "    </tr>\n",
       "    <tr>\n",
       "      <th>8</th>\n",
       "      <td>Terry Rozier</td>\n",
       "      <td>New Boston Celtics</td>\n",
       "      <td>12.0</td>\n",
       "      <td>PG</td>\n",
       "      <td>22.0</td>\n",
       "      <td>6-2</td>\n",
       "      <td>190.0</td>\n",
       "      <td>Louisville</td>\n",
       "      <td>1824360.0</td>\n",
       "    </tr>\n",
       "    <tr>\n",
       "      <th>9</th>\n",
       "      <td>Marcus Smart</td>\n",
       "      <td>New Boston Celtics</td>\n",
       "      <td>36.0</td>\n",
       "      <td>PG</td>\n",
       "      <td>22.0</td>\n",
       "      <td>6-4</td>\n",
       "      <td>220.0</td>\n",
       "      <td>Oklahoma State</td>\n",
       "      <td>3431040.0</td>\n",
       "    </tr>\n",
       "    <tr>\n",
       "      <th>11</th>\n",
       "      <td>Isaiah Thomas</td>\n",
       "      <td>New Boston Celtics</td>\n",
       "      <td>4.0</td>\n",
       "      <td>PG</td>\n",
       "      <td>27.0</td>\n",
       "      <td>5-9</td>\n",
       "      <td>185.0</td>\n",
       "      <td>Washington</td>\n",
       "      <td>6912869.0</td>\n",
       "    </tr>\n",
       "    <tr>\n",
       "      <th>19</th>\n",
       "      <td>Jarrett Jack</td>\n",
       "      <td>Brooklyn Nets</td>\n",
       "      <td>2.0</td>\n",
       "      <td>PG</td>\n",
       "      <td>32.0</td>\n",
       "      <td>6-3</td>\n",
       "      <td>200.0</td>\n",
       "      <td>Georgia Tech</td>\n",
       "      <td>6300000.0</td>\n",
       "    </tr>\n",
       "    <tr>\n",
       "      <th>...</th>\n",
       "      <td>...</td>\n",
       "      <td>...</td>\n",
       "      <td>...</td>\n",
       "      <td>...</td>\n",
       "      <td>...</td>\n",
       "      <td>...</td>\n",
       "      <td>...</td>\n",
       "      <td>...</td>\n",
       "      <td>...</td>\n",
       "    </tr>\n",
       "    <tr>\n",
       "      <th>426</th>\n",
       "      <td>Russell Westbrook</td>\n",
       "      <td>Oklahoma City Thunder</td>\n",
       "      <td>0.0</td>\n",
       "      <td>PG</td>\n",
       "      <td>27.0</td>\n",
       "      <td>6-3</td>\n",
       "      <td>200.0</td>\n",
       "      <td>UCLA</td>\n",
       "      <td>16744218.0</td>\n",
       "    </tr>\n",
       "    <tr>\n",
       "      <th>436</th>\n",
       "      <td>Damian Lillard</td>\n",
       "      <td>Portland Trail Blazers</td>\n",
       "      <td>0.0</td>\n",
       "      <td>PG</td>\n",
       "      <td>25.0</td>\n",
       "      <td>6-3</td>\n",
       "      <td>195.0</td>\n",
       "      <td>Weber State</td>\n",
       "      <td>4236287.0</td>\n",
       "    </tr>\n",
       "    <tr>\n",
       "      <th>440</th>\n",
       "      <td>Brian Roberts</td>\n",
       "      <td>Portland Trail Blazers</td>\n",
       "      <td>2.0</td>\n",
       "      <td>PG</td>\n",
       "      <td>30.0</td>\n",
       "      <td>6-1</td>\n",
       "      <td>173.0</td>\n",
       "      <td>Dayton</td>\n",
       "      <td>2854940.0</td>\n",
       "    </tr>\n",
       "    <tr>\n",
       "      <th>443</th>\n",
       "      <td>Trey Burke</td>\n",
       "      <td>Utah Jazz</td>\n",
       "      <td>3.0</td>\n",
       "      <td>PG</td>\n",
       "      <td>23.0</td>\n",
       "      <td>6-1</td>\n",
       "      <td>191.0</td>\n",
       "      <td>Michigan</td>\n",
       "      <td>2658240.0</td>\n",
       "    </tr>\n",
       "    <tr>\n",
       "      <th>453</th>\n",
       "      <td>Shelvin Mack</td>\n",
       "      <td>Utah Jazz</td>\n",
       "      <td>8.0</td>\n",
       "      <td>PG</td>\n",
       "      <td>26.0</td>\n",
       "      <td>6-3</td>\n",
       "      <td>203.0</td>\n",
       "      <td>Butler</td>\n",
       "      <td>2433333.0</td>\n",
       "    </tr>\n",
       "  </tbody>\n",
       "</table>\n",
       "<p>76 rows × 9 columns</p>\n",
       "</div>"
      ],
      "text/plain": [
       "                  Name                    Team  Number Position   Age Height  \\\n",
       "0        Avery Bradley      New Boston Celtics     0.0       PG  25.0    6-2   \n",
       "8         Terry Rozier      New Boston Celtics    12.0       PG  22.0    6-2   \n",
       "9         Marcus Smart      New Boston Celtics    36.0       PG  22.0    6-4   \n",
       "11       Isaiah Thomas      New Boston Celtics     4.0       PG  27.0    5-9   \n",
       "19        Jarrett Jack           Brooklyn Nets     2.0       PG  32.0    6-3   \n",
       "..                 ...                     ...     ...      ...   ...    ...   \n",
       "426  Russell Westbrook   Oklahoma City Thunder     0.0       PG  27.0    6-3   \n",
       "436     Damian Lillard  Portland Trail Blazers     0.0       PG  25.0    6-3   \n",
       "440      Brian Roberts  Portland Trail Blazers     2.0       PG  30.0    6-1   \n",
       "443         Trey Burke               Utah Jazz     3.0       PG  23.0    6-1   \n",
       "453       Shelvin Mack               Utah Jazz     8.0       PG  26.0    6-3   \n",
       "\n",
       "     Weight         College      Salary  \n",
       "0     180.0           Texas   7730337.0  \n",
       "8     190.0      Louisville   1824360.0  \n",
       "9     220.0  Oklahoma State   3431040.0  \n",
       "11    185.0      Washington   6912869.0  \n",
       "19    200.0    Georgia Tech   6300000.0  \n",
       "..      ...             ...         ...  \n",
       "426   200.0            UCLA  16744218.0  \n",
       "436   195.0     Weber State   4236287.0  \n",
       "440   173.0          Dayton   2854940.0  \n",
       "443   191.0        Michigan   2658240.0  \n",
       "453   203.0          Butler   2433333.0  \n",
       "\n",
       "[76 rows x 9 columns]"
      ]
     },
     "execution_count": 40,
     "metadata": {},
     "output_type": "execute_result"
    }
   ],
   "source": [
    "filter = data[\"Position\"]==\"PG\"\n",
    " \n",
    "# printing only filtered columns\n",
    "data.where(filter).dropna()"
   ]
  },
  {
   "cell_type": "markdown",
   "id": "5164a8b8",
   "metadata": {},
   "source": [
    "# Day 4"
   ]
  },
  {
   "cell_type": "code",
   "execution_count": 46,
   "id": "fffa9369",
   "metadata": {},
   "outputs": [
    {
     "data": {
      "text/plain": [
       "Coca Cola    10\n",
       "Sprite       25\n",
       "Coke          3\n",
       "Fanta        11\n",
       "Dew          24\n",
       "ThumbsUp      6\n",
       "dtype: int64"
      ]
     },
     "execution_count": 46,
     "metadata": {},
     "output_type": "execute_result"
    }
   ],
   "source": [
    "sr = pd.Series([10, 25, 3, 11, 24, 6])\n",
    "  \n",
    "# Create the Index\n",
    "idx = ['Coca Cola', 'Sprite', 'Coke', 'Fanta', 'Dew', 'ThumbsUp']\n",
    "sr.index = idx\n",
    "sr"
   ]
  },
  {
   "cell_type": "code",
   "execution_count": 47,
   "id": "6431b8a2",
   "metadata": {},
   "outputs": [
    {
     "data": {
      "text/plain": [
       "Coca Cola      10\n",
       "Sprite         25\n",
       "Coke         1000\n",
       "Fanta          11\n",
       "Dew            24\n",
       "ThumbsUp        6\n",
       "dtype: int64"
      ]
     },
     "execution_count": 47,
     "metadata": {},
     "output_type": "execute_result"
    }
   ],
   "source": [
    "result = sr.replace(to_replace = 3, value = 1000)\n",
    "result"
   ]
  },
  {
   "cell_type": "code",
   "execution_count": 48,
   "id": "f3a3e18f",
   "metadata": {},
   "outputs": [
    {
     "data": {
      "text/plain": [
       "City 1    New York\n",
       "City 2     Chicago\n",
       "City 3     Toronto\n",
       "City 4      Lisbon\n",
       "City 5         Rio\n",
       "dtype: object"
      ]
     },
     "execution_count": 48,
     "metadata": {},
     "output_type": "execute_result"
    }
   ],
   "source": [
    "sr = pd.Series(['New York', 'Chicago', 'Toronto', 'Lisbon', 'Rio'])\n",
    "  \n",
    "# Create the Index\n",
    "index_ = ['City 1', 'City 2', 'City 3', 'City 4', 'City 5'] \n",
    "  \n",
    "# set the index\n",
    "sr.index = index_\n",
    "sr"
   ]
  },
  {
   "cell_type": "code",
   "execution_count": 51,
   "id": "16624c10",
   "metadata": {},
   "outputs": [
    {
     "data": {
      "text/plain": [
       "City 1      London\n",
       "City 2     Chicago\n",
       "City 3     Toronto\n",
       "City 4      Lisbon\n",
       "City 5    Brisbane\n",
       "dtype: object"
      ]
     },
     "execution_count": 51,
     "metadata": {},
     "output_type": "execute_result"
    }
   ],
   "source": [
    "result = sr.replace(to_replace = ['New York', 'Rio'],\n",
    "                    value = ['London', 'Brisbane'])\n",
    "result"
   ]
  },
  {
   "cell_type": "code",
   "execution_count": 52,
   "id": "d578bf7a",
   "metadata": {},
   "outputs": [
    {
     "data": {
      "text/plain": [
       "0       True\n",
       "1       True\n",
       "2       True\n",
       "3       True\n",
       "4       True\n",
       "       ...  \n",
       "453    False\n",
       "454    False\n",
       "455    False\n",
       "456    False\n",
       "457    False\n",
       "Name: Team, Length: 458, dtype: bool"
      ]
     },
     "execution_count": 52,
     "metadata": {},
     "output_type": "execute_result"
    }
   ],
   "source": [
    "data = pd.read_csv(\"https://media.geeksforgeeks.org/wp-content/uploads/nba.csv\")\n",
    "  \n",
    "# replacing team name and adding spaces in start and end\n",
    "new = data[\"Team\"].replace(\"Boston Celtics\", \"  Boston Celtics  \").copy()\n",
    "  \n",
    "# checking with custom removed space string\n",
    "new.str.lstrip()==\"Boston Celtics  \""
   ]
  },
  {
   "cell_type": "code",
   "execution_count": 53,
   "id": "1e6dc371",
   "metadata": {},
   "outputs": [
    {
     "data": {
      "text/plain": [
       "0      False\n",
       "1      False\n",
       "2      False\n",
       "3      False\n",
       "4      False\n",
       "       ...  \n",
       "453    False\n",
       "454    False\n",
       "455    False\n",
       "456    False\n",
       "457    False\n",
       "Name: Team, Length: 458, dtype: bool"
      ]
     },
     "execution_count": 53,
     "metadata": {},
     "output_type": "execute_result"
    }
   ],
   "source": [
    "data = pd.read_csv(\"https://media.geeksforgeeks.org/wp-content/uploads/nba.csv\")\n",
    "  \n",
    "# replacing team name and adding spaces in start and end\n",
    "new = data[\"Team\"].replace(\"Boston Celtics\", \"  Boston Celtics  \").copy()\n",
    "  \n",
    "# checking with custom string\n",
    "new.str.strip()==\"  Boston Celtic\"\n",
    "new.str.strip()==\"Boston Celtics  \"\n",
    "new.str.strip()==\"  Boston Celtic  \""
   ]
  },
  {
   "cell_type": "code",
   "execution_count": 54,
   "id": "e29c7049",
   "metadata": {},
   "outputs": [
    {
     "data": {
      "text/plain": [
       "0       True\n",
       "1       True\n",
       "2       True\n",
       "3       True\n",
       "4       True\n",
       "       ...  \n",
       "453    False\n",
       "454    False\n",
       "455    False\n",
       "456    False\n",
       "457    False\n",
       "Name: Team, Length: 458, dtype: bool"
      ]
     },
     "execution_count": 54,
     "metadata": {},
     "output_type": "execute_result"
    }
   ],
   "source": [
    "data = pd.read_csv(\"https://media.geeksforgeeks.org/wp-content/uploads/nba.csv\")\n",
    "  \n",
    "# replacing team name and adding spaces in start and end\n",
    "new = data[\"Team\"].replace(\"Boston Celtics\", \"  Boston Celtics  \").copy()\n",
    "  \n",
    "# checking with custom removed space string\n",
    "new.str.rstrip()==\"  Boston Celtics\""
   ]
  },
  {
   "cell_type": "code",
   "execution_count": 56,
   "id": "f7dc34bc",
   "metadata": {},
   "outputs": [
    {
     "name": "stdout",
     "output_type": "stream",
     "text": [
      "2021-07-08 07:15:11\n"
     ]
    },
    {
     "data": {
      "text/plain": [
       "<2 * DateOffsets>"
      ]
     },
     "execution_count": 56,
     "metadata": {},
     "output_type": "execute_result"
    }
   ],
   "source": [
    "import pandas as pd\n",
    "ts = pd.Timestamp('2021-07-08 07:15:11')\n",
    " \n",
    "# Create the DateOffset\n",
    "do = pd.tseries.offsets.DateOffset(n = 2)\n",
    " \n",
    "# Print the Timestamp\n",
    "print(ts)\n",
    "do"
   ]
  },
  {
   "cell_type": "code",
   "execution_count": 57,
   "id": "320366cd",
   "metadata": {},
   "outputs": [
    {
     "name": "stdout",
     "output_type": "stream",
     "text": [
      "2021-07-10 07:15:11\n"
     ]
    }
   ],
   "source": [
    "new_timestamp = ts + do\n",
    " \n",
    "# Print the updated timestamp\n",
    "print(new_timestamp)"
   ]
  },
  {
   "cell_type": "code",
   "execution_count": 58,
   "id": "254c6b13",
   "metadata": {},
   "outputs": [
    {
     "name": "stdout",
     "output_type": "stream",
     "text": [
      "2021-10-10 07:15:11\n",
      "<DateOffset: days=10, hours=2>\n"
     ]
    }
   ],
   "source": [
    "ts = pd.Timestamp('2021-10-10 07:15:11')\n",
    " \n",
    "# Create the DateOffset\n",
    "do = pd.tseries.offsets.DateOffset(days = 10, hours = 2)\n",
    " \n",
    "# Print the Timestamp\n",
    "print(ts)\n",
    " \n",
    "# Print the DateOffset\n",
    "print(do)"
   ]
  },
  {
   "cell_type": "code",
   "execution_count": 59,
   "id": "ebf9ae20",
   "metadata": {},
   "outputs": [
    {
     "name": "stdout",
     "output_type": "stream",
     "text": [
      "2021-10-20 09:15:11\n"
     ]
    }
   ],
   "source": [
    "new_timestamp = ts + do\n",
    " \n",
    "# Print the updated timestamp\n",
    "print(new_timestamp)"
   ]
  },
  {
   "cell_type": "markdown",
   "id": "285c51b5",
   "metadata": {},
   "source": [
    "# Day 4"
   ]
  },
  {
   "cell_type": "code",
   "execution_count": 61,
   "id": "1d06a695",
   "metadata": {},
   "outputs": [
    {
     "data": {
      "text/html": [
       "<div>\n",
       "<style scoped>\n",
       "    .dataframe tbody tr th:only-of-type {\n",
       "        vertical-align: middle;\n",
       "    }\n",
       "\n",
       "    .dataframe tbody tr th {\n",
       "        vertical-align: top;\n",
       "    }\n",
       "\n",
       "    .dataframe thead th {\n",
       "        text-align: right;\n",
       "    }\n",
       "</style>\n",
       "<table border=\"1\" class=\"dataframe\">\n",
       "  <thead>\n",
       "    <tr style=\"text-align: right;\">\n",
       "      <th></th>\n",
       "      <th>0</th>\n",
       "    </tr>\n",
       "  </thead>\n",
       "  <tbody>\n",
       "    <tr>\n",
       "      <th>0</th>\n",
       "      <td>Geeks</td>\n",
       "    </tr>\n",
       "    <tr>\n",
       "      <th>1</th>\n",
       "      <td>For</td>\n",
       "    </tr>\n",
       "    <tr>\n",
       "      <th>2</th>\n",
       "      <td>Geeks</td>\n",
       "    </tr>\n",
       "    <tr>\n",
       "      <th>3</th>\n",
       "      <td>is</td>\n",
       "    </tr>\n",
       "    <tr>\n",
       "      <th>4</th>\n",
       "      <td>portal</td>\n",
       "    </tr>\n",
       "    <tr>\n",
       "      <th>5</th>\n",
       "      <td>for</td>\n",
       "    </tr>\n",
       "    <tr>\n",
       "      <th>6</th>\n",
       "      <td>Geeks</td>\n",
       "    </tr>\n",
       "  </tbody>\n",
       "</table>\n",
       "</div>"
      ],
      "text/plain": [
       "        0\n",
       "0   Geeks\n",
       "1     For\n",
       "2   Geeks\n",
       "3      is\n",
       "4  portal\n",
       "5     for\n",
       "6   Geeks"
      ]
     },
     "execution_count": 61,
     "metadata": {},
     "output_type": "execute_result"
    }
   ],
   "source": [
    "lst = ['Geeks', 'For', 'Geeks', 'is', \n",
    "            'portal', 'for', 'Geeks']\n",
    " \n",
    "# Calling DataFrame constructor on list\n",
    "df = pd.DataFrame(lst)\n",
    "df"
   ]
  },
  {
   "cell_type": "code",
   "execution_count": 63,
   "id": "d3bd1d88",
   "metadata": {},
   "outputs": [
    {
     "data": {
      "text/html": [
       "<div>\n",
       "<style scoped>\n",
       "    .dataframe tbody tr th:only-of-type {\n",
       "        vertical-align: middle;\n",
       "    }\n",
       "\n",
       "    .dataframe tbody tr th {\n",
       "        vertical-align: top;\n",
       "    }\n",
       "\n",
       "    .dataframe thead th {\n",
       "        text-align: right;\n",
       "    }\n",
       "</style>\n",
       "<table border=\"1\" class=\"dataframe\">\n",
       "  <thead>\n",
       "    <tr style=\"text-align: right;\">\n",
       "      <th></th>\n",
       "      <th>Name</th>\n",
       "      <th>Age</th>\n",
       "    </tr>\n",
       "  </thead>\n",
       "  <tbody>\n",
       "    <tr>\n",
       "      <th>0</th>\n",
       "      <td>Tom</td>\n",
       "      <td>20</td>\n",
       "    </tr>\n",
       "    <tr>\n",
       "      <th>1</th>\n",
       "      <td>nick</td>\n",
       "      <td>21</td>\n",
       "    </tr>\n",
       "    <tr>\n",
       "      <th>2</th>\n",
       "      <td>krish</td>\n",
       "      <td>19</td>\n",
       "    </tr>\n",
       "    <tr>\n",
       "      <th>3</th>\n",
       "      <td>jack</td>\n",
       "      <td>18</td>\n",
       "    </tr>\n",
       "  </tbody>\n",
       "</table>\n",
       "</div>"
      ],
      "text/plain": [
       "    Name  Age\n",
       "0    Tom   20\n",
       "1   nick   21\n",
       "2  krish   19\n",
       "3   jack   18"
      ]
     },
     "execution_count": 63,
     "metadata": {},
     "output_type": "execute_result"
    }
   ],
   "source": [
    "import pandas as pd\n",
    " \n",
    "# intialise data of lists.\n",
    "data = {'Name':['Tom', 'nick', 'krish', 'jack'],\n",
    "        'Age':[20, 21, 19, 18]}\n",
    " \n",
    "# Create DataFrame\n",
    "df = pd.DataFrame(data)\n",
    "df"
   ]
  },
  {
   "cell_type": "code",
   "execution_count": 64,
   "id": "555159ee",
   "metadata": {},
   "outputs": [
    {
     "data": {
      "text/html": [
       "<div>\n",
       "<style scoped>\n",
       "    .dataframe tbody tr th:only-of-type {\n",
       "        vertical-align: middle;\n",
       "    }\n",
       "\n",
       "    .dataframe tbody tr th {\n",
       "        vertical-align: top;\n",
       "    }\n",
       "\n",
       "    .dataframe thead th {\n",
       "        text-align: right;\n",
       "    }\n",
       "</style>\n",
       "<table border=\"1\" class=\"dataframe\">\n",
       "  <thead>\n",
       "    <tr style=\"text-align: right;\">\n",
       "      <th></th>\n",
       "      <th>Name</th>\n",
       "      <th>Age</th>\n",
       "      <th>Address</th>\n",
       "      <th>Qualification</th>\n",
       "    </tr>\n",
       "  </thead>\n",
       "  <tbody>\n",
       "    <tr>\n",
       "      <th>0</th>\n",
       "      <td>Jai</td>\n",
       "      <td>27</td>\n",
       "      <td>Delhi</td>\n",
       "      <td>Msc</td>\n",
       "    </tr>\n",
       "    <tr>\n",
       "      <th>1</th>\n",
       "      <td>Princi</td>\n",
       "      <td>24</td>\n",
       "      <td>Kanpur</td>\n",
       "      <td>MA</td>\n",
       "    </tr>\n",
       "    <tr>\n",
       "      <th>2</th>\n",
       "      <td>Gaurav</td>\n",
       "      <td>22</td>\n",
       "      <td>Allahabad</td>\n",
       "      <td>MCA</td>\n",
       "    </tr>\n",
       "    <tr>\n",
       "      <th>3</th>\n",
       "      <td>Anuj</td>\n",
       "      <td>32</td>\n",
       "      <td>Kannauj</td>\n",
       "      <td>Phd</td>\n",
       "    </tr>\n",
       "  </tbody>\n",
       "</table>\n",
       "</div>"
      ],
      "text/plain": [
       "     Name  Age    Address Qualification\n",
       "0     Jai   27      Delhi           Msc\n",
       "1  Princi   24     Kanpur            MA\n",
       "2  Gaurav   22  Allahabad           MCA\n",
       "3    Anuj   32    Kannauj           Phd"
      ]
     },
     "execution_count": 64,
     "metadata": {},
     "output_type": "execute_result"
    }
   ],
   "source": [
    "import pandas as pd\n",
    " \n",
    "# Define a dictionary containing employee data\n",
    "data = {'Name':['Jai', 'Princi', 'Gaurav', 'Anuj'],\n",
    "        'Age':[27, 24, 22, 32],\n",
    "        'Address':['Delhi', 'Kanpur', 'Allahabad', 'Kannauj'],\n",
    "        'Qualification':['Msc', 'MA', 'MCA', 'Phd']}\n",
    " \n",
    "# Convert the dictionary into DataFrame \n",
    "df = pd.DataFrame(data)\n",
    "df"
   ]
  },
  {
   "cell_type": "code",
   "execution_count": 68,
   "id": "6f3c768e",
   "metadata": {},
   "outputs": [
    {
     "data": {
      "text/html": [
       "<div>\n",
       "<style scoped>\n",
       "    .dataframe tbody tr th:only-of-type {\n",
       "        vertical-align: middle;\n",
       "    }\n",
       "\n",
       "    .dataframe tbody tr th {\n",
       "        vertical-align: top;\n",
       "    }\n",
       "\n",
       "    .dataframe thead th {\n",
       "        text-align: right;\n",
       "    }\n",
       "</style>\n",
       "<table border=\"1\" class=\"dataframe\">\n",
       "  <thead>\n",
       "    <tr style=\"text-align: right;\">\n",
       "      <th></th>\n",
       "      <th>Team</th>\n",
       "      <th>Number</th>\n",
       "      <th>Position</th>\n",
       "      <th>Age</th>\n",
       "      <th>Height</th>\n",
       "      <th>Weight</th>\n",
       "      <th>College</th>\n",
       "      <th>Salary</th>\n",
       "    </tr>\n",
       "    <tr>\n",
       "      <th>Name</th>\n",
       "      <th></th>\n",
       "      <th></th>\n",
       "      <th></th>\n",
       "      <th></th>\n",
       "      <th></th>\n",
       "      <th></th>\n",
       "      <th></th>\n",
       "      <th></th>\n",
       "    </tr>\n",
       "  </thead>\n",
       "  <tbody>\n",
       "    <tr>\n",
       "      <th>Avery Bradley</th>\n",
       "      <td>Boston Celtics</td>\n",
       "      <td>0.0</td>\n",
       "      <td>PG</td>\n",
       "      <td>25.0</td>\n",
       "      <td>6-2</td>\n",
       "      <td>180.0</td>\n",
       "      <td>Texas</td>\n",
       "      <td>7730337.0</td>\n",
       "    </tr>\n",
       "    <tr>\n",
       "      <th>Jae Crowder</th>\n",
       "      <td>Boston Celtics</td>\n",
       "      <td>99.0</td>\n",
       "      <td>SF</td>\n",
       "      <td>25.0</td>\n",
       "      <td>6-6</td>\n",
       "      <td>235.0</td>\n",
       "      <td>Marquette</td>\n",
       "      <td>6796117.0</td>\n",
       "    </tr>\n",
       "    <tr>\n",
       "      <th>John Holland</th>\n",
       "      <td>Boston Celtics</td>\n",
       "      <td>30.0</td>\n",
       "      <td>SG</td>\n",
       "      <td>27.0</td>\n",
       "      <td>6-5</td>\n",
       "      <td>205.0</td>\n",
       "      <td>Boston University</td>\n",
       "      <td>NaN</td>\n",
       "    </tr>\n",
       "    <tr>\n",
       "      <th>R.J. Hunter</th>\n",
       "      <td>Boston Celtics</td>\n",
       "      <td>28.0</td>\n",
       "      <td>SG</td>\n",
       "      <td>22.0</td>\n",
       "      <td>6-5</td>\n",
       "      <td>185.0</td>\n",
       "      <td>Georgia State</td>\n",
       "      <td>1148640.0</td>\n",
       "    </tr>\n",
       "    <tr>\n",
       "      <th>Jonas Jerebko</th>\n",
       "      <td>Boston Celtics</td>\n",
       "      <td>8.0</td>\n",
       "      <td>PF</td>\n",
       "      <td>29.0</td>\n",
       "      <td>6-10</td>\n",
       "      <td>231.0</td>\n",
       "      <td>NaN</td>\n",
       "      <td>5000000.0</td>\n",
       "    </tr>\n",
       "    <tr>\n",
       "      <th>...</th>\n",
       "      <td>...</td>\n",
       "      <td>...</td>\n",
       "      <td>...</td>\n",
       "      <td>...</td>\n",
       "      <td>...</td>\n",
       "      <td>...</td>\n",
       "      <td>...</td>\n",
       "      <td>...</td>\n",
       "    </tr>\n",
       "    <tr>\n",
       "      <th>Shelvin Mack</th>\n",
       "      <td>Utah Jazz</td>\n",
       "      <td>8.0</td>\n",
       "      <td>PG</td>\n",
       "      <td>26.0</td>\n",
       "      <td>6-3</td>\n",
       "      <td>203.0</td>\n",
       "      <td>Butler</td>\n",
       "      <td>2433333.0</td>\n",
       "    </tr>\n",
       "    <tr>\n",
       "      <th>Raul Neto</th>\n",
       "      <td>Utah Jazz</td>\n",
       "      <td>25.0</td>\n",
       "      <td>PG</td>\n",
       "      <td>24.0</td>\n",
       "      <td>6-1</td>\n",
       "      <td>179.0</td>\n",
       "      <td>NaN</td>\n",
       "      <td>900000.0</td>\n",
       "    </tr>\n",
       "    <tr>\n",
       "      <th>Tibor Pleiss</th>\n",
       "      <td>Utah Jazz</td>\n",
       "      <td>21.0</td>\n",
       "      <td>C</td>\n",
       "      <td>26.0</td>\n",
       "      <td>7-3</td>\n",
       "      <td>256.0</td>\n",
       "      <td>NaN</td>\n",
       "      <td>2900000.0</td>\n",
       "    </tr>\n",
       "    <tr>\n",
       "      <th>Jeff Withey</th>\n",
       "      <td>Utah Jazz</td>\n",
       "      <td>24.0</td>\n",
       "      <td>C</td>\n",
       "      <td>26.0</td>\n",
       "      <td>7-0</td>\n",
       "      <td>231.0</td>\n",
       "      <td>Kansas</td>\n",
       "      <td>947276.0</td>\n",
       "    </tr>\n",
       "    <tr>\n",
       "      <th>NaN</th>\n",
       "      <td>NaN</td>\n",
       "      <td>NaN</td>\n",
       "      <td>NaN</td>\n",
       "      <td>NaN</td>\n",
       "      <td>NaN</td>\n",
       "      <td>NaN</td>\n",
       "      <td>NaN</td>\n",
       "      <td>NaN</td>\n",
       "    </tr>\n",
       "  </tbody>\n",
       "</table>\n",
       "<p>458 rows × 8 columns</p>\n",
       "</div>"
      ],
      "text/plain": [
       "                         Team  Number Position   Age Height  Weight  \\\n",
       "Name                                                                  \n",
       "Avery Bradley  Boston Celtics     0.0       PG  25.0    6-2   180.0   \n",
       "Jae Crowder    Boston Celtics    99.0       SF  25.0    6-6   235.0   \n",
       "John Holland   Boston Celtics    30.0       SG  27.0    6-5   205.0   \n",
       "R.J. Hunter    Boston Celtics    28.0       SG  22.0    6-5   185.0   \n",
       "Jonas Jerebko  Boston Celtics     8.0       PF  29.0   6-10   231.0   \n",
       "...                       ...     ...      ...   ...    ...     ...   \n",
       "Shelvin Mack        Utah Jazz     8.0       PG  26.0    6-3   203.0   \n",
       "Raul Neto           Utah Jazz    25.0       PG  24.0    6-1   179.0   \n",
       "Tibor Pleiss        Utah Jazz    21.0        C  26.0    7-3   256.0   \n",
       "Jeff Withey         Utah Jazz    24.0        C  26.0    7-0   231.0   \n",
       "NaN                       NaN     NaN      NaN   NaN    NaN     NaN   \n",
       "\n",
       "                         College     Salary  \n",
       "Name                                         \n",
       "Avery Bradley              Texas  7730337.0  \n",
       "Jae Crowder            Marquette  6796117.0  \n",
       "John Holland   Boston University        NaN  \n",
       "R.J. Hunter        Georgia State  1148640.0  \n",
       "Jonas Jerebko                NaN  5000000.0  \n",
       "...                          ...        ...  \n",
       "Shelvin Mack              Butler  2433333.0  \n",
       "Raul Neto                    NaN   900000.0  \n",
       "Tibor Pleiss                 NaN  2900000.0  \n",
       "Jeff Withey               Kansas   947276.0  \n",
       "NaN                          NaN        NaN  \n",
       "\n",
       "[458 rows x 8 columns]"
      ]
     },
     "execution_count": 68,
     "metadata": {},
     "output_type": "execute_result"
    }
   ],
   "source": [
    "### we can get value of whole row by iloc method\n",
    "data = pd.read_csv(\"nba.csv\", index_col =\"Name\")\n",
    "data"
   ]
  },
  {
   "cell_type": "code",
   "execution_count": 69,
   "id": "a654aeb0",
   "metadata": {},
   "outputs": [
    {
     "name": "stdout",
     "output_type": "stream",
     "text": [
      "Team        Boston Celtics\n",
      "Number                 0.0\n",
      "Position                PG\n",
      "Age                   25.0\n",
      "Height                 6-2\n",
      "Weight               180.0\n",
      "College              Texas\n",
      "Salary           7730337.0\n",
      "Name: Avery Bradley, dtype: object \n",
      "\n",
      "\n",
      " Team        Boston Celtics\n",
      "Number                28.0\n",
      "Position                SG\n",
      "Age                   22.0\n",
      "Height                 6-5\n",
      "Weight               185.0\n",
      "College      Georgia State\n",
      "Salary           1148640.0\n",
      "Name: R.J. Hunter, dtype: object\n"
     ]
    }
   ],
   "source": [
    "# retrieving row by loc method\n",
    "first = data.loc[\"Avery Bradley\"]\n",
    "second = data.loc[\"R.J. Hunter\"]\n",
    " \n",
    " \n",
    "print(first, \"\\n\\n\\n\", second)"
   ]
  },
  {
   "cell_type": "code",
   "execution_count": 70,
   "id": "bab67bd4",
   "metadata": {},
   "outputs": [
    {
     "data": {
      "text/plain": [
       "Name\n",
       "Avery Bradley    25.0\n",
       "Jae Crowder      25.0\n",
       "John Holland     27.0\n",
       "R.J. Hunter      22.0\n",
       "Jonas Jerebko    29.0\n",
       "                 ... \n",
       "Shelvin Mack     26.0\n",
       "Raul Neto        24.0\n",
       "Tibor Pleiss     26.0\n",
       "Jeff Withey      26.0\n",
       "NaN               NaN\n",
       "Name: Age, Length: 458, dtype: float64"
      ]
     },
     "execution_count": 70,
     "metadata": {},
     "output_type": "execute_result"
    }
   ],
   "source": [
    "data = pd.read_csv(\"nba.csv\", index_col =\"Name\")\n",
    " \n",
    "# retrieving columns by indexing operator\n",
    "first = data[\"Age\"]\n",
    "first"
   ]
  },
  {
   "cell_type": "code",
   "execution_count": 72,
   "id": "0a3cfcfe",
   "metadata": {},
   "outputs": [
    {
     "name": "stdout",
     "output_type": "stream",
     "text": [
      "Team        Boston Celtics\n",
      "Number                 0.0\n",
      "Position                PG\n",
      "Age                   25.0\n",
      "Height                 6-2\n",
      "Weight               180.0\n",
      "College              Texas\n",
      "Salary           7730337.0\n",
      "Name: Avery Bradley, dtype: object \n",
      "\n",
      "\n",
      " Team        Boston Celtics\n",
      "Number                28.0\n",
      "Position                SG\n",
      "Age                   22.0\n",
      "Height                 6-5\n",
      "Weight               185.0\n",
      "College      Georgia State\n",
      "Salary           1148640.0\n",
      "Name: R.J. Hunter, dtype: object\n"
     ]
    }
   ],
   "source": [
    "data = pd.read_csv(\"nba.csv\", index_col =\"Name\")\n",
    "\n",
    "first = data.loc[\"Avery Bradley\"]\n",
    "second = data.loc[\"R.J. Hunter\"]\n",
    " \n",
    " \n",
    "print(first, \"\\n\\n\\n\", second)"
   ]
  },
  {
   "cell_type": "code",
   "execution_count": 73,
   "id": "f20fbb8e",
   "metadata": {},
   "outputs": [
    {
     "data": {
      "text/plain": [
       "Team        Boston Celtics\n",
       "Number                28.0\n",
       "Position                SG\n",
       "Age                   22.0\n",
       "Height                 6-5\n",
       "Weight               185.0\n",
       "College      Georgia State\n",
       "Salary           1148640.0\n",
       "Name: R.J. Hunter, dtype: object"
      ]
     },
     "execution_count": 73,
     "metadata": {},
     "output_type": "execute_result"
    }
   ],
   "source": [
    "data.iloc[3] "
   ]
  },
  {
   "cell_type": "code",
   "execution_count": 75,
   "id": "fd33202d",
   "metadata": {},
   "outputs": [
    {
     "data": {
      "text/html": [
       "<div>\n",
       "<style scoped>\n",
       "    .dataframe tbody tr th:only-of-type {\n",
       "        vertical-align: middle;\n",
       "    }\n",
       "\n",
       "    .dataframe tbody tr th {\n",
       "        vertical-align: top;\n",
       "    }\n",
       "\n",
       "    .dataframe thead th {\n",
       "        text-align: right;\n",
       "    }\n",
       "</style>\n",
       "<table border=\"1\" class=\"dataframe\">\n",
       "  <thead>\n",
       "    <tr style=\"text-align: right;\">\n",
       "      <th></th>\n",
       "      <th>First Score</th>\n",
       "      <th>Second Score</th>\n",
       "      <th>Third Score</th>\n",
       "    </tr>\n",
       "  </thead>\n",
       "  <tbody>\n",
       "    <tr>\n",
       "      <th>0</th>\n",
       "      <td>100.0</td>\n",
       "      <td>30.0</td>\n",
       "      <td>NaN</td>\n",
       "    </tr>\n",
       "    <tr>\n",
       "      <th>1</th>\n",
       "      <td>90.0</td>\n",
       "      <td>45.0</td>\n",
       "      <td>40.0</td>\n",
       "    </tr>\n",
       "    <tr>\n",
       "      <th>2</th>\n",
       "      <td>NaN</td>\n",
       "      <td>56.0</td>\n",
       "      <td>80.0</td>\n",
       "    </tr>\n",
       "    <tr>\n",
       "      <th>3</th>\n",
       "      <td>95.0</td>\n",
       "      <td>NaN</td>\n",
       "      <td>98.0</td>\n",
       "    </tr>\n",
       "  </tbody>\n",
       "</table>\n",
       "</div>"
      ],
      "text/plain": [
       "   First Score  Second Score  Third Score\n",
       "0        100.0          30.0          NaN\n",
       "1         90.0          45.0         40.0\n",
       "2          NaN          56.0         80.0\n",
       "3         95.0           NaN         98.0"
      ]
     },
     "execution_count": 75,
     "metadata": {},
     "output_type": "execute_result"
    }
   ],
   "source": [
    "import numpy as np\n",
    " \n",
    "# dictionary of lists\n",
    "dict = {'First Score':[100, 90, np.nan, 95],\n",
    "        'Second Score': [30, 45, 56, np.nan],\n",
    "        'Third Score':[np.nan, 40, 80, 98]}\n",
    " \n",
    "# creating a dataframe from list\n",
    "df = pd.DataFrame(dict)\n",
    " \n",
    "# using isnull() function  \n",
    "df"
   ]
  },
  {
   "cell_type": "code",
   "execution_count": 76,
   "id": "270dab21",
   "metadata": {},
   "outputs": [
    {
     "data": {
      "text/html": [
       "<div>\n",
       "<style scoped>\n",
       "    .dataframe tbody tr th:only-of-type {\n",
       "        vertical-align: middle;\n",
       "    }\n",
       "\n",
       "    .dataframe tbody tr th {\n",
       "        vertical-align: top;\n",
       "    }\n",
       "\n",
       "    .dataframe thead th {\n",
       "        text-align: right;\n",
       "    }\n",
       "</style>\n",
       "<table border=\"1\" class=\"dataframe\">\n",
       "  <thead>\n",
       "    <tr style=\"text-align: right;\">\n",
       "      <th></th>\n",
       "      <th>First Score</th>\n",
       "      <th>Second Score</th>\n",
       "      <th>Third Score</th>\n",
       "    </tr>\n",
       "  </thead>\n",
       "  <tbody>\n",
       "    <tr>\n",
       "      <th>0</th>\n",
       "      <td>False</td>\n",
       "      <td>False</td>\n",
       "      <td>True</td>\n",
       "    </tr>\n",
       "    <tr>\n",
       "      <th>1</th>\n",
       "      <td>False</td>\n",
       "      <td>False</td>\n",
       "      <td>False</td>\n",
       "    </tr>\n",
       "    <tr>\n",
       "      <th>2</th>\n",
       "      <td>True</td>\n",
       "      <td>False</td>\n",
       "      <td>False</td>\n",
       "    </tr>\n",
       "    <tr>\n",
       "      <th>3</th>\n",
       "      <td>False</td>\n",
       "      <td>True</td>\n",
       "      <td>False</td>\n",
       "    </tr>\n",
       "  </tbody>\n",
       "</table>\n",
       "</div>"
      ],
      "text/plain": [
       "   First Score  Second Score  Third Score\n",
       "0        False         False         True\n",
       "1        False         False        False\n",
       "2         True         False        False\n",
       "3        False          True        False"
      ]
     },
     "execution_count": 76,
     "metadata": {},
     "output_type": "execute_result"
    }
   ],
   "source": [
    "df.isnull()"
   ]
  },
  {
   "cell_type": "code",
   "execution_count": 77,
   "id": "30505a5e",
   "metadata": {},
   "outputs": [
    {
     "data": {
      "text/html": [
       "<div>\n",
       "<style scoped>\n",
       "    .dataframe tbody tr th:only-of-type {\n",
       "        vertical-align: middle;\n",
       "    }\n",
       "\n",
       "    .dataframe tbody tr th {\n",
       "        vertical-align: top;\n",
       "    }\n",
       "\n",
       "    .dataframe thead th {\n",
       "        text-align: right;\n",
       "    }\n",
       "</style>\n",
       "<table border=\"1\" class=\"dataframe\">\n",
       "  <thead>\n",
       "    <tr style=\"text-align: right;\">\n",
       "      <th></th>\n",
       "      <th>First Score</th>\n",
       "      <th>Second Score</th>\n",
       "      <th>Third Score</th>\n",
       "    </tr>\n",
       "  </thead>\n",
       "  <tbody>\n",
       "    <tr>\n",
       "      <th>0</th>\n",
       "      <td>100.0</td>\n",
       "      <td>30.0</td>\n",
       "      <td>0.0</td>\n",
       "    </tr>\n",
       "    <tr>\n",
       "      <th>1</th>\n",
       "      <td>90.0</td>\n",
       "      <td>45.0</td>\n",
       "      <td>40.0</td>\n",
       "    </tr>\n",
       "    <tr>\n",
       "      <th>2</th>\n",
       "      <td>0.0</td>\n",
       "      <td>56.0</td>\n",
       "      <td>80.0</td>\n",
       "    </tr>\n",
       "    <tr>\n",
       "      <th>3</th>\n",
       "      <td>95.0</td>\n",
       "      <td>0.0</td>\n",
       "      <td>98.0</td>\n",
       "    </tr>\n",
       "  </tbody>\n",
       "</table>\n",
       "</div>"
      ],
      "text/plain": [
       "   First Score  Second Score  Third Score\n",
       "0        100.0          30.0          0.0\n",
       "1         90.0          45.0         40.0\n",
       "2          0.0          56.0         80.0\n",
       "3         95.0           0.0         98.0"
      ]
     },
     "execution_count": 77,
     "metadata": {},
     "output_type": "execute_result"
    }
   ],
   "source": [
    "df.fillna(0)"
   ]
  },
  {
   "cell_type": "code",
   "execution_count": 78,
   "id": "3a4c92bf",
   "metadata": {},
   "outputs": [
    {
     "data": {
      "text/html": [
       "<div>\n",
       "<style scoped>\n",
       "    .dataframe tbody tr th:only-of-type {\n",
       "        vertical-align: middle;\n",
       "    }\n",
       "\n",
       "    .dataframe tbody tr th {\n",
       "        vertical-align: top;\n",
       "    }\n",
       "\n",
       "    .dataframe thead th {\n",
       "        text-align: right;\n",
       "    }\n",
       "</style>\n",
       "<table border=\"1\" class=\"dataframe\">\n",
       "  <thead>\n",
       "    <tr style=\"text-align: right;\">\n",
       "      <th></th>\n",
       "      <th>First Score</th>\n",
       "      <th>Second Score</th>\n",
       "      <th>Third Score</th>\n",
       "      <th>Fourth Score</th>\n",
       "    </tr>\n",
       "  </thead>\n",
       "  <tbody>\n",
       "    <tr>\n",
       "      <th>0</th>\n",
       "      <td>100.0</td>\n",
       "      <td>30.0</td>\n",
       "      <td>52</td>\n",
       "      <td>NaN</td>\n",
       "    </tr>\n",
       "    <tr>\n",
       "      <th>1</th>\n",
       "      <td>90.0</td>\n",
       "      <td>NaN</td>\n",
       "      <td>40</td>\n",
       "      <td>NaN</td>\n",
       "    </tr>\n",
       "    <tr>\n",
       "      <th>2</th>\n",
       "      <td>NaN</td>\n",
       "      <td>45.0</td>\n",
       "      <td>80</td>\n",
       "      <td>NaN</td>\n",
       "    </tr>\n",
       "    <tr>\n",
       "      <th>3</th>\n",
       "      <td>95.0</td>\n",
       "      <td>56.0</td>\n",
       "      <td>98</td>\n",
       "      <td>65.0</td>\n",
       "    </tr>\n",
       "  </tbody>\n",
       "</table>\n",
       "</div>"
      ],
      "text/plain": [
       "   First Score  Second Score  Third Score  Fourth Score\n",
       "0        100.0          30.0           52           NaN\n",
       "1         90.0           NaN           40           NaN\n",
       "2          NaN          45.0           80           NaN\n",
       "3         95.0          56.0           98          65.0"
      ]
     },
     "execution_count": 78,
     "metadata": {},
     "output_type": "execute_result"
    }
   ],
   "source": [
    "dict = {'First Score':[100, 90, np.nan, 95],\n",
    "        'Second Score': [30, np.nan, 45, 56],\n",
    "        'Third Score':[52, 40, 80, 98],\n",
    "        'Fourth Score':[np.nan, np.nan, np.nan, 65]}\n",
    " \n",
    "# creating a dataframe from dictionary\n",
    "df = pd.DataFrame(dict)\n",
    "   \n",
    "df"
   ]
  },
  {
   "cell_type": "code",
   "execution_count": 79,
   "id": "44edae85",
   "metadata": {},
   "outputs": [
    {
     "data": {
      "text/html": [
       "<div>\n",
       "<style scoped>\n",
       "    .dataframe tbody tr th:only-of-type {\n",
       "        vertical-align: middle;\n",
       "    }\n",
       "\n",
       "    .dataframe tbody tr th {\n",
       "        vertical-align: top;\n",
       "    }\n",
       "\n",
       "    .dataframe thead th {\n",
       "        text-align: right;\n",
       "    }\n",
       "</style>\n",
       "<table border=\"1\" class=\"dataframe\">\n",
       "  <thead>\n",
       "    <tr style=\"text-align: right;\">\n",
       "      <th></th>\n",
       "      <th>First Score</th>\n",
       "      <th>Second Score</th>\n",
       "      <th>Third Score</th>\n",
       "      <th>Fourth Score</th>\n",
       "    </tr>\n",
       "  </thead>\n",
       "  <tbody>\n",
       "    <tr>\n",
       "      <th>3</th>\n",
       "      <td>95.0</td>\n",
       "      <td>56.0</td>\n",
       "      <td>98</td>\n",
       "      <td>65.0</td>\n",
       "    </tr>\n",
       "  </tbody>\n",
       "</table>\n",
       "</div>"
      ],
      "text/plain": [
       "   First Score  Second Score  Third Score  Fourth Score\n",
       "3         95.0          56.0           98          65.0"
      ]
     },
     "execution_count": 79,
     "metadata": {},
     "output_type": "execute_result"
    }
   ],
   "source": [
    "dict = {'First Score':[100, 90, np.nan, 95],\n",
    "        'Second Score': [30, np.nan, 45, 56],\n",
    "        'Third Score':[52, 40, 80, 98],\n",
    "        'Fourth Score':[np.nan, np.nan, np.nan, 65]}\n",
    " \n",
    "# creating a dataframe from dictionary\n",
    "df = pd.DataFrame(dict)\n",
    " \n",
    "# using dropna() function  \n",
    "df.dropna()"
   ]
  },
  {
   "cell_type": "code",
   "execution_count": 80,
   "id": "f7ed1029",
   "metadata": {},
   "outputs": [
    {
     "data": {
      "text/html": [
       "<div>\n",
       "<style scoped>\n",
       "    .dataframe tbody tr th:only-of-type {\n",
       "        vertical-align: middle;\n",
       "    }\n",
       "\n",
       "    .dataframe tbody tr th {\n",
       "        vertical-align: top;\n",
       "    }\n",
       "\n",
       "    .dataframe thead th {\n",
       "        text-align: right;\n",
       "    }\n",
       "</style>\n",
       "<table border=\"1\" class=\"dataframe\">\n",
       "  <thead>\n",
       "    <tr style=\"text-align: right;\">\n",
       "      <th></th>\n",
       "      <th>name</th>\n",
       "      <th>degree</th>\n",
       "      <th>score</th>\n",
       "    </tr>\n",
       "  </thead>\n",
       "  <tbody>\n",
       "    <tr>\n",
       "      <th>0</th>\n",
       "      <td>aparna</td>\n",
       "      <td>MBA</td>\n",
       "      <td>90</td>\n",
       "    </tr>\n",
       "    <tr>\n",
       "      <th>1</th>\n",
       "      <td>pankaj</td>\n",
       "      <td>BCA</td>\n",
       "      <td>40</td>\n",
       "    </tr>\n",
       "    <tr>\n",
       "      <th>2</th>\n",
       "      <td>sudhir</td>\n",
       "      <td>M.Tech</td>\n",
       "      <td>80</td>\n",
       "    </tr>\n",
       "    <tr>\n",
       "      <th>3</th>\n",
       "      <td>Geeku</td>\n",
       "      <td>MBA</td>\n",
       "      <td>98</td>\n",
       "    </tr>\n",
       "  </tbody>\n",
       "</table>\n",
       "</div>"
      ],
      "text/plain": [
       "     name  degree  score\n",
       "0  aparna     MBA     90\n",
       "1  pankaj     BCA     40\n",
       "2  sudhir  M.Tech     80\n",
       "3   Geeku     MBA     98"
      ]
     },
     "execution_count": 80,
     "metadata": {},
     "output_type": "execute_result"
    }
   ],
   "source": [
    "dict = {'name':[\"aparna\", \"pankaj\", \"sudhir\", \"Geeku\"],\n",
    "        'degree': [\"MBA\", \"BCA\", \"M.Tech\", \"MBA\"],\n",
    "        'score':[90, 40, 80, 98]}\n",
    " \n",
    "# creating a dataframe from a dictionary \n",
    "df = pd.DataFrame(dict)\n",
    "df"
   ]
  },
  {
   "cell_type": "code",
   "execution_count": 81,
   "id": "e69cf33c",
   "metadata": {},
   "outputs": [
    {
     "name": "stdout",
     "output_type": "stream",
     "text": [
      "0 name      aparna\n",
      "degree       MBA\n",
      "score         90\n",
      "Name: 0, dtype: object\n",
      "\n",
      "1 name      pankaj\n",
      "degree       BCA\n",
      "score         40\n",
      "Name: 1, dtype: object\n",
      "\n",
      "2 name      sudhir\n",
      "degree    M.Tech\n",
      "score         80\n",
      "Name: 2, dtype: object\n",
      "\n",
      "3 name      Geeku\n",
      "degree      MBA\n",
      "score        98\n",
      "Name: 3, dtype: object\n",
      "\n"
     ]
    }
   ],
   "source": [
    "for i, j in df.iterrows():\n",
    "    print(i, j)\n",
    "    print()"
   ]
  },
  {
   "cell_type": "code",
   "execution_count": 82,
   "id": "a088294f",
   "metadata": {},
   "outputs": [
    {
     "name": "stdout",
     "output_type": "stream",
     "text": [
      "sudhir\n",
      "M.Tech\n",
      "80\n"
     ]
    }
   ],
   "source": [
    "# creating a list of dataframe columns\n",
    "columns = list(df)\n",
    " \n",
    "for i in columns:\n",
    "    print (df[i][2])"
   ]
  },
  {
   "cell_type": "code",
   "execution_count": 83,
   "id": "1ef18a15",
   "metadata": {},
   "outputs": [
    {
     "data": {
      "text/html": [
       "<div>\n",
       "<style scoped>\n",
       "    .dataframe tbody tr th:only-of-type {\n",
       "        vertical-align: middle;\n",
       "    }\n",
       "\n",
       "    .dataframe tbody tr th {\n",
       "        vertical-align: top;\n",
       "    }\n",
       "\n",
       "    .dataframe thead th {\n",
       "        text-align: right;\n",
       "    }\n",
       "</style>\n",
       "<table border=\"1\" class=\"dataframe\">\n",
       "  <thead>\n",
       "    <tr style=\"text-align: right;\">\n",
       "      <th></th>\n",
       "    </tr>\n",
       "  </thead>\n",
       "  <tbody>\n",
       "  </tbody>\n",
       "</table>\n",
       "</div>"
      ],
      "text/plain": [
       "Empty DataFrame\n",
       "Columns: []\n",
       "Index: []"
      ]
     },
     "execution_count": 83,
     "metadata": {},
     "output_type": "execute_result"
    }
   ],
   "source": [
    "import pandas as pd\n",
    " \n",
    "# Calling DataFrame constructor\n",
    "df = pd.DataFrame()\n",
    "df"
   ]
  },
  {
   "cell_type": "code",
   "execution_count": 84,
   "id": "7f8d1ac0",
   "metadata": {},
   "outputs": [
    {
     "data": {
      "text/html": [
       "<div>\n",
       "<style scoped>\n",
       "    .dataframe tbody tr th:only-of-type {\n",
       "        vertical-align: middle;\n",
       "    }\n",
       "\n",
       "    .dataframe tbody tr th {\n",
       "        vertical-align: top;\n",
       "    }\n",
       "\n",
       "    .dataframe thead th {\n",
       "        text-align: right;\n",
       "    }\n",
       "</style>\n",
       "<table border=\"1\" class=\"dataframe\">\n",
       "  <thead>\n",
       "    <tr style=\"text-align: right;\">\n",
       "      <th></th>\n",
       "      <th>0</th>\n",
       "    </tr>\n",
       "  </thead>\n",
       "  <tbody>\n",
       "    <tr>\n",
       "      <th>0</th>\n",
       "      <td>Geeks</td>\n",
       "    </tr>\n",
       "    <tr>\n",
       "      <th>1</th>\n",
       "      <td>For</td>\n",
       "    </tr>\n",
       "    <tr>\n",
       "      <th>2</th>\n",
       "      <td>Geeks</td>\n",
       "    </tr>\n",
       "    <tr>\n",
       "      <th>3</th>\n",
       "      <td>is</td>\n",
       "    </tr>\n",
       "    <tr>\n",
       "      <th>4</th>\n",
       "      <td>portal</td>\n",
       "    </tr>\n",
       "    <tr>\n",
       "      <th>5</th>\n",
       "      <td>for</td>\n",
       "    </tr>\n",
       "    <tr>\n",
       "      <th>6</th>\n",
       "      <td>Geeks</td>\n",
       "    </tr>\n",
       "  </tbody>\n",
       "</table>\n",
       "</div>"
      ],
      "text/plain": [
       "        0\n",
       "0   Geeks\n",
       "1     For\n",
       "2   Geeks\n",
       "3      is\n",
       "4  portal\n",
       "5     for\n",
       "6   Geeks"
      ]
     },
     "execution_count": 84,
     "metadata": {},
     "output_type": "execute_result"
    }
   ],
   "source": [
    "lst = ['Geeks', 'For', 'Geeks', 'is',\n",
    "            'portal', 'for', 'Geeks']\n",
    " \n",
    "# Calling DataFrame constructor on list\n",
    "df = pd.DataFrame(lst)\n",
    "df"
   ]
  },
  {
   "cell_type": "code",
   "execution_count": 85,
   "id": "217b96a9",
   "metadata": {},
   "outputs": [
    {
     "data": {
      "text/html": [
       "<div>\n",
       "<style scoped>\n",
       "    .dataframe tbody tr th:only-of-type {\n",
       "        vertical-align: middle;\n",
       "    }\n",
       "\n",
       "    .dataframe tbody tr th {\n",
       "        vertical-align: top;\n",
       "    }\n",
       "\n",
       "    .dataframe thead th {\n",
       "        text-align: right;\n",
       "    }\n",
       "</style>\n",
       "<table border=\"1\" class=\"dataframe\">\n",
       "  <thead>\n",
       "    <tr style=\"text-align: right;\">\n",
       "      <th></th>\n",
       "      <th>Name</th>\n",
       "      <th>Age</th>\n",
       "    </tr>\n",
       "  </thead>\n",
       "  <tbody>\n",
       "    <tr>\n",
       "      <th>0</th>\n",
       "      <td>Tom</td>\n",
       "      <td>20</td>\n",
       "    </tr>\n",
       "    <tr>\n",
       "      <th>1</th>\n",
       "      <td>nick</td>\n",
       "      <td>21</td>\n",
       "    </tr>\n",
       "    <tr>\n",
       "      <th>2</th>\n",
       "      <td>krish</td>\n",
       "      <td>19</td>\n",
       "    </tr>\n",
       "    <tr>\n",
       "      <th>3</th>\n",
       "      <td>jack</td>\n",
       "      <td>18</td>\n",
       "    </tr>\n",
       "  </tbody>\n",
       "</table>\n",
       "</div>"
      ],
      "text/plain": [
       "    Name  Age\n",
       "0    Tom   20\n",
       "1   nick   21\n",
       "2  krish   19\n",
       "3   jack   18"
      ]
     },
     "execution_count": 85,
     "metadata": {},
     "output_type": "execute_result"
    }
   ],
   "source": [
    "data = {'Name':['Tom', 'nick', 'krish', 'jack'], 'Age':[20, 21, 19, 18]}\n",
    " \n",
    "# Create DataFrame\n",
    "df = pd.DataFrame(data)\n",
    "df"
   ]
  },
  {
   "cell_type": "code",
   "execution_count": 86,
   "id": "ffbc3304",
   "metadata": {},
   "outputs": [
    {
     "data": {
      "text/html": [
       "<div>\n",
       "<style scoped>\n",
       "    .dataframe tbody tr th:only-of-type {\n",
       "        vertical-align: middle;\n",
       "    }\n",
       "\n",
       "    .dataframe tbody tr th {\n",
       "        vertical-align: top;\n",
       "    }\n",
       "\n",
       "    .dataframe thead th {\n",
       "        text-align: right;\n",
       "    }\n",
       "</style>\n",
       "<table border=\"1\" class=\"dataframe\">\n",
       "  <thead>\n",
       "    <tr style=\"text-align: right;\">\n",
       "      <th></th>\n",
       "      <th>name</th>\n",
       "      <th>degree</th>\n",
       "      <th>score</th>\n",
       "    </tr>\n",
       "  </thead>\n",
       "  <tbody>\n",
       "    <tr>\n",
       "      <th>0</th>\n",
       "      <td>aparna</td>\n",
       "      <td>MBA</td>\n",
       "      <td>90</td>\n",
       "    </tr>\n",
       "    <tr>\n",
       "      <th>1</th>\n",
       "      <td>pankaj</td>\n",
       "      <td>BCA</td>\n",
       "      <td>40</td>\n",
       "    </tr>\n",
       "    <tr>\n",
       "      <th>2</th>\n",
       "      <td>sudhir</td>\n",
       "      <td>M.Tech</td>\n",
       "      <td>80</td>\n",
       "    </tr>\n",
       "    <tr>\n",
       "      <th>3</th>\n",
       "      <td>Geeku</td>\n",
       "      <td>MBA</td>\n",
       "      <td>98</td>\n",
       "    </tr>\n",
       "  </tbody>\n",
       "</table>\n",
       "</div>"
      ],
      "text/plain": [
       "     name  degree  score\n",
       "0  aparna     MBA     90\n",
       "1  pankaj     BCA     40\n",
       "2  sudhir  M.Tech     80\n",
       "3   Geeku     MBA     98"
      ]
     },
     "execution_count": 86,
     "metadata": {},
     "output_type": "execute_result"
    }
   ],
   "source": [
    "dict = {'name':[\"aparna\", \"pankaj\", \"sudhir\", \"Geeku\"],\n",
    "        'degree': [\"MBA\", \"BCA\", \"M.Tech\", \"MBA\"],\n",
    "        'score':[90, 40, 80, 98]}\n",
    " \n",
    "df = pd.DataFrame(dict)\n",
    "df"
   ]
  },
  {
   "cell_type": "code",
   "execution_count": 87,
   "id": "8165a701",
   "metadata": {},
   "outputs": [
    {
     "data": {
      "text/plain": [
       "0    1\n",
       "1    2\n",
       "2    3\n",
       "3    4\n",
       "dtype: int64"
      ]
     },
     "execution_count": 87,
     "metadata": {},
     "output_type": "execute_result"
    }
   ],
   "source": [
    "import pandas as pd\n",
    " \n",
    "# simple array\n",
    "data = [1, 2, 3, 4]\n",
    " \n",
    "ser = pd.Series(data)\n",
    "ser"
   ]
  },
  {
   "cell_type": "code",
   "execution_count": 88,
   "id": "b4e5ea43",
   "metadata": {},
   "outputs": [
    {
     "data": {
      "text/plain": [
       "Series([], dtype: object)"
      ]
     },
     "execution_count": 88,
     "metadata": {},
     "output_type": "execute_result"
    }
   ],
   "source": [
    "import pandas as pd\n",
    " \n",
    "# Creating empty series\n",
    "ser = pd.Series()\n",
    "ser"
   ]
  },
  {
   "cell_type": "code",
   "execution_count": 89,
   "id": "b097af0b",
   "metadata": {},
   "outputs": [
    {
     "data": {
      "text/plain": [
       "0    g\n",
       "1    e\n",
       "2    e\n",
       "3    k\n",
       "4    s\n",
       "dtype: object"
      ]
     },
     "execution_count": 89,
     "metadata": {},
     "output_type": "execute_result"
    }
   ],
   "source": [
    "data = np.array(['g', 'e', 'e', 'k', 's'])\n",
    "ser = pd.Series(data)\n",
    "ser"
   ]
  },
  {
   "cell_type": "code",
   "execution_count": 90,
   "id": "6ee0a69a",
   "metadata": {},
   "outputs": [
    {
     "data": {
      "text/plain": [
       "10    g\n",
       "11    e\n",
       "12    e\n",
       "13    k\n",
       "14    s\n",
       "dtype: object"
      ]
     },
     "execution_count": 90,
     "metadata": {},
     "output_type": "execute_result"
    }
   ],
   "source": [
    "ser = pd.Series(data, index=[10, 11, 12, 13, 14])\n",
    "ser"
   ]
  },
  {
   "cell_type": "code",
   "execution_count": 91,
   "id": "f22bdb4f",
   "metadata": {},
   "outputs": [
    {
     "name": "stdout",
     "output_type": "stream",
     "text": [
      "0    g\n",
      "1    e\n",
      "2    e\n",
      "3    k\n",
      "4    s\n",
      "dtype: object\n"
     ]
    }
   ],
   "source": [
    "list = ['g', 'e', 'e', 'k', 's']\n",
    " \n",
    "# create series form a list\n",
    "ser = pd.Series(list)\n",
    "print(ser)"
   ]
  },
  {
   "cell_type": "code",
   "execution_count": 92,
   "id": "d265b264",
   "metadata": {},
   "outputs": [
    {
     "data": {
      "text/plain": [
       "Geeks    10\n",
       "for      20\n",
       "geeks    30\n",
       "dtype: int64"
      ]
     },
     "execution_count": 92,
     "metadata": {},
     "output_type": "execute_result"
    }
   ],
   "source": [
    "dict = {'Geeks': 10,\n",
    "        'for': 20,\n",
    "        'geeks': 30}\n",
    " \n",
    "# create series from dictionary\n",
    "ser = pd.Series(dict)\n",
    "ser"
   ]
  },
  {
   "cell_type": "code",
   "execution_count": 93,
   "id": "73a6c244",
   "metadata": {},
   "outputs": [
    {
     "data": {
      "text/plain": [
       "0    10\n",
       "1    10\n",
       "2    10\n",
       "3    10\n",
       "4    10\n",
       "5    10\n",
       "dtype: int64"
      ]
     },
     "execution_count": 93,
     "metadata": {},
     "output_type": "execute_result"
    }
   ],
   "source": [
    "ser = pd.Series(10, index=[0, 1, 2, 3, 4, 5])\n",
    "ser"
   ]
  },
  {
   "cell_type": "code",
   "execution_count": 95,
   "id": "10d7b0a6",
   "metadata": {},
   "outputs": [
    {
     "name": "stdout",
     "output_type": "stream",
     "text": [
      "0     3.0\n",
      "1    18.0\n",
      "2    33.0\n",
      "dtype: float64\n",
      "0      1.0\n",
      "1     12.0\n",
      "2     23.0\n",
      "3     34.0\n",
      "4     45.0\n",
      "5     56.0\n",
      "6     67.0\n",
      "7     78.0\n",
      "8     89.0\n",
      "9    100.0\n",
      "dtype: float64\n"
     ]
    }
   ],
   "source": [
    "ser1 = pd.Series(np.linspace(3, 33, 3))\n",
    "print(ser1)\n",
    " \n",
    "# series with numpy linspace()\n",
    "ser2 = pd.Series(np.linspace(1, 100, 10))\n",
    "print(ser2)"
   ]
  },
  {
   "cell_type": "code",
   "execution_count": 96,
   "id": "bee7623e",
   "metadata": {},
   "outputs": [
    {
     "name": "stdout",
     "output_type": "stream",
     "text": [
      "0    0\n",
      "1    1\n",
      "2    2\n",
      "3    3\n",
      "4    4\n",
      "5    5\n",
      "6    6\n",
      "7    7\n",
      "8    8\n",
      "9    9\n",
      "dtype: int64\n"
     ]
    }
   ],
   "source": [
    "import pandas as pd\n",
    "ser=pd.Series(range(10))\n",
    "print(ser)"
   ]
  },
  {
   "cell_type": "code",
   "execution_count": 97,
   "id": "4f622932",
   "metadata": {},
   "outputs": [
    {
     "name": "stdout",
     "output_type": "stream",
     "text": [
      "a     1\n",
      "b     4\n",
      "c     7\n",
      "d    10\n",
      "e    13\n",
      "f    16\n",
      "g    19\n",
      "dtype: int64\n"
     ]
    }
   ],
   "source": [
    "ser=pd.Series(range(1,20,3), index=[x for x in 'abcdefg'])\n",
    "print(ser)"
   ]
  },
  {
   "cell_type": "code",
   "execution_count": 105,
   "id": "6edae261",
   "metadata": {},
   "outputs": [
    {
     "name": "stdout",
     "output_type": "stream",
     "text": [
      "10    50\n",
      "11    55\n",
      "12    60\n",
      "13    65\n",
      "14    70\n",
      "dtype: int32\n"
     ]
    }
   ],
   "source": [
    "ser=np.arange(10,15)\n",
    "serobj=pd.Series(data=ser*5,index=ser)\n",
    "print(serobj)"
   ]
  },
  {
   "cell_type": "code",
   "execution_count": 106,
   "id": "3204bd0b",
   "metadata": {},
   "outputs": [
    {
     "data": {
      "text/plain": [
       "array([10, 11, 12, 13, 14])"
      ]
     },
     "execution_count": 106,
     "metadata": {},
     "output_type": "execute_result"
    }
   ],
   "source": [
    "np.arange(10,15)"
   ]
  },
  {
   "cell_type": "markdown",
   "id": "62d00885",
   "metadata": {},
   "source": [
    "# Day 5"
   ]
  },
  {
   "cell_type": "markdown",
   "id": "ff2f9dbd",
   "metadata": {},
   "source": [
    "### inverse of matrix"
   ]
  },
  {
   "cell_type": "code",
   "execution_count": 6,
   "id": "7d5a31a4",
   "metadata": {},
   "outputs": [
    {
     "data": {
      "text/plain": [
       "array([[ 2. , -1. ],\n",
       "       [-0.5,  0.5]])"
      ]
     },
     "execution_count": 6,
     "metadata": {},
     "output_type": "execute_result"
    }
   ],
   "source": [
    "#importing NumPy library\n",
    "import  numpy as np\n",
    " \n",
    "#importing SciPy library\n",
    "from scipy import linalg\n",
    "# 2 x 2\n",
    "A = [[1,2],[1,4]]\n",
    "\n",
    "linalg.inv(A)"
   ]
  },
  {
   "cell_type": "code",
   "execution_count": 7,
   "id": "d6151283",
   "metadata": {},
   "outputs": [
    {
     "data": {
      "text/plain": [
       "array([[ 1. , -2. ,  1. ],\n",
       "       [-1. ,  5. , -3. ],\n",
       "       [ 0. , -0.5,  0.5]])"
      ]
     },
     "execution_count": 7,
     "metadata": {},
     "output_type": "execute_result"
    }
   ],
   "source": [
    "# 3 x 3\n",
    "A = [[2,1,2],[1,1,4],[1,1,6]]\n",
    "\n",
    "linalg.inv(A)"
   ]
  },
  {
   "cell_type": "markdown",
   "id": "f849165c",
   "metadata": {},
   "source": [
    "### Determinant"
   ]
  },
  {
   "cell_type": "code",
   "execution_count": 11,
   "id": "35190317",
   "metadata": {},
   "outputs": [
    {
     "data": {
      "text/plain": [
       "-144.00000000000003"
      ]
     },
     "execution_count": 11,
     "metadata": {},
     "output_type": "execute_result"
    }
   ],
   "source": [
    "A = [[45,9],[66,10]]\n",
    "linalg.det(A)"
   ]
  },
  {
   "cell_type": "code",
   "execution_count": 12,
   "id": "7388afba",
   "metadata": {},
   "outputs": [
    {
     "data": {
      "text/plain": [
       "-4028.999999999999"
      ]
     },
     "execution_count": 12,
     "metadata": {},
     "output_type": "execute_result"
    }
   ],
   "source": [
    "A = [[11,22,32],[25,27,14],[23,21,19]]\n",
    "\n",
    "linalg.det(A)"
   ]
  },
  {
   "cell_type": "markdown",
   "id": "ff43eb6f",
   "metadata": {},
   "source": [
    "### Norm"
   ]
  },
  {
   "cell_type": "code",
   "execution_count": 10,
   "id": "13cb5422",
   "metadata": {},
   "outputs": [],
   "source": [
    "A = [[11,22,32],[25,27,14],[23,21,19]]\n",
    "B = [[4,3,2],[4,13,5],[21,11,22]]"
   ]
  },
  {
   "cell_type": "code",
   "execution_count": 14,
   "id": "10acd7c3",
   "metadata": {},
   "outputs": [
    {
     "data": {
      "text/plain": [
       "array([[804, 671, 836],\n",
       "       [502, 580, 493],\n",
       "       [575, 551, 569]])"
      ]
     },
     "execution_count": 14,
     "metadata": {},
     "output_type": "execute_result"
    }
   ],
   "source": [
    "np.dot(A,B)"
   ]
  },
  {
   "cell_type": "code",
   "execution_count": 13,
   "id": "0c7a78c5",
   "metadata": {},
   "outputs": [
    {
     "data": {
      "text/plain": [
       "1893.4077743581809"
      ]
     },
     "execution_count": 13,
     "metadata": {},
     "output_type": "execute_result"
    }
   ],
   "source": [
    "linalg.norm(np.dot(A,B))"
   ]
  },
  {
   "cell_type": "markdown",
   "id": "a924d2a2",
   "metadata": {},
   "source": [
    "### Factorial of a list"
   ]
  },
  {
   "cell_type": "code",
   "execution_count": 16,
   "id": "250fa5d9",
   "metadata": {},
   "outputs": [],
   "source": [
    "#importing NumPy library\n",
    "import numpy as np\n",
    "#importing SciPy library\n",
    "from scipy.special import factorial"
   ]
  },
  {
   "cell_type": "code",
   "execution_count": 15,
   "id": "18954f77",
   "metadata": {},
   "outputs": [],
   "source": [
    "list1 = [1,1,1,1,1]"
   ]
  },
  {
   "cell_type": "code",
   "execution_count": 18,
   "id": "3862d320",
   "metadata": {},
   "outputs": [
    {
     "data": {
      "text/plain": [
       "120.0"
      ]
     },
     "execution_count": 18,
     "metadata": {},
     "output_type": "execute_result"
    }
   ],
   "source": [
    "factorial(sum(list1))"
   ]
  },
  {
   "cell_type": "code",
   "execution_count": 21,
   "id": "d8b4ed33",
   "metadata": {},
   "outputs": [
    {
     "data": {
      "text/plain": [
       "720.0"
      ]
     },
     "execution_count": 21,
     "metadata": {},
     "output_type": "execute_result"
    }
   ],
   "source": [
    "list1 = [1,1,2,1,1]\n",
    "factorial(sum(list1))"
   ]
  },
  {
   "cell_type": "markdown",
   "id": "e2a79c84",
   "metadata": {},
   "source": [
    "###  Calculate the gravitational force"
   ]
  },
  {
   "cell_type": "code",
   "execution_count": 22,
   "id": "fcf54ff9",
   "metadata": {},
   "outputs": [],
   "source": [
    "m1,m2,r = (12,10,7)"
   ]
  },
  {
   "cell_type": "code",
   "execution_count": 25,
   "id": "f46da680",
   "metadata": {},
   "outputs": [
    {
     "name": "stdout",
     "output_type": "stream",
     "text": [
      "1.6345224489795917e-10\n"
     ]
    }
   ],
   "source": [
    "from scipy.constants import G\n",
    " \n",
    "def gravitational_force(m1,m2,r):\n",
    "    F=(G*m1*m2)/(r**2)\n",
    "    print(F)\n",
    "gravitational_force(m1,m2,r)"
   ]
  },
  {
   "cell_type": "code",
   "execution_count": 26,
   "id": "07da0594",
   "metadata": {},
   "outputs": [
    {
     "name": "stdout",
     "output_type": "stream",
     "text": [
      "1.001145e-08\n"
     ]
    }
   ],
   "source": [
    "m1,m2,r = (100,150,10)\n",
    "gravitational_force(m1,m2,r)"
   ]
  },
  {
   "cell_type": "markdown",
   "id": "724e7dfe",
   "metadata": {},
   "source": [
    "###  Area of the circle"
   ]
  },
  {
   "cell_type": "code",
   "execution_count": 30,
   "id": "55d46721",
   "metadata": {},
   "outputs": [
    {
     "data": {
      "text/plain": [
       "113.09733552923255"
      ]
     },
     "execution_count": 30,
     "metadata": {},
     "output_type": "execute_result"
    }
   ],
   "source": [
    "import scipy\n",
    "from scipy.constants import pi\n",
    "\n",
    "N = 12\n",
    "\n",
    "def circular_area(N):\n",
    "    return pi* ((N/2)**2)\n",
    "circular_area(N)"
   ]
  },
  {
   "cell_type": "code",
   "execution_count": 32,
   "id": "21a2705f",
   "metadata": {},
   "outputs": [
    {
     "data": {
      "text/plain": [
       "95.03317777109125"
      ]
     },
     "execution_count": 32,
     "metadata": {},
     "output_type": "execute_result"
    }
   ],
   "source": [
    "N = 11\n",
    "circular_area(N)"
   ]
  },
  {
   "cell_type": "markdown",
   "id": "49ba625a",
   "metadata": {},
   "source": [
    "### cubic root\n",
    "- Consider a list as list1 containing integers as elements. Perform multiplication of all the even elements in the list and print the cube root of the multiplicative total."
   ]
  },
  {
   "cell_type": "code",
   "execution_count": 45,
   "id": "a27fd986",
   "metadata": {},
   "outputs": [
    {
     "name": "stdout",
     "output_type": "stream",
     "text": [
      "7.268482371328559\n"
     ]
    }
   ],
   "source": [
    "#importing SciPy library\n",
    "import scipy\n",
    "from scipy.special import cbrt\n",
    "\n",
    "list1= [1,2,3,4,5,6,7,8]\n",
    "\n",
    "mul = 1 \n",
    "for i in list1:\n",
    "  if i %2==0:\n",
    "    mul *= i\n",
    "print(cbrt(mul))"
   ]
  },
  {
   "cell_type": "code",
   "execution_count": 46,
   "id": "2da7acfa",
   "metadata": {},
   "outputs": [
    {
     "data": {
      "text/plain": [
       "2.0"
      ]
     },
     "execution_count": 46,
     "metadata": {},
     "output_type": "execute_result"
    }
   ],
   "source": [
    "list1= [1,2,1,2,2]\n",
    "mul = 1 \n",
    "for i in list1:\n",
    "  if i %2==0:\n",
    "    mul *= i\n",
    "cbrt(mul)"
   ]
  },
  {
   "cell_type": "markdown",
   "id": "12b3dfe7",
   "metadata": {},
   "source": [
    "### Log Sum Exponential of a list\n",
    "- Compute and store all the prime numbers present within a range (X, Y) in a list. Now find and print the Log Sum Exponential using the list of prime numbers within the provided range."
   ]
  },
  {
   "cell_type": "code",
   "execution_count": 14,
   "id": "c3444760",
   "metadata": {},
   "outputs": [
    {
     "name": "stdout",
     "output_type": "stream",
     "text": [
      "97.00033625289022\n"
     ]
    }
   ],
   "source": [
    "from scipy.special import logsumexp\n",
    "\n",
    "def isPrime(n):\n",
    "    pl = []\n",
    "    if n<=1: \n",
    "        return False\n",
    "    else:\n",
    "        for i in range(2,n):\n",
    "            if n%i==0:\n",
    "                pl.append(i)\n",
    "            else:\n",
    "                pass\n",
    "    if pl==[]:\n",
    "        return True\n",
    "    else:\n",
    "        return False\n",
    "\n",
    "\n",
    "\n",
    "\n",
    "def logSumExpo(X,Y):\n",
    "    fl=[] \n",
    "    for j in range(X,Y):\n",
    "        if isPrime(j):\n",
    "            fl.append(j)\n",
    "        else:\n",
    "            pass\n",
    "    print(logsumexp(fl))\n",
    "logSumExpo(0,100)"
   ]
  },
  {
   "cell_type": "markdown",
   "id": "9916749c",
   "metadata": {},
   "source": [
    "### reverse of string"
   ]
  },
  {
   "cell_type": "code",
   "execution_count": 14,
   "id": "97bddcdc",
   "metadata": {},
   "outputs": [],
   "source": [
    "str1 = list('Vivek')\n",
    "str2 = ''\n",
    "n = len(str1)\n",
    "\n",
    "for i in range(0,int(n/2)):\n",
    "    str1[i] , str1[n-i-1] = str1[n-i-1] , str1[i]"
   ]
  },
  {
   "cell_type": "code",
   "execution_count": 16,
   "id": "04bc09d9",
   "metadata": {},
   "outputs": [
    {
     "data": {
      "text/plain": [
       "['k', 'e', 'v', 'i', 'V']"
      ]
     },
     "execution_count": 16,
     "metadata": {},
     "output_type": "execute_result"
    }
   ],
   "source": [
    "str1"
   ]
  },
  {
   "cell_type": "code",
   "execution_count": 26,
   "id": "59657cf7",
   "metadata": {},
   "outputs": [
    {
     "name": "stdout",
     "output_type": "stream",
     "text": [
      "[6 5 4 3 2 1]\n"
     ]
    }
   ],
   "source": [
    "import numpy as np\n",
    "list1= np.array([1, 2, 3, 4, 5, 6])\n",
    "\n",
    "print(np.flip(list1))"
   ]
  },
  {
   "cell_type": "markdown",
   "id": "e1b9f6dc",
   "metadata": {},
   "source": [
    "### All combinations of two Numpy arrays"
   ]
  },
  {
   "cell_type": "code",
   "execution_count": 63,
   "id": "5aa72409",
   "metadata": {},
   "outputs": [
    {
     "data": {
      "text/plain": [
       "[[1, 3], [1, 4], [2, 3], [2, 4]]"
      ]
     },
     "execution_count": 63,
     "metadata": {},
     "output_type": "execute_result"
    }
   ],
   "source": [
    "array1 = [1, 2] \n",
    "array2 = [3, 4]\n",
    "l1 = []\n",
    "\n",
    "for i in array1:\n",
    "    for j in array2:\n",
    "        l1.append([i,j])\n",
    "l1"
   ]
  },
  {
   "cell_type": "code",
   "execution_count": 67,
   "id": "69cbd892",
   "metadata": {},
   "outputs": [
    {
     "name": "stdout",
     "output_type": "stream",
     "text": [
      "[array([[1, 2],\n",
      "       [1, 2]]), array([[3, 3],\n",
      "       [4, 4]])]\n"
     ]
    }
   ],
   "source": [
    "import numpy as np\n",
    "print(np.meshgrid(array1 , array2))"
   ]
  },
  {
   "cell_type": "code",
   "execution_count": 70,
   "id": "c92acbc4",
   "metadata": {},
   "outputs": [
    {
     "name": "stdout",
     "output_type": "stream",
     "text": [
      "[[1 3]\n",
      " [1 4]\n",
      " [2 3]\n",
      " [2 4]]\n"
     ]
    }
   ],
   "source": [
    "print(np.array(np.meshgrid(array1,array2)).T.reshape(-1,2))"
   ]
  },
  {
   "cell_type": "code",
   "execution_count": 81,
   "id": "0ef60fe3",
   "metadata": {},
   "outputs": [
    {
     "data": {
      "text/plain": [
       "array([5, 8, 6, 5, 1, 3, 2, 4, 5])"
      ]
     },
     "execution_count": 81,
     "metadata": {},
     "output_type": "execute_result"
    }
   ],
   "source": [
    "array1= np.array([[5, 8, 6], [5, 1, 3], [2, 4, 5]])\n",
    "array1.flatten()"
   ]
  },
  {
   "cell_type": "code",
   "execution_count": 88,
   "id": "cc7f67a4",
   "metadata": {},
   "outputs": [
    {
     "data": {
      "text/plain": [
       "[5, 8, 6, 5, 1, 3, 2, 4, 5]"
      ]
     },
     "execution_count": 88,
     "metadata": {},
     "output_type": "execute_result"
    }
   ],
   "source": [
    "l = []\n",
    "for i in array1:\n",
    "    for j in i:\n",
    "        l.append(j)\n",
    "l"
   ]
  },
  {
   "cell_type": "code",
   "execution_count": 103,
   "id": "a5b4c380",
   "metadata": {},
   "outputs": [
    {
     "data": {
      "text/plain": [
       "array([[ 3,  4, 14],\n",
       "       [ 6,  5,  9]])"
      ]
     },
     "execution_count": 103,
     "metadata": {},
     "output_type": "execute_result"
    }
   ],
   "source": [
    "import numpy as np\n",
    "\n",
    "matrix1 = [[1,0,9],\n",
    "           [5,4,8]]\n",
    "\n",
    "matrix2 = [[2,4,5],\n",
    "           [1,1,1]]\n",
    "\n",
    "\n",
    "c = []\n",
    "for i in range(len(matrix1)):\n",
    "  l2 = []\n",
    "  for j in range(len(matrix1[i])):\n",
    "    l2.append(matrix1[i][j]+matrix2[i][j])\n",
    "  c.append(l2)\n",
    "np.array(c).reshape(2,-1)"
   ]
  },
  {
   "cell_type": "code",
   "execution_count": 104,
   "id": "61b5a985",
   "metadata": {},
   "outputs": [
    {
     "data": {
      "text/plain": [
       "[[3, 4, 14], [6, 5, 9]]"
      ]
     },
     "execution_count": 104,
     "metadata": {},
     "output_type": "execute_result"
    }
   ],
   "source": [
    "c"
   ]
  },
  {
   "cell_type": "code",
   "execution_count": 105,
   "id": "a4ce6c30",
   "metadata": {},
   "outputs": [
    {
     "name": "stdout",
     "output_type": "stream",
     "text": [
      "[[1, 0, 9], [5, 4, 8], [2, 4, 5], [1, 1, 1]]\n"
     ]
    }
   ],
   "source": [
    "print(matrix1+matrix2)"
   ]
  },
  {
   "cell_type": "code",
   "execution_count": 107,
   "id": "75ec30ae",
   "metadata": {},
   "outputs": [
    {
     "data": {
      "text/plain": [
       "array([[ 3,  4, 14],\n",
       "       [ 6,  5,  9]])"
      ]
     },
     "execution_count": 107,
     "metadata": {},
     "output_type": "execute_result"
    }
   ],
   "source": [
    "matrix1 = np.array([[1, 0, 9],\n",
    "[5, 4, 8]])\n",
    "\n",
    "matrix2 = np.array([[2, 4, 5],\n",
    "[1, 1, 1]])\n",
    "\n",
    "result = matrix1 + matrix2\n",
    "result.reshape(2, -1)"
   ]
  },
  {
   "cell_type": "code",
   "execution_count": 108,
   "id": "0bc1d057",
   "metadata": {},
   "outputs": [
    {
     "data": {
      "text/plain": [
       "64"
      ]
     },
     "execution_count": 108,
     "metadata": {},
     "output_type": "execute_result"
    }
   ],
   "source": [
    "np.sum(matrix1 * matrix2)"
   ]
  },
  {
   "cell_type": "code",
   "execution_count": 119,
   "id": "3bded8c9",
   "metadata": {},
   "outputs": [
    {
     "name": "stdout",
     "output_type": "stream",
     "text": [
      "[[19 19 14]\n",
      " [32 31 23]\n",
      " [58 55 41]]\n"
     ]
    }
   ],
   "source": [
    "import math\n",
    "matrix1 = [[1, 2],\n",
    "          [2, 3],\n",
    "          [4,5]]\n",
    "matrix2 = [[7, 5, 4],\n",
    "          [6, 7, 5]]\n",
    "\n",
    "\n",
    "    \n",
    "# Get the number of rows and columns for each matrix\n",
    "rows1, cols1 = len(matrix1), len(matrix1[0])\n",
    "rows2, cols2 = len(matrix2), len(matrix2[0])\n",
    "\n",
    "# Initialize the result matrix with zeros\n",
    "result = [[0 for _ in range(cols2)] for _ in range(rows1)]\n",
    "\n",
    "# Perform matrix multiplication\n",
    "for i in range(rows1):\n",
    "    for j in range(cols2):\n",
    "        for k in range(cols1):\n",
    "            result[i][j] += matrix1[i][k] * matrix2[k][j]\n",
    "print(np.array(result).reshape(3,-1))"
   ]
  },
  {
   "cell_type": "code",
   "execution_count": 122,
   "id": "5616f9a8",
   "metadata": {},
   "outputs": [
    {
     "name": "stdout",
     "output_type": "stream",
     "text": [
      "[[[19, 19, 14], [32, 31, 23], [58, 55, 41]]]\n"
     ]
    }
   ],
   "source": [
    "def reshape_list(lst, rows, cols):\n",
    "    reshaped = []\n",
    "    index = 0\n",
    "    for _ in range(rows):\n",
    "        row = []\n",
    "        for _ in range(cols):\n",
    "            row.append(lst[index])\n",
    "            index += 1\n",
    "        reshaped.append(row)\n",
    "\n",
    "    return reshaped\n",
    "\n",
    "reshaped_list = reshape_list(result, 1, 3)\n",
    "print(reshaped_list)\n"
   ]
  },
  {
   "cell_type": "markdown",
   "id": "5237f1f5",
   "metadata": {},
   "source": [
    "### replacing values if values is > X"
   ]
  },
  {
   "cell_type": "code",
   "execution_count": 5,
   "id": "93e58078",
   "metadata": {},
   "outputs": [
    {
     "name": "stdout",
     "output_type": "stream",
     "text": [
      "[112.343, 123.35, 99]\n"
     ]
    }
   ],
   "source": [
    "#importing Numpy package\n",
    "import numpy as np\n",
    "array1= [112.343, 123.35,  22.34]\n",
    "X = 99\n",
    "for i in range(len(array1)):\n",
    "  if X > array1[i]:\n",
    "    array1[i] = X\n",
    "print(array1)"
   ]
  },
  {
   "cell_type": "markdown",
   "id": "6ac0f0e8",
   "metadata": {},
   "source": [
    "### replacing diagonal values"
   ]
  },
  {
   "cell_type": "code",
   "execution_count": 8,
   "id": "417bc969",
   "metadata": {},
   "outputs": [
    {
     "name": "stdout",
     "output_type": "stream",
     "text": [
      "[[10, 18, 16], [12, 10, 11], [13, 15, 10]]\n"
     ]
    }
   ],
   "source": [
    "A = [[11,18,16],[12,22,11],[13,15,11]]\n",
    "X =10\n",
    "\n",
    "def replacingDiagonals(A,X):\n",
    "    for i in range(len(A)):\n",
    "        for j in range(len(A[i])):\n",
    "            if i == j:\n",
    "                A[i][j] = X\n",
    "    print(A)\n",
    "replacingDiagonals(A,X)"
   ]
  },
  {
   "cell_type": "code",
   "execution_count": 9,
   "id": "8337fbd1",
   "metadata": {},
   "outputs": [
    {
     "data": {
      "text/plain": [
       "[[10, 18, 16], [12, 10, 11], [13, 15, 10]]"
      ]
     },
     "execution_count": 9,
     "metadata": {},
     "output_type": "execute_result"
    }
   ],
   "source": [
    "A"
   ]
  },
  {
   "cell_type": "markdown",
   "id": "bb2eaaf8",
   "metadata": {},
   "source": [
    "### get all indeces where element is zero"
   ]
  },
  {
   "cell_type": "code",
   "execution_count": 25,
   "id": "ffe8319a",
   "metadata": {},
   "outputs": [
    {
     "name": "stdout",
     "output_type": "stream",
     "text": [
      "[2, 6]\n"
     ]
    }
   ],
   "source": [
    "l = []\n",
    "array1= [1, 2, 0, 10, 14, 1, 0]\n",
    "\n",
    "for i in range(len(array1)):\n",
    "  if array1[i] == 0:\n",
    "    l.append(i)\n",
    "print(l)"
   ]
  },
  {
   "cell_type": "code",
   "execution_count": 26,
   "id": "35eea65c",
   "metadata": {},
   "outputs": [
    {
     "name": "stdout",
     "output_type": "stream",
     "text": [
      "(array([2, 6], dtype=int64),)\n"
     ]
    }
   ],
   "source": [
    "print(np.where(np.array(array1)==0))"
   ]
  },
  {
   "cell_type": "markdown",
   "id": "2b909357",
   "metadata": {},
   "source": [
    "### Remove columns containing missing values"
   ]
  },
  {
   "cell_type": "code",
   "execution_count": 47,
   "id": "15b02e68",
   "metadata": {},
   "outputs": [
    {
     "data": {
      "text/plain": [
       "array([[ 2.,  1., 12.,  5.],\n",
       "       [ 6.,  7.,  8., 19.],\n",
       "       [ 3.,  5.,  4.,  6.]])"
      ]
     },
     "execution_count": 47,
     "metadata": {},
     "output_type": "execute_result"
    }
   ],
   "source": [
    "array1 =[[2,np.nan,1,12,5],\n",
    "         [6,np.nan,7,8,19],\n",
    "         [3,np.nan,5,4,6]]\n",
    "\n",
    "index = np.isnan(array1).any(axis=0)\n",
    "array1 = np.delete(array1, index,axis=1)\n",
    "array1"
   ]
  },
  {
   "cell_type": "markdown",
   "id": "494df81e",
   "metadata": {},
   "source": [
    "### All the negative values to zero"
   ]
  },
  {
   "cell_type": "code",
   "execution_count": 48,
   "id": "171a67d3",
   "metadata": {},
   "outputs": [
    {
     "name": "stdout",
     "output_type": "stream",
     "text": [
      "[2, 3, 0, 2, 0, 0, 7]\n"
     ]
    }
   ],
   "source": [
    "import numpy as np\n",
    "array1= [2,3,-4,2,-2,-7,7]\n",
    "\n",
    "for i in range(len(array1)):\n",
    "  if array1[i]<0:\n",
    "    array1[i] = 0\n",
    "print(array1)"
   ]
  },
  {
   "cell_type": "markdown",
   "id": "dba4ef80",
   "metadata": {},
   "source": [
    "### Replace the missing value with average"
   ]
  },
  {
   "cell_type": "code",
   "execution_count": 49,
   "id": "65ed2a96",
   "metadata": {},
   "outputs": [],
   "source": [
    "# array1= [[11, 14, 51, np.nan],\n",
    "#          [17, 41, np.nan, 19],\n",
    "#          [np.nan, 16, 15, 81]]\n",
    "# np.take(np.nanmean(array1), np.isnan(array1).any(axis=1))"
   ]
  },
  {
   "cell_type": "code",
   "execution_count": 54,
   "id": "81faefe8",
   "metadata": {},
   "outputs": [
    {
     "data": {
      "text/plain": [
       "'dcba'"
      ]
     },
     "execution_count": 54,
     "metadata": {},
     "output_type": "execute_result"
    }
   ],
   "source": [
    "a = ['a','b','c','d']\n",
    "n = len(a)\n",
    "for i in range(int(len(a)/2)):\n",
    "    a[i] , a[n-i-1] = a[n-i-1],a[i]\n",
    "\"\".join(a)"
   ]
  },
  {
   "cell_type": "code",
   "execution_count": 58,
   "id": "059bc7d4",
   "metadata": {},
   "outputs": [
    {
     "name": "stdout",
     "output_type": "stream",
     "text": [
      "-144.0\n"
     ]
    }
   ],
   "source": [
    "import numpy as np\n",
    "\n",
    "print(np.linalg.det(A))"
   ]
  },
  {
   "cell_type": "code",
   "execution_count": 1,
   "id": "c47b6272",
   "metadata": {},
   "outputs": [
    {
     "ename": "NameError",
     "evalue": "name 'A' is not defined",
     "output_type": "error",
     "traceback": [
      "\u001b[1;31m---------------------------------------------------------------------------\u001b[0m",
      "\u001b[1;31mNameError\u001b[0m                                 Traceback (most recent call last)",
      "\u001b[1;32m~\\AppData\\Local\\Temp\\ipykernel_2924\\2412241765.py\u001b[0m in \u001b[0;36m<module>\u001b[1;34m\u001b[0m\n\u001b[0;32m      1\u001b[0m \u001b[1;32mfrom\u001b[0m \u001b[0mscipy\u001b[0m \u001b[1;32mimport\u001b[0m \u001b[0mlinalg\u001b[0m\u001b[1;33m\u001b[0m\u001b[1;33m\u001b[0m\u001b[0m\n\u001b[0;32m      2\u001b[0m \u001b[1;33m\u001b[0m\u001b[0m\n\u001b[1;32m----> 3\u001b[1;33m \u001b[0mprint\u001b[0m\u001b[1;33m(\u001b[0m\u001b[0mlinalg\u001b[0m\u001b[1;33m.\u001b[0m\u001b[0mnorm\u001b[0m\u001b[1;33m(\u001b[0m\u001b[0mA\u001b[0m\u001b[1;33m@\u001b[0m\u001b[0mB\u001b[0m\u001b[1;33m)\u001b[0m\u001b[1;33m)\u001b[0m\u001b[1;33m\u001b[0m\u001b[1;33m\u001b[0m\u001b[0m\n\u001b[0m",
      "\u001b[1;31mNameError\u001b[0m: name 'A' is not defined"
     ]
    }
   ],
   "source": [
    "from scipy import linalg\n",
    "\n",
    "print(linalg.norm(A@B))"
   ]
  },
  {
   "cell_type": "code",
   "execution_count": 62,
   "id": "6f54c15e",
   "metadata": {},
   "outputs": [
    {
     "name": "stdout",
     "output_type": "stream",
     "text": [
      "120\n"
     ]
    }
   ],
   "source": [
    "num = sum(list1 )\n",
    "factorial = 1    \n",
    "if num < 0:    \n",
    "   print(\" Factorial does not exist for negative numbers\")    \n",
    "elif num == 0:    \n",
    "   print(\"The factorial of 0 is 1\")    \n",
    "else:    \n",
    "   for i in range(1,num + 1):    \n",
    "       factorial = factorial*i    \n",
    "   print(factorial)   "
   ]
  },
  {
   "cell_type": "code",
   "execution_count": 78,
   "id": "1203602a",
   "metadata": {},
   "outputs": [
    {
     "name": "stdout",
     "output_type": "stream",
     "text": [
      "[6, 5, 4, 3, 2, 1]\n"
     ]
    }
   ],
   "source": [
    "#Importing NumPy Library\n",
    "import numpy as np\n",
    "from numpy.ndarray import \n",
    "list1= [1, 2, 3, 4, 5, 6]\n",
    "n = len(list1)\n",
    "for i in range(int(n/2)):\n",
    "        list1[i],list1[n-i-1]=list1[n-i-1],list1[i] \n",
    "print(list1)"
   ]
  },
  {
   "cell_type": "code",
   "execution_count": null,
   "id": "c75fc4d4",
   "metadata": {},
   "outputs": [],
   "source": [
    "import scipy\n",
    "from scipy.constants import pi\n",
    "N = 12\n",
    "def circular_area(N):\n",
    "  print(pi*(N/2)**2)\n",
    "circular_area(N)"
   ]
  },
  {
   "cell_type": "code",
   "execution_count": 81,
   "id": "4fe3e9a1",
   "metadata": {},
   "outputs": [
    {
     "name": "stdout",
     "output_type": "stream",
     "text": [
      "[2 3 0 2 0 0 7]\n"
     ]
    }
   ],
   "source": [
    "from numpy import ndarray \n",
    "print(np.array(array1).flatten())"
   ]
  },
  {
   "cell_type": "markdown",
   "id": "384c25f5",
   "metadata": {},
   "source": [
    "### missing values with average"
   ]
  },
  {
   "cell_type": "code",
   "execution_count": 96,
   "id": "60745cb1",
   "metadata": {
    "scrolled": false
   },
   "outputs": [],
   "source": [
    "# import numpy as np\n",
    "# array1= [[11, 14, 51, np.nan],\n",
    "#          [17, 41, np.nan, 19],\n",
    "#          [np.nan, 16, 15, 81]]\n",
    "# indeces = []\n",
    "# for i in range(len(array1)):\n",
    "#     for j in range(len(array1[i])):\n",
    "#         if type(array1[i][j]) == type(np.nan):\n",
    "#             indeces.append([i,j])\n",
    "# indeces"
   ]
  },
  {
   "cell_type": "code",
   "execution_count": 127,
   "id": "0ee77e34",
   "metadata": {},
   "outputs": [
    {
     "data": {
      "text/plain": [
       "array([4.5       , 4.66666667, 5.        , 8.5       ])"
      ]
     },
     "execution_count": 127,
     "metadata": {},
     "output_type": "execute_result"
    }
   ],
   "source": [
    "array1= [[2, 4, 5, np.nan],\n",
    "         [7, 4, np.nan, 9],\n",
    "         [np.nan, 6, 5, 8]]\n",
    "array1 = np.array(array1) \n",
    "averages = np.nanmean(array1, axis=0)\n",
    "averages"
   ]
  },
  {
   "cell_type": "code",
   "execution_count": 128,
   "id": "286866d1",
   "metadata": {},
   "outputs": [
    {
     "data": {
      "text/plain": [
       "array([[False, False, False,  True],\n",
       "       [False, False,  True, False],\n",
       "       [ True, False, False, False]])"
      ]
     },
     "execution_count": 128,
     "metadata": {},
     "output_type": "execute_result"
    }
   ],
   "source": [
    "missing_indices = np.isnan(array1)\n",
    "missing_indices"
   ]
  },
  {
   "cell_type": "code",
   "execution_count": 129,
   "id": "4f86d3ee",
   "metadata": {},
   "outputs": [
    {
     "data": {
      "text/plain": [
       "(array([0, 1, 2], dtype=int64), array([3, 2, 0], dtype=int64))"
      ]
     },
     "execution_count": 129,
     "metadata": {},
     "output_type": "execute_result"
    }
   ],
   "source": [
    "row_indices, col_indices = np.where(missing_indices)\n",
    "np.where(missing_indices)"
   ]
  },
  {
   "cell_type": "code",
   "execution_count": 130,
   "id": "e85707a9",
   "metadata": {},
   "outputs": [
    {
     "data": {
      "text/plain": [
       "array([8.5, 5. , 4.5])"
      ]
     },
     "execution_count": 130,
     "metadata": {},
     "output_type": "execute_result"
    }
   ],
   "source": [
    "np.array(averages)[col_indices]"
   ]
  },
  {
   "cell_type": "code",
   "execution_count": 131,
   "id": "eb21e2bf",
   "metadata": {},
   "outputs": [
    {
     "data": {
      "text/plain": [
       "array([[2. , 4. , 5. , 8.5],\n",
       "       [7. , 4. , 5. , 9. ],\n",
       "       [4.5, 6. , 5. , 8. ]])"
      ]
     },
     "execution_count": 131,
     "metadata": {},
     "output_type": "execute_result"
    }
   ],
   "source": [
    "array1[row_indices, col_indices] = np.array(averages)[col_indices]\n",
    "array1"
   ]
  },
  {
   "cell_type": "code",
   "execution_count": 138,
   "id": "d51738f9",
   "metadata": {},
   "outputs": [
    {
     "data": {
      "text/plain": [
       "array([[2. , 4. , 5. , 8.5],\n",
       "       [7. , 4. , 5. , 9. ],\n",
       "       [4.5, 6. , 5. , 8. ]])"
      ]
     },
     "execution_count": 138,
     "metadata": {},
     "output_type": "execute_result"
    }
   ],
   "source": [
    "from sklearn.impute import SimpleImputer\n",
    "import numpy as np\n",
    "array1= [[2, 4, 5, np.nan],\n",
    "         [7, 4, np.nan, 9],\n",
    "         [np.nan, 6, 5, 8]]\n",
    "array1 = np.array(array1) \n",
    "imputer = SimpleImputer(missing_values=np.nan, strategy='mean')\n",
    "imputer.fit(array1)\n",
    "imputer.transform(array1)"
   ]
  },
  {
   "cell_type": "markdown",
   "id": "9b5cf495",
   "metadata": {},
   "source": [
    "### eigan vectors"
   ]
  },
  {
   "cell_type": "code",
   "execution_count": 141,
   "id": "0d870986",
   "metadata": {},
   "outputs": [
    {
     "name": "stdout",
     "output_type": "stream",
     "text": [
      "(array([ 5.93632273,  0.23296302, -2.16928575]), array([[-0.54902799, -0.95101849, -0.64593923],\n",
      "       [-0.66025005,  0.28884154, -0.44212699],\n",
      "       [-0.51248232,  0.1101562 ,  0.62232325]]))\n"
     ]
    }
   ],
   "source": [
    "from numpy.linalg import eig\n",
    "array1 =[[1, 1, 4],\n",
    "         [1, 2, 4],\n",
    "         [1, 3, 1]]\n",
    "print(eig(array1))"
   ]
  },
  {
   "cell_type": "markdown",
   "id": "4edce7f3",
   "metadata": {},
   "source": [
    "### Stack two arrays index by index"
   ]
  },
  {
   "cell_type": "code",
   "execution_count": 152,
   "id": "5d0da49a",
   "metadata": {},
   "outputs": [
    {
     "data": {
      "text/plain": [
       "array([[1, 4],\n",
       "       [2, 5],\n",
       "       [3, 6]])"
      ]
     },
     "execution_count": 152,
     "metadata": {},
     "output_type": "execute_result"
    }
   ],
   "source": [
    "array1 = ([1,2,3])\n",
    "array2 = ([4,5,6])\n",
    "np.stack((array1,array2),axis = 1)"
   ]
  },
  {
   "cell_type": "code",
   "execution_count": 153,
   "id": "33523785",
   "metadata": {},
   "outputs": [
    {
     "name": "stdout",
     "output_type": "stream",
     "text": [
      "[[1 4]\n",
      " [2 5]\n",
      " [3 6]]\n"
     ]
    }
   ],
   "source": [
    "from numpy import array\n",
    "combined_array = [[x, y] for x, y in zip(array1, array2)]\n",
    "print(array(combined_array))"
   ]
  },
  {
   "cell_type": "markdown",
   "id": "22cbf831",
   "metadata": {},
   "source": [
    "### Difference between vector norm and condition number"
   ]
  },
  {
   "cell_type": "code",
   "execution_count": 159,
   "id": "1ad44dbd",
   "metadata": {},
   "outputs": [
    {
     "data": {
      "text/plain": [
       "-55.0468690496682"
      ]
     },
     "execution_count": 159,
     "metadata": {},
     "output_type": "execute_result"
    }
   ],
   "source": [
    "matrix1 = [[1, 2],[3, 7]]\n",
    "np.linalg.norm(matrix1) - np.linalg.cond(matrix1)"
   ]
  },
  {
   "cell_type": "code",
   "execution_count": 167,
   "id": "9d9dd6e3",
   "metadata": {},
   "outputs": [],
   "source": [
    "point_1 = (10,12,20)\n",
    "point_2 = (13,11,2)"
   ]
  },
  {
   "cell_type": "code",
   "execution_count": 168,
   "id": "45b4d7fb",
   "metadata": {},
   "outputs": [
    {
     "ename": "SyntaxError",
     "evalue": "unexpected EOF while parsing (3248075525.py, line 3)",
     "output_type": "error",
     "traceback": [
      "\u001b[1;36m  File \u001b[1;32m\"C:\\Users\\vivek codes\\AppData\\Local\\Temp\\ipykernel_2924\\3248075525.py\"\u001b[1;36m, line \u001b[1;32m3\u001b[0m\n\u001b[1;33m    dis = math.sqrt((point_2[0]-point1[1])\u001b[0m\n\u001b[1;37m                                          ^\u001b[0m\n\u001b[1;31mSyntaxError\u001b[0m\u001b[1;31m:\u001b[0m unexpected EOF while parsing\n"
     ]
    }
   ],
   "source": [
    "import math\n",
    "def euc(point_1,point_2):\n",
    "    dis = math.sqrt((point_2[0]-point1[1])"
   ]
  },
  {
   "cell_type": "markdown",
   "id": "1bc974ca",
   "metadata": {},
   "source": [
    "### euclidian distance"
   ]
  },
  {
   "cell_type": "code",
   "execution_count": 173,
   "id": "d457eef4",
   "metadata": {},
   "outputs": [
    {
     "data": {
      "text/plain": [
       "18.275666882497067"
      ]
     },
     "execution_count": 173,
     "metadata": {},
     "output_type": "execute_result"
    }
   ],
   "source": [
    "import math\n",
    "math.sqrt((point_2[0]-point_1[0])**2 +(point_2[1]-point_1[1])**2 + (point_2[2]-point_1[2])**2)"
   ]
  },
  {
   "cell_type": "markdown",
   "id": "a770e5a2",
   "metadata": {},
   "source": [
    "### Harmonic mean"
   ]
  },
  {
   "cell_type": "code",
   "execution_count": 180,
   "id": "ca4cb9bb",
   "metadata": {},
   "outputs": [
    {
     "name": "stdout",
     "output_type": "stream",
     "text": [
      "0.047942451114729376\n"
     ]
    }
   ],
   "source": [
    "import numpy as np\n",
    "import statistics\n",
    "data1 = [100,120,122,123,143,159]\n",
    "\n",
    "def harmonicmean(data1):\n",
    "    n = len(data1)\n",
    "    dev = 0\n",
    "    for i in range(n):\n",
    "        dev = dev + (1 /(data1[i]))\n",
    "    print(n/dev)\n",
    "harmonicmean(data1)"
   ]
  },
  {
   "cell_type": "code",
   "execution_count": 183,
   "id": "7fcaa274",
   "metadata": {},
   "outputs": [
    {
     "data": {
      "text/plain": [
       "125.15004678508433"
      ]
     },
     "execution_count": 183,
     "metadata": {},
     "output_type": "execute_result"
    }
   ],
   "source": [
    "data1 = [100,120,122,123,143,159]\n",
    "len(data1)/(1/100 + 1/120 + 1/122 + 1/123 + 1 / 143 + 1/159)"
   ]
  },
  {
   "cell_type": "markdown",
   "id": "2fd63ca0",
   "metadata": {},
   "source": [
    "### harmonicmean"
   ]
  },
  {
   "cell_type": "code",
   "execution_count": 187,
   "id": "0ac660e1",
   "metadata": {},
   "outputs": [
    {
     "name": "stdout",
     "output_type": "stream",
     "text": [
      "125.15004678508433\n"
     ]
    }
   ],
   "source": [
    "def harmonicmean(data1):\n",
    "    n = len(data1)\n",
    "    dev = 0\n",
    "    for i in range(n):\n",
    "        dev = dev + (1 /(data1[i]))\n",
    "    print(n/dev)\n",
    "harmonicmean(data1)"
   ]
  },
  {
   "cell_type": "markdown",
   "id": "62f1641b",
   "metadata": {},
   "source": [
    "### mean"
   ]
  },
  {
   "cell_type": "code",
   "execution_count": 188,
   "id": "0fec500f",
   "metadata": {},
   "outputs": [
    {
     "data": {
      "text/plain": [
       "127.83333333333333"
      ]
     },
     "execution_count": 188,
     "metadata": {},
     "output_type": "execute_result"
    }
   ],
   "source": [
    "sum(data1)/len(data1)"
   ]
  },
  {
   "cell_type": "markdown",
   "id": "77e92bc1",
   "metadata": {},
   "source": [
    "### Calculate the Median"
   ]
  },
  {
   "cell_type": "code",
   "execution_count": 227,
   "id": "a3ed3cc6",
   "metadata": {},
   "outputs": [
    {
     "name": "stdout",
     "output_type": "stream",
     "text": [
      "95.0\n"
     ]
    }
   ],
   "source": [
    "import statistics\n",
    "print(statistics.median(data1))"
   ]
  },
  {
   "cell_type": "markdown",
   "id": "0a73ec78",
   "metadata": {},
   "source": [
    "### Calculate the Mode"
   ]
  },
  {
   "cell_type": "code",
   "execution_count": 271,
   "id": "f3929bd2",
   "metadata": {},
   "outputs": [
    {
     "data": {
      "text/plain": [
       "{45: 1, 46: 2, 47: 1, 48: 1}"
      ]
     },
     "execution_count": 271,
     "metadata": {},
     "output_type": "execute_result"
    }
   ],
   "source": [
    "data1 = [45,46,47,48,46]\n",
    "\n",
    "d = {}\n",
    "for i in data1:\n",
    "    if i not in d:\n",
    "        d[i] = 0\n",
    "    if i in d:\n",
    "        d[i] += 1\n",
    "# set(d)\n",
    "\n",
    "d"
   ]
  },
  {
   "cell_type": "code",
   "execution_count": 274,
   "id": "5657cf7d",
   "metadata": {},
   "outputs": [
    {
     "data": {
      "text/plain": [
       "46"
      ]
     },
     "execution_count": 274,
     "metadata": {},
     "output_type": "execute_result"
    }
   ],
   "source": [
    "max_freq = 0\n",
    "modes = 0\n",
    "for key, value in d.items():\n",
    "    if value > max_freq:\n",
    "        max_freq = value\n",
    "        modes = key\n",
    "    elif value == max_freq:\n",
    "        modes = key\n",
    "modes"
   ]
  },
  {
   "cell_type": "markdown",
   "id": "d3c4e987",
   "metadata": {},
   "source": [
    "### Median of a grouped continuous data"
   ]
  },
  {
   "cell_type": "code",
   "execution_count": 275,
   "id": "05026f70",
   "metadata": {},
   "outputs": [
    {
     "name": "stdout",
     "output_type": "stream",
     "text": [
      "46.25\n"
     ]
    }
   ],
   "source": [
    "print(statistics.median_grouped(data1))"
   ]
  },
  {
   "cell_type": "markdown",
   "id": "a120fdc4",
   "metadata": {},
   "source": [
    "###  The high median"
   ]
  },
  {
   "cell_type": "code",
   "execution_count": 277,
   "id": "2d8d24cb",
   "metadata": {},
   "outputs": [
    {
     "name": "stdout",
     "output_type": "stream",
     "text": [
      "3\n"
     ]
    }
   ],
   "source": [
    "array1 = [1,2,3,4]\n",
    "\n",
    "print(statistics.median_high(array1))"
   ]
  },
  {
   "cell_type": "markdown",
   "id": "70603c65",
   "metadata": {},
   "source": [
    "###  The low median"
   ]
  },
  {
   "cell_type": "code",
   "execution_count": 309,
   "id": "15ecb319",
   "metadata": {},
   "outputs": [
    {
     "name": "stdout",
     "output_type": "stream",
     "text": [
      "2\n"
     ]
    }
   ],
   "source": [
    "array1 = [1,2,3,4]\n",
    "print(statistics.median_low(array1))"
   ]
  },
  {
   "cell_type": "markdown",
   "id": "056782f3",
   "metadata": {},
   "source": [
    "### Standard deviation of a population"
   ]
  },
  {
   "cell_type": "code",
   "execution_count": 310,
   "id": "adc2fad2",
   "metadata": {},
   "outputs": [
    {
     "name": "stdout",
     "output_type": "stream",
     "text": [
      "9.516902257112267\n"
     ]
    }
   ],
   "source": [
    "from fractions import Fraction as fr\n",
    "P1 = [15,33,34,16,37,18,20]\n",
    "print(statistics.stdev(P1))"
   ]
  },
  {
   "cell_type": "code",
   "execution_count": 311,
   "id": "4a57ae3e",
   "metadata": {
    "scrolled": true
   },
   "outputs": [
    {
     "name": "stdout",
     "output_type": "stream",
     "text": [
      "8.8109393972053\n"
     ]
    }
   ],
   "source": [
    "import math\n",
    "def calculate_standard_deviation(population):\n",
    "    n = len(population)\n",
    "    mean = sum(population) / n\n",
    "\n",
    "    squared_diff_sum = sum((x - mean) ** 2 for x in population)\n",
    "\n",
    "    standard_deviation = math.sqrt(squared_diff_sum / n)\n",
    "    return standard_deviation\n",
    "result = calculate_standard_deviation(P1)\n",
    "print(result)"
   ]
  },
  {
   "cell_type": "markdown",
   "id": "85e523cf",
   "metadata": {},
   "source": [
    "### sum of concated array"
   ]
  },
  {
   "cell_type": "code",
   "execution_count": 312,
   "id": "fa0d4cf6",
   "metadata": {},
   "outputs": [
    {
     "name": "stdout",
     "output_type": "stream",
     "text": [
      "6\n"
     ]
    }
   ],
   "source": [
    "array1 = [1, 1, 1]\n",
    "array2 = [1, 1, 1]\n",
    "print(sum(array1 +array2))"
   ]
  },
  {
   "cell_type": "markdown",
   "id": "1ac9efe3",
   "metadata": {},
   "source": [
    "### remove or pop element from list"
   ]
  },
  {
   "cell_type": "code",
   "execution_count": 313,
   "id": "1a8071ba",
   "metadata": {},
   "outputs": [
    {
     "data": {
      "text/plain": [
       "30"
      ]
     },
     "execution_count": 313,
     "metadata": {},
     "output_type": "execute_result"
    }
   ],
   "source": [
    "array1 = [90,20,30,11]\n",
    "K = 2\n",
    "array1.pop(K)"
   ]
  },
  {
   "cell_type": "code",
   "execution_count": 314,
   "id": "d805703c",
   "metadata": {},
   "outputs": [
    {
     "data": {
      "text/plain": [
       "[90, 20, 11]"
      ]
     },
     "execution_count": 314,
     "metadata": {},
     "output_type": "execute_result"
    }
   ],
   "source": [
    "array1"
   ]
  },
  {
   "cell_type": "markdown",
   "id": "3f82cf53",
   "metadata": {},
   "source": [
    "### Population variance"
   ]
  },
  {
   "cell_type": "code",
   "execution_count": 315,
   "id": "9f55597f",
   "metadata": {},
   "outputs": [
    {
     "name": "stdout",
     "output_type": "stream",
     "text": [
      "1.04\n"
     ]
    }
   ],
   "source": [
    "import statistics\n",
    "print(statistics.pvariance(data1))"
   ]
  },
  {
   "cell_type": "markdown",
   "id": "e64c5173",
   "metadata": {},
   "source": [
    "### Sample variance"
   ]
  },
  {
   "cell_type": "code",
   "execution_count": 316,
   "id": "372dea3c",
   "metadata": {},
   "outputs": [
    {
     "name": "stdout",
     "output_type": "stream",
     "text": [
      "1.3\n"
     ]
    }
   ],
   "source": [
    "print(statistics.variance(data1))"
   ]
  },
  {
   "cell_type": "markdown",
   "id": "d73d5231",
   "metadata": {},
   "source": [
    "### The N-th quantile"
   ]
  },
  {
   "cell_type": "code",
   "execution_count": 317,
   "id": "57ab43b7",
   "metadata": {},
   "outputs": [],
   "source": [
    "array1 = [39,5,31,43,48,50,41,7,11,15,31]\n",
    "N = 75"
   ]
  },
  {
   "cell_type": "code",
   "execution_count": 323,
   "id": "f68fb677",
   "metadata": {},
   "outputs": [
    {
     "name": "stdout",
     "output_type": "stream",
     "text": [
      "42.0\n"
     ]
    }
   ],
   "source": [
    "print(np.quantile(array1,N/100))"
   ]
  },
  {
   "cell_type": "markdown",
   "id": "32910028",
   "metadata": {},
   "source": [
    "###  The N-th percentile"
   ]
  },
  {
   "cell_type": "code",
   "execution_count": 365,
   "id": "a00f16e4",
   "metadata": {},
   "outputs": [
    {
     "name": "stdout",
     "output_type": "stream",
     "text": [
      "79.0\n"
     ]
    }
   ],
   "source": [
    "array1 = [32, 36, 46, 47, 56, 69, 75, 79, 79, 88, 89, 91, 92, 93, 96, 97]\n",
    "N = 50\n",
    "\n",
    "print(np.percentile(array1,50))"
   ]
  },
  {
   "cell_type": "code",
   "execution_count": 449,
   "id": "270effbf",
   "metadata": {
    "scrolled": true
   },
   "outputs": [
    {
     "name": "stdout",
     "output_type": "stream",
     "text": [
      "53.75\n"
     ]
    }
   ],
   "source": [
    "import math\n",
    "\n",
    "def calculate_percentile(array, N):\n",
    "    sorted_array = sorted(array)\n",
    "    index = (N / 100) * (len(sorted_array) - 1)\n",
    "    floor_index = math.floor(index)\n",
    "    ceil_index = math.ceil(index)\n",
    "    \n",
    "    if floor_index == ceil_index:\n",
    "        return sorted_array[int(index)]\n",
    "    \n",
    "    lower_value = sorted_array[int(floor_index)] * (ceil_index - index)\n",
    "    upper_value = sorted_array[int(ceil_index)] * (index - floor_index)\n",
    "    \n",
    "    return lower_value + upper_value\n",
    "\n",
    "result = calculate_percentile(array1, N)\n",
    "print(result)"
   ]
  },
  {
   "cell_type": "markdown",
   "id": "15c2f74d",
   "metadata": {},
   "source": [
    "### Row-wise addition in tuple matrix"
   ]
  },
  {
   "cell_type": "code",
   "execution_count": 450,
   "id": "9c540d11",
   "metadata": {},
   "outputs": [
    {
     "name": "stdout",
     "output_type": "stream",
     "text": [
      "[('a', 'b', 'c'), ('d', 'e', 'f')]\n"
     ]
    }
   ],
   "source": [
    "A = [[(\"a\",\"b\")],[(\"d\",\"e\")]]\n",
    "B = [\"c\",\"f\"]\n",
    "l = []\n",
    "for i,j in enumerate(A):\n",
    "    l.append(list(j[0]))\n",
    "    l[i].append(B[i])\n",
    "print([tuple(inner_list) for inner_list in l])"
   ]
  },
  {
   "cell_type": "code",
   "execution_count": 451,
   "id": "d5df8b4e",
   "metadata": {},
   "outputs": [
    {
     "name": "stdout",
     "output_type": "stream",
     "text": [
      "[[('a', 'b', 'c'), ('d', 'e', 'f')]]\n"
     ]
    }
   ],
   "source": [
    "l = []\n",
    "for i,j in enumerate(A):\n",
    "    l.append(list(j[0]))\n",
    "    l[i].append(B[i])\n",
    "print([[tuple(inner_list) for inner_list in l]])"
   ]
  },
  {
   "cell_type": "code",
   "execution_count": 452,
   "id": "cd393648",
   "metadata": {},
   "outputs": [
    {
     "data": {
      "text/plain": [
       "[('a', 'b', 'c'), ('d', 'e', 'f')]"
      ]
     },
     "execution_count": 452,
     "metadata": {},
     "output_type": "execute_result"
    }
   ],
   "source": [
    "l = []\n",
    "for i,j in enumerate(A):\n",
    "    l.append(list(j[0]))\n",
    "    l[i].append(B[i])\n",
    "[tuple(inner_list) for inner_list in l]"
   ]
  },
  {
   "cell_type": "code",
   "execution_count": 453,
   "id": "5bef559f",
   "metadata": {},
   "outputs": [
    {
     "data": {
      "text/plain": [
       "[['a', 'b', 'c'], ['d', 'e', 'f']]"
      ]
     },
     "execution_count": 453,
     "metadata": {},
     "output_type": "execute_result"
    }
   ],
   "source": [
    "# for i in range(len(l)):\n",
    "#     print(l[i].append(B[i]))\n",
    "l"
   ]
  },
  {
   "cell_type": "code",
   "execution_count": 454,
   "id": "bfec7bf2",
   "metadata": {},
   "outputs": [
    {
     "data": {
      "text/plain": [
       "[['a', 'b', 'c'], ['d', 'e', 'f']]"
      ]
     },
     "execution_count": 454,
     "metadata": {},
     "output_type": "execute_result"
    }
   ],
   "source": [
    "l"
   ]
  },
  {
   "cell_type": "markdown",
   "id": "27b2534f",
   "metadata": {},
   "source": [
    "### reverse of nth array"
   ]
  },
  {
   "cell_type": "code",
   "execution_count": 455,
   "id": "fdab2fc1",
   "metadata": {},
   "outputs": [
    {
     "name": "stdout",
     "output_type": "stream",
     "text": [
      "[[11, 12, 13], [12, 22, 33], [43, 32, 21]]\n"
     ]
    }
   ],
   "source": [
    "A = [[ 11, 12, 13 ], [12, 22, 33 ], [ 21, 32, 43 ]]\n",
    "N = 3\n",
    "\n",
    "def reverse(l):\n",
    "    return l[::-1]\n",
    "\n",
    "def row_reversion(matrix,N):\n",
    "    for i in range(len(matrix)):\n",
    "        if N == i:\n",
    "            matrix[i] = matrix[i][::-1]\n",
    "            print(matrix)\n",
    "            break\n",
    "row_reversion(A,N-1)"
   ]
  },
  {
   "cell_type": "code",
   "execution_count": 456,
   "id": "508fb369",
   "metadata": {},
   "outputs": [
    {
     "name": "stdout",
     "output_type": "stream",
     "text": [
      "[[11, 12, 13], [12, 22, 33], [21, 32, 43]]\n"
     ]
    }
   ],
   "source": [
    "for i in range(len(A)):\n",
    "  if N-1 == i:\n",
    "    A[i] = A[i][::-1]\n",
    "    print(A)"
   ]
  },
  {
   "cell_type": "code",
   "execution_count": null,
   "id": "bdb7eb59",
   "metadata": {},
   "outputs": [],
   "source": []
  },
  {
   "cell_type": "markdown",
   "id": "2330af40",
   "metadata": {},
   "source": [
    "### Armstrong Number"
   ]
  },
  {
   "cell_type": "code",
   "execution_count": 457,
   "id": "56f5dac7",
   "metadata": {},
   "outputs": [
    {
     "name": "stdout",
     "output_type": "stream",
     "text": [
      "Yes\n"
     ]
    }
   ],
   "source": [
    "N = 153\n",
    "def ArmstrongNumber(N):\n",
    "    strr = str(N)\n",
    "    summ = 0\n",
    "    for i in strr:\n",
    "        summ += int(i) ** len(strr)\n",
    "    if str(summ)==strr:\n",
    "        print('Yes')\n",
    "    else:\n",
    "        print('No')\n",
    "ArmstrongNumber(N)"
   ]
  },
  {
   "cell_type": "code",
   "execution_count": 458,
   "id": "77c075ad",
   "metadata": {},
   "outputs": [
    {
     "name": "stdout",
     "output_type": "stream",
     "text": [
      "No\n"
     ]
    }
   ],
   "source": [
    "ArmstrongNumber(15)"
   ]
  },
  {
   "cell_type": "markdown",
   "id": "ac05472c",
   "metadata": {},
   "source": [
    "### Interquartile range"
   ]
  },
  {
   "cell_type": "code",
   "execution_count": 461,
   "id": "21204550",
   "metadata": {},
   "outputs": [
    {
     "name": "stdout",
     "output_type": "stream",
     "text": [
      "29.0\n"
     ]
    }
   ],
   "source": [
    "from scipy import stats\n",
    "data1= [32, 36, 46, 47, 56, 69, 75, 96, 97]\n",
    "\n",
    "IQR = stats.iqr(data1, interpolation = 'midpoint')\n",
    "  \n",
    "print(IQR)"
   ]
  },
  {
   "cell_type": "code",
   "execution_count": 463,
   "id": "e982620c",
   "metadata": {},
   "outputs": [
    {
     "name": "stdout",
     "output_type": "stream",
     "text": [
      "29.0\n"
     ]
    }
   ],
   "source": [
    "import math\n",
    "data1.sort()\n",
    "def calculate_percentile(array, N):\n",
    "    sorted_array = sorted(array)\n",
    "    index = (N / 100) * (len(sorted_array) - 1)\n",
    "    floor_index = math.floor(index)\n",
    "    ceil_index = math.ceil(index)\n",
    "    \n",
    "    if floor_index == ceil_index:\n",
    "        return sorted_array[int(index)]\n",
    "    \n",
    "    lower_value = sorted_array[int(floor_index)] * (ceil_index - index)\n",
    "    upper_value = sorted_array[int(ceil_index)] * (index - floor_index)\n",
    "    \n",
    "    return lower_value + upper_value\n",
    "\n",
    "q1 = calculate_percentile(data1, 25)\n",
    "q3 = calculate_percentile(data1, 75)\n",
    "\n",
    "iqr = q3 - q1\n",
    "print(float(iqr))"
   ]
  },
  {
   "cell_type": "code",
   "execution_count": 465,
   "id": "6794c093",
   "metadata": {},
   "outputs": [
    {
     "name": "stdout",
     "output_type": "stream",
     "text": [
      "5\n"
     ]
    }
   ],
   "source": [
    "#Write the code \n",
    "coupon = [625, 40081787109376, 821289025, 1, 5, 6, 25, 76, 376, 376, 625, 9376,]\n",
    "\n",
    "w = 0\n",
    "for i in coupon :\n",
    "  if i%5 == 0:\n",
    "    w+=1\n",
    "  else:\n",
    "    pass\n",
    "print(w)"
   ]
  },
  {
   "cell_type": "markdown",
   "id": "f0af6df4",
   "metadata": {},
   "source": [
    "### Salary prediction"
   ]
  },
  {
   "cell_type": "code",
   "execution_count": 488,
   "id": "136ec6da",
   "metadata": {},
   "outputs": [
    {
     "data": {
      "text/plain": [
       "array([7000.])"
      ]
     },
     "execution_count": 488,
     "metadata": {},
     "output_type": "execute_result"
    }
   ],
   "source": [
    "from sklearn.linear_model import LinearRegression\n",
    "# def salary_prediction(X_train,X_test,y_train):\n",
    "X_train =[[1],[2],[3],[4],[5],[6]]\n",
    "X_test = [[7]]\n",
    "y_train =[1000,2000,3000,4000,5000,6000]\n",
    "model = LinearRegression()\n",
    "model.fit(X_train,y_train)\n",
    "model.predict(X_test)"
   ]
  },
  {
   "cell_type": "markdown",
   "id": "bb63898a",
   "metadata": {},
   "source": [
    "### Weight prediction using Bayesian regression"
   ]
  },
  {
   "cell_type": "code",
   "execution_count": 487,
   "id": "f9939455",
   "metadata": {},
   "outputs": [
    {
     "data": {
      "text/plain": [
       "array([63.75359204])"
      ]
     },
     "execution_count": 487,
     "metadata": {},
     "output_type": "execute_result"
    }
   ],
   "source": [
    "from sklearn.linear_model import BayesianRidge\n",
    "X_train =[[5.9,9000,23],[6,7000,22],[5.5,6700,23],[6.4,6500,24],[5.6,5000,23]]\n",
    "X_test = [[5.9,7000,24]]\n",
    "y_train =[52,65,64,63,80]\n",
    "BayesianRidge().fit(X=X_train,y=y_train).predict(X_test)"
   ]
  },
  {
   "cell_type": "code",
   "execution_count": 493,
   "id": "952f313c",
   "metadata": {},
   "outputs": [
    {
     "name": "stdout",
     "output_type": "stream",
     "text": [
      "[ 0.24847566 22.99041797 36.76110637]\n"
     ]
    }
   ],
   "source": [
    "A = [[5, 15, 9],\n",
    "     [2, 33, 3],\n",
    "     [11, 4, 22]]\n",
    "from numpy.linalg import eig\n",
    "val , _ = eig(A)\n",
    "print(eig(A)[0])"
   ]
  },
  {
   "cell_type": "markdown",
   "id": "95367cbe",
   "metadata": {},
   "source": [
    "### ROC AUC"
   ]
  },
  {
   "cell_type": "code",
   "execution_count": 494,
   "id": "97c26b79",
   "metadata": {},
   "outputs": [
    {
     "data": {
      "text/plain": [
       "0.5476190476190477"
      ]
     },
     "execution_count": 494,
     "metadata": {},
     "output_type": "execute_result"
    }
   ],
   "source": [
    "from sklearn.metrics import roc_auc_score\n",
    "y_true = [0,1,1,1,1,1,0,1,0,1]\n",
    "y_pred = [0,1,0,0,1,0,1,0,0,1]\n",
    "roc_auc_score(y_true, y_pred)"
   ]
  },
  {
   "cell_type": "markdown",
   "id": "0f7d5de9",
   "metadata": {},
   "source": [
    "### Update the last column of a matrix"
   ]
  },
  {
   "cell_type": "code",
   "execution_count": 519,
   "id": "60a03026",
   "metadata": {},
   "outputs": [],
   "source": [
    "A = [[15, 21, 34, 42],\n",
    "     [55, 60, 70, 45],\n",
    "     [43, 44, 62, 12]]\n",
    "\n",
    "B = [[12, 22, 32, 42], \n",
    "     [33, 33, 44, 55], \n",
    "     [90, 95, 17, 87]]"
   ]
  },
  {
   "cell_type": "code",
   "execution_count": 522,
   "id": "cdc98ee8",
   "metadata": {},
   "outputs": [
    {
     "name": "stdout",
     "output_type": "stream",
     "text": [
      "Matrix A Before =  [[15, 21, 34, 42], [55, 60, 70, 45], [43, 44, 62, 12]]\n",
      "Matrix B Before =  [[12, 22, 32, 42], [33, 33, 44, 55], [90, 95, 17, 87]]\n",
      "Matrix A After =  [[15, 21, 34, 42], [55, 60, 70, 45], [43, 44, 62, 12]]\n",
      "Matrix B After =  [[12, 22, 32, 42], [33, 33, 44, 45], [90, 95, 17, 12]]\n"
     ]
    }
   ],
   "source": [
    "A = [[15, 21, 34, 42],\n",
    "     [55, 60, 70, 45],\n",
    "     [43, 44, 62, 12]]\n",
    "\n",
    "B = [[12, 22, 32, 42], \n",
    "     [33, 33, 44, 55], \n",
    "     [90, 95, 17, 87]]\n",
    "print(\"Matrix A Before = \",A)\n",
    "print(\"Matrix B Before = \",B)\n",
    "\n",
    "for i in range(len(A)):\n",
    "    for j in range(len(A[i])):\n",
    "        if A[i][j] == A[i][-1]:\n",
    "            B[i][j]=A[i][j]\n",
    "\n",
    "print(\"Matrix A After = \",A)\n",
    "print(\"Matrix B After = \",B)"
   ]
  },
  {
   "cell_type": "code",
   "execution_count": 516,
   "id": "543701bc",
   "metadata": {},
   "outputs": [
    {
     "data": {
      "text/plain": [
       "[[15, 21, 34, 42], [55, 60, 70, 45], [43, 44, 62, 12]]"
      ]
     },
     "execution_count": 516,
     "metadata": {},
     "output_type": "execute_result"
    }
   ],
   "source": [
    "A"
   ]
  },
  {
   "cell_type": "markdown",
   "id": "6d3cead8",
   "metadata": {},
   "source": [
    "### Words in a string based on the length"
   ]
  },
  {
   "cell_type": "code",
   "execution_count": 536,
   "id": "e553c5c8",
   "metadata": {},
   "outputs": [
    {
     "name": "stdout",
     "output_type": "stream",
     "text": [
      "[['12', '1234'], ['123', '12345']]\n"
     ]
    }
   ],
   "source": [
    "string1 = \"12 123 1234 12345\"\n",
    "#  [['ab', 'abcd', 'abcdef'], ['a', 'abc', 'abcde']]\n",
    "string1 = string1.split(' ')\n",
    "l = [[],[]]\n",
    "for i in string1:\n",
    "    n = len(i)\n",
    "    if n%2==0:\n",
    "        l[0].append(i)\n",
    "    else:\n",
    "        l[1].append(i)\n",
    "print(l)"
   ]
  },
  {
   "cell_type": "code",
   "execution_count": 535,
   "id": "fccbc31d",
   "metadata": {},
   "outputs": [
    {
     "data": {
      "text/plain": [
       "[['ab', 'abcd', 'abcdef'], ['a', 'abc', 'abcde']]"
      ]
     },
     "execution_count": 535,
     "metadata": {},
     "output_type": "execute_result"
    }
   ],
   "source": [
    "l"
   ]
  },
  {
   "cell_type": "markdown",
   "id": "0c50c9a6",
   "metadata": {},
   "source": [
    "### Split a list into evenly sized buckets"
   ]
  },
  {
   "cell_type": "code",
   "execution_count": 537,
   "id": "c0ab9af2",
   "metadata": {},
   "outputs": [],
   "source": [
    "list1 = [1,2,3,4,5,6]\n",
    "B = 3\n",
    "# [[1, 2, 3], [4, 5, 6]]"
   ]
  },
  {
   "cell_type": "code",
   "execution_count": 544,
   "id": "009f5c86",
   "metadata": {},
   "outputs": [
    {
     "data": {
      "text/plain": [
       "[[1, 2, 3], [4, 5, 6]]"
      ]
     },
     "execution_count": 544,
     "metadata": {},
     "output_type": "execute_result"
    }
   ],
   "source": [
    "list((list1[:B] , list1[B:]))"
   ]
  },
  {
   "cell_type": "code",
   "execution_count": 5,
   "id": "1b4c6cc9",
   "metadata": {},
   "outputs": [
    {
     "data": {
      "text/plain": [
       "20"
      ]
     },
     "execution_count": 5,
     "metadata": {},
     "output_type": "execute_result"
    }
   ],
   "source": [
    "list1 = [2,2,3,4,5,5,5,6,7,8,8,8,8,8,9,9,10,11,11,12]\n",
    "len(list1)"
   ]
  },
  {
   "cell_type": "code",
   "execution_count": 6,
   "id": "95a40830",
   "metadata": {},
   "outputs": [
    {
     "data": {
      "text/plain": [
       "16"
      ]
     },
     "execution_count": 6,
     "metadata": {},
     "output_type": "execute_result"
    }
   ],
   "source": [
    "list1.index(10)"
   ]
  },
  {
   "cell_type": "markdown",
   "id": "c035f5e5",
   "metadata": {},
   "source": [
    "### persentile"
   ]
  },
  {
   "cell_type": "code",
   "execution_count": 28,
   "id": "0e3247f3",
   "metadata": {},
   "outputs": [],
   "source": [
    "def persentile(x,l):\n",
    "    l.sort()\n",
    "    return (l.index(x)/len(l))*100"
   ]
  },
  {
   "cell_type": "code",
   "execution_count": 29,
   "id": "018f5399",
   "metadata": {},
   "outputs": [
    {
     "data": {
      "text/plain": [
       "20.0"
      ]
     },
     "execution_count": 29,
     "metadata": {},
     "output_type": "execute_result"
    }
   ],
   "source": [
    "persentile(5,list1)"
   ]
  },
  {
   "cell_type": "markdown",
   "id": "54d32938",
   "metadata": {},
   "source": [
    "### what value exist at rank 25"
   ]
  },
  {
   "cell_type": "code",
   "execution_count": 30,
   "id": "96118a32",
   "metadata": {},
   "outputs": [],
   "source": [
    "def rank(pv,l):\n",
    "    return (pv/ 100 ) * (len(l)+1)"
   ]
  },
  {
   "cell_type": "code",
   "execution_count": 31,
   "id": "121dd07d",
   "metadata": {},
   "outputs": [
    {
     "data": {
      "text/plain": [
       "5.25"
      ]
     },
     "execution_count": 31,
     "metadata": {},
     "output_type": "execute_result"
    }
   ],
   "source": [
    "rank(25,list1)"
   ]
  },
  {
   "cell_type": "code",
   "execution_count": 38,
   "id": "43bef8f0",
   "metadata": {},
   "outputs": [
    {
     "data": {
      "text/plain": [
       "10.5"
      ]
     },
     "execution_count": 38,
     "metadata": {},
     "output_type": "execute_result"
    }
   ],
   "source": [
    " rank(75,list1) - rank(25,list1) "
   ]
  },
  {
   "cell_type": "markdown",
   "id": "51c1ebc6",
   "metadata": {},
   "source": [
    "### treating outliers\n",
    "- boxplot is best way to find out liers"
   ]
  },
  {
   "cell_type": "code",
   "execution_count": 80,
   "id": "f0ac513a",
   "metadata": {},
   "outputs": [
    {
     "data": {
      "text/plain": [
       "(3, 8)"
      ]
     },
     "execution_count": 80,
     "metadata": {},
     "output_type": "execute_result"
    }
   ],
   "source": [
    ","
   ]
  },
  {
   "cell_type": "code",
   "execution_count": 6,
   "id": "0ff09921",
   "metadata": {},
   "outputs": [
    {
     "data": {
      "text/plain": [
       "(14.999999999999998, 34.2)"
      ]
     },
     "execution_count": 6,
     "metadata": {},
     "output_type": "execute_result"
    }
   ],
   "source": [
    "data1 = [-122,29,27,25,26,29,28,90,22.2,19.09]\n",
    "def rank(pv,l):\n",
    "    return (pv/ 100 ) * (len(l)+1)\n",
    "\n",
    "Q1 = data1[int(rank(25,data1))]\n",
    "Q3 = data1[int(rank(75,data1))]\n",
    "IQR = Q3-Q1\n",
    "upper_fence = Q3 + (1.5 * IQR)\n",
    "lower_fence = Q1 - (1.5 * IQR)\n",
    "upper_fence,lower_fence"
   ]
  },
  {
   "cell_type": "code",
   "execution_count": 133,
   "id": "90c6d4e6",
   "metadata": {},
   "outputs": [
    {
     "data": {
      "text/plain": [
       "14.999999999999998"
      ]
     },
     "execution_count": 133,
     "metadata": {},
     "output_type": "execute_result"
    }
   ],
   "source": [
    "upper_fence"
   ]
  },
  {
   "cell_type": "code",
   "execution_count": 9,
   "id": "9b026ac3",
   "metadata": {},
   "outputs": [
    {
     "name": "stdout",
     "output_type": "stream",
     "text": [
      "[-12, 28]\n"
     ]
    }
   ],
   "source": [
    "import numpy as np\n",
    "\n",
    "def rank(pv, l):\n",
    "    return (pv / 100) * (len(l) + 1)\n",
    "\n",
    "data1 = [1, 2, 3, 4, 5, 6, -12, 28]\n",
    "\n",
    "Q1 = np.percentile(data1, 25)\n",
    "Q3 = np.percentile(data1, 75)\n",
    "IQR = Q3 - Q1\n",
    "upper_fence = Q3 + (1.5 * IQR)\n",
    "lower_fence = Q1 - (1.5 * IQR)\n",
    "\n",
    "outliers = []\n",
    "for i in data1:\n",
    "    if i < lower_fence or i > upper_fence:\n",
    "        outliers.append(i)\n",
    "\n",
    "print(outliers)"
   ]
  },
  {
   "cell_type": "markdown",
   "id": "bf94e303",
   "metadata": {},
   "source": [
    "### Standard skewness estimator\n",
    "### Skewness estimator based on quartiles"
   ]
  },
  {
   "cell_type": "code",
   "execution_count": 25,
   "id": "375c778c",
   "metadata": {},
   "outputs": [
    {
     "name": "stdout",
     "output_type": "stream",
     "text": [
      "(1.3743538608029828, 0.46153846153846156, 0.6103896103896103, 0.41049991941918956)\n"
     ]
    }
   ],
   "source": [
    "data1 = [19,33,17,69,23,12]\n",
    "\n",
    "from statsmodels.stats.stattools import robust_skewness\n",
    "print(robust_skewness(data1))"
   ]
  },
  {
   "cell_type": "markdown",
   "id": "5117351c",
   "metadata": {},
   "source": [
    "### Skewness estimator standardized by absolute deviation"
   ]
  },
  {
   "cell_type": "code",
   "execution_count": 42,
   "id": "75f13398",
   "metadata": {},
   "outputs": [
    {
     "data": {
      "text/plain": [
       "-2.104903842128185"
      ]
     },
     "execution_count": 42,
     "metadata": {},
     "output_type": "execute_result"
    }
   ],
   "source": [
    "data1 = [19,33,17,69,23,12]\n",
    "import numpy as np\n",
    "((sum(data1) / len(data1)) - data1[int(len(data1)/2)]) /  np.std(data1)"
   ]
  },
  {
   "cell_type": "markdown",
   "id": "2288274a",
   "metadata": {},
   "source": [
    "### Difference between the maximum and minimum elements in a set"
   ]
  },
  {
   "cell_type": "code",
   "execution_count": 12,
   "id": "67db2b1f",
   "metadata": {},
   "outputs": [
    {
     "name": "stdout",
     "output_type": "stream",
     "text": [
      "5\n"
     ]
    }
   ],
   "source": [
    "set1 = {1,2,3,4,5,6}\n",
    "print(max(set1)-min(set1))"
   ]
  },
  {
   "cell_type": "code",
   "execution_count": 45,
   "id": "8d4d1698",
   "metadata": {},
   "outputs": [
    {
     "name": "stdout",
     "output_type": "stream",
     "text": [
      "(0.22177556874606705, -0.14516129032258066, 0.019157088122605363, 0.01569945769043999)\n",
      "(1.3743538608029828, 0.46153846153846156, 0.6103896103896103, 0.41049991941918956)\n"
     ]
    }
   ],
   "source": [
    "from statsmodels.stats.stattools import robust_skewness\n",
    "\n",
    "def skewness_estimator(data):\n",
    "    skewness = robust_skewness(data)\n",
    "    return skewness\n",
    "\n",
    "# Example 1\n",
    "data1 = [5, 31, 43, 48, 50, 41, 71, 15, 3, 8, 6, 25, 36, 27, 61, 31]\n",
    "skewness1 = skewness_estimator(data1)\n",
    "print(skewness1)\n",
    "\n",
    "# Example 2\n",
    "data2 = [19, 33, 17, 69, 23, 12]\n",
    "skewness2 = skewness_estimator(data2)\n",
    "print(skewness2)\n"
   ]
  },
  {
   "cell_type": "markdown",
   "id": "5747fa4b",
   "metadata": {},
   "source": [
    "### Standard kurtosis estimator"
   ]
  },
  {
   "cell_type": "code",
   "execution_count": 51,
   "id": "dc1fcd20",
   "metadata": {},
   "outputs": [
    {
     "name": "stdout",
     "output_type": "stream",
     "text": [
      "5.666483687975743\n"
     ]
    }
   ],
   "source": [
    "import numpy as np\n",
    "from statsmodels.stats.stattools import robust_kurtosis\n",
    "print(robust_kurtosis(np.array(data1))[0])"
   ]
  },
  {
   "cell_type": "markdown",
   "id": "11e524f5",
   "metadata": {},
   "source": [
    "###  Kurtosis estimator based on octiles"
   ]
  },
  {
   "cell_type": "code",
   "execution_count": 53,
   "id": "760bc234",
   "metadata": {},
   "outputs": [
    {
     "name": "stdout",
     "output_type": "stream",
     "text": [
      "0.3276191702290685\n"
     ]
    }
   ],
   "source": [
    "data1 = [93,6,97,101,25,316,225,36,27,61,31]\n",
    "print(robust_kurtosis(np.array(data1))[1])"
   ]
  },
  {
   "cell_type": "markdown",
   "id": "3a6d6238",
   "metadata": {},
   "source": [
    "### Kurtosis estimators based on exceedance expectations"
   ]
  },
  {
   "cell_type": "code",
   "execution_count": 59,
   "id": "2ec873a4",
   "metadata": {},
   "outputs": [
    {
     "name": "stdout",
     "output_type": "stream",
     "text": [
      "0.32905859141491156\n"
     ]
    }
   ],
   "source": [
    "data1 = [19,33,17,692,23,12]\n",
    "print(robust_kurtosis(np.array(data1))[2])"
   ]
  },
  {
   "cell_type": "markdown",
   "id": "ff2fae9e",
   "metadata": {},
   "source": [
    "### Kurtosis measure based on the spread between high and low quantiles"
   ]
  },
  {
   "cell_type": "code",
   "execution_count": 60,
   "id": "f379129f",
   "metadata": {},
   "outputs": [
    {
     "name": "stdout",
     "output_type": "stream",
     "text": [
      "43.017229971406756\n"
     ]
    }
   ],
   "source": [
    "data1 = [19,33,17,692,23,12]\n",
    "print(robust_kurtosis(np.array(data1))[-1])"
   ]
  },
  {
   "cell_type": "markdown",
   "id": "349f6f8e",
   "metadata": {},
   "source": [
    "### Jarque-Bera test statistic value"
   ]
  },
  {
   "cell_type": "code",
   "execution_count": 61,
   "id": "041dbc51",
   "metadata": {},
   "outputs": [
    {
     "data": {
      "text/plain": [
       "(0.6194500551071879,\n",
       " 0.7336486616585988,\n",
       " 0.22177556874606705,\n",
       " 2.144174392127569)"
      ]
     },
     "execution_count": 61,
     "metadata": {},
     "output_type": "execute_result"
    }
   ],
   "source": [
    "from statsmodels.stats.stattools import jarque_bera\n",
    "data1 = [5,31,43,48,50,41,71,15,3,8,6,25,36,27,61,31]\n",
    "jarque_bera(data1)[0]"
   ]
  },
  {
   "cell_type": "markdown",
   "id": "00ef94be",
   "metadata": {},
   "source": [
    "### p-value of the Jarque-Bera test statistic"
   ]
  },
  {
   "cell_type": "code",
   "execution_count": 64,
   "id": "54984a0a",
   "metadata": {},
   "outputs": [
    {
     "data": {
      "text/plain": [
       "0.0012054256385713618"
      ]
     },
     "execution_count": 64,
     "metadata": {},
     "output_type": "execute_result"
    }
   ],
   "source": [
    "data1 = [19,33,173,69,23,12,5,31,43,48,50]\n",
    "jarque_bera(data1)[1]"
   ]
  },
  {
   "cell_type": "markdown",
   "id": "c52d2803",
   "metadata": {},
   "source": [
    "### Skewness and kurtosis by the Jarque-Bera normality test"
   ]
  },
  {
   "cell_type": "code",
   "execution_count": 68,
   "id": "008fec60",
   "metadata": {},
   "outputs": [
    {
     "data": {
      "text/plain": [
       "(0.8666431666254093, 2.250818348586192)"
      ]
     },
     "execution_count": 68,
     "metadata": {},
     "output_type": "execute_result"
    }
   ],
   "source": [
    "data1 = [930,33,217,629,23,112,5,321,43,812,250]\n",
    "jarque_bera(data1)[-2],jarque_bera(data1)[-1]"
   ]
  },
  {
   "cell_type": "markdown",
   "id": "b214c04c",
   "metadata": {},
   "source": [
    "### Chi-square using the omnibus test for normality"
   ]
  },
  {
   "cell_type": "code",
   "execution_count": 70,
   "id": "d5b650c5",
   "metadata": {},
   "outputs": [
    {
     "data": {
      "text/plain": [
       "2.4089084273901746"
      ]
     },
     "execution_count": 70,
     "metadata": {},
     "output_type": "execute_result"
    }
   ],
   "source": [
    "data1 = [930,33,217,629,23,112,5,321,43,812,250]\n",
    "from statsmodels.stats.stattools import omni_normtest\n",
    "omni_normtest(data1)[0]"
   ]
  },
  {
   "cell_type": "markdown",
   "id": "ec01b661",
   "metadata": {},
   "source": [
    "### Two-tailed probability using the omnibus test for normality"
   ]
  },
  {
   "cell_type": "code",
   "execution_count": 71,
   "id": "7764875f",
   "metadata": {},
   "outputs": [
    {
     "data": {
      "text/plain": [
       "0.299855611946924"
      ]
     },
     "execution_count": 71,
     "metadata": {},
     "output_type": "execute_result"
    }
   ],
   "source": [
    "data1 = [930,33,217,629,23,112,5,321,43,812,250]\n",
    "from statsmodels.stats.stattools import omni_normtest\n",
    "omni_normtest(data1)[1]"
   ]
  },
  {
   "cell_type": "markdown",
   "id": "99872994",
   "metadata": {},
   "source": [
    "### Medcouple measure of skewness"
   ]
  },
  {
   "cell_type": "code",
   "execution_count": 73,
   "id": "5f0ae887",
   "metadata": {},
   "outputs": [
    {
     "name": "stdout",
     "output_type": "stream",
     "text": [
      "0.8894409937888199\n"
     ]
    }
   ],
   "source": [
    "from statsmodels.stats.stattools import medcouple\n",
    "data1 = [88, 893, 91, 932, 93, 96, 97,101]\n",
    "print(medcouple(data1))"
   ]
  },
  {
   "cell_type": "markdown",
   "id": "244851ba",
   "metadata": {},
   "source": [
    "### Durbin-Waston statistic"
   ]
  },
  {
   "cell_type": "code",
   "execution_count": 74,
   "id": "bdf12763",
   "metadata": {},
   "outputs": [
    {
     "data": {
      "text/plain": [
       "1.5715860856154407"
      ]
     },
     "execution_count": 74,
     "metadata": {},
     "output_type": "execute_result"
    }
   ],
   "source": [
    "data1 = [88, 893, 91, 932, 93, 96, 97,101]\n",
    "from statsmodels.stats.stattools import durbin_watson\n",
    "durbin_watson(data1)"
   ]
  },
  {
   "cell_type": "markdown",
   "id": "239dd215",
   "metadata": {},
   "source": [
    "### Descriptive statistics"
   ]
  },
  {
   "cell_type": "code",
   "execution_count": 76,
   "id": "5ff7dcf3",
   "metadata": {},
   "outputs": [
    {
     "data": {
      "text/plain": [
       "DescribeResult(nobs=12, minmax=(1121.0, 10161.0), mean=1889.5775, variance=6785231.39389318, skewness=3.0150087719269654, kurtosis=7.0905303143822955)"
      ]
     },
     "execution_count": 76,
     "metadata": {},
     "output_type": "execute_result"
    }
   ],
   "source": [
    "from scipy.stats import describe\n",
    "data1=[1121.0,1151.00,1121.00,1134.0,1135.60,10161.0,1157.18,1146.8,1149.00,1128.75,1135.0,1134.60]\n",
    "describe(data1)"
   ]
  },
  {
   "cell_type": "markdown",
   "id": "1137c8a6",
   "metadata": {},
   "source": [
    "### Geometric average"
   ]
  },
  {
   "cell_type": "code",
   "execution_count": 77,
   "id": "6b2d924b",
   "metadata": {},
   "outputs": [],
   "source": [
    "data1 = [5,31,43,48,50,41,71,15,3,8,6,25,36,27,61,31]\n",
    "from scipy.stats.mstats import gmean"
   ]
  },
  {
   "cell_type": "code",
   "execution_count": 78,
   "id": "e62b4d0c",
   "metadata": {},
   "outputs": [
    {
     "data": {
      "text/plain": [
       "22.596975885754418"
      ]
     },
     "execution_count": 78,
     "metadata": {},
     "output_type": "execute_result"
    }
   ],
   "source": [
    "gmean(data1)"
   ]
  },
  {
   "cell_type": "markdown",
   "id": "0208bf8d",
   "metadata": {},
   "source": [
    "### nth moment"
   ]
  },
  {
   "cell_type": "code",
   "execution_count": 81,
   "id": "ecb740a7",
   "metadata": {},
   "outputs": [
    {
     "name": "stdout",
     "output_type": "stream",
     "text": [
      "39800.7362885049\n"
     ]
    }
   ],
   "source": [
    "from scipy.stats import moment\n",
    "data1= [5,9,45,78,4,3,2,5,7,92,11]\n",
    "N = 3\n",
    "print(moment(data1,N))"
   ]
  },
  {
   "cell_type": "markdown",
   "id": "b7840b95",
   "metadata": {},
   "source": [
    "### The nth k-statistics"
   ]
  },
  {
   "cell_type": "code",
   "execution_count": 141,
   "id": "6f087559",
   "metadata": {},
   "outputs": [
    {
     "name": "stdout",
     "output_type": "stream",
     "text": [
      "9.166666666666666\n"
     ]
    }
   ],
   "source": [
    "from scipy.stats import kstat\n",
    "print(kstat(data1))"
   ]
  },
  {
   "cell_type": "markdown",
   "id": "46beb665",
   "metadata": {},
   "source": [
    "### Variance of the k-statistics"
   ]
  },
  {
   "cell_type": "code",
   "execution_count": 142,
   "id": "0d76e208",
   "metadata": {},
   "outputs": [
    {
     "name": "stdout",
     "output_type": "stream",
     "text": [
      "143566.125\n"
     ]
    }
   ],
   "source": [
    "from scipy.stats import kstat\n",
    "data1 = [88,893,91,932,93,96,97,101]\n",
    "print(kstat(data1))"
   ]
  },
  {
   "cell_type": "markdown",
   "id": "117b0a35",
   "metadata": {},
   "source": [
    "### Trimmed mean"
   ]
  },
  {
   "cell_type": "code",
   "execution_count": 175,
   "id": "505c1176",
   "metadata": {},
   "outputs": [
    {
     "data": {
      "text/plain": [
       "39.42857142857143"
      ]
     },
     "execution_count": 175,
     "metadata": {},
     "output_type": "execute_result"
    }
   ],
   "source": [
    "from scipy.stats import trim_mean\n",
    "data1 = [5,31,43,48,57,61,31]\n",
    "trim_mean(data1,proportiontocut=.0)"
   ]
  },
  {
   "cell_type": "markdown",
   "id": "6fcd419b",
   "metadata": {},
   "source": [
    "### Trimmed variance"
   ]
  },
  {
   "cell_type": "code",
   "execution_count": 178,
   "id": "7592120d",
   "metadata": {},
   "outputs": [
    {
     "data": {
      "text/plain": [
       "210.09876543209873"
      ]
     },
     "execution_count": 178,
     "metadata": {},
     "output_type": "execute_result"
    }
   ],
   "source": [
    "from scipy.stats import mstats\n",
    "data1 = [1,62,9,10,25,31,23,36,27,61,31]\n",
    "\n",
    "mstats.trimmed_var(data1, ddof=0)"
   ]
  },
  {
   "cell_type": "markdown",
   "id": "d80a1ce2",
   "metadata": {},
   "source": [
    "### Trimmed minimum"
   ]
  },
  {
   "cell_type": "code",
   "execution_count": 186,
   "id": "4f9f15bd",
   "metadata": {},
   "outputs": [
    {
     "name": "stdout",
     "output_type": "stream",
     "text": [
      "23\n"
     ]
    }
   ],
   "source": [
    "from scipy.stats import mstats\n",
    "data1 = [11,62,9,10,25,31,23,36,27,61,31]\n",
    "L=19\n",
    "\n",
    "print(mstats.tmin(data1,L))"
   ]
  },
  {
   "cell_type": "markdown",
   "id": "99faccd6",
   "metadata": {},
   "source": [
    "### Trimmed maximum"
   ]
  },
  {
   "cell_type": "code",
   "execution_count": 210,
   "id": "bef9d904",
   "metadata": {},
   "outputs": [
    {
     "name": "stdout",
     "output_type": "stream",
     "text": [
      "11\n"
     ]
    }
   ],
   "source": [
    "from scipy.stats.mstats import tmax\n",
    "data1 = [11,62,9,10,25,31,23,36,27,61,31]\n",
    "L=19\n",
    "\n",
    "print(mstats.tmax(data1,L))"
   ]
  },
  {
   "cell_type": "markdown",
   "id": "8a826b9c",
   "metadata": {},
   "source": [
    "### Trimmed sample standard deviation"
   ]
  },
  {
   "cell_type": "code",
   "execution_count": 211,
   "id": "4d8460a1",
   "metadata": {},
   "outputs": [
    {
     "name": "stdout",
     "output_type": "stream",
     "text": [
      "276.85977196648366\n"
     ]
    }
   ],
   "source": [
    "from scipy.stats.mstats import trimmed_std\n",
    "data1 = [931,62,97,101,25,316,23425,36,27,61,31]\n",
    "\n",
    "print(trimmed_std(data1))"
   ]
  },
  {
   "cell_type": "markdown",
   "id": "5e5c9731",
   "metadata": {},
   "source": [
    "### Trimmed sample standard deviation"
   ]
  },
  {
   "cell_type": "code",
   "execution_count": 212,
   "id": "febd5f42",
   "metadata": {},
   "outputs": [
    {
     "name": "stdout",
     "output_type": "stream",
     "text": [
      "7017.119173201285\n"
     ]
    }
   ],
   "source": [
    "from scipy import stats\n",
    "print(stats.tstd(data1))"
   ]
  },
  {
   "cell_type": "markdown",
   "id": "081b586e",
   "metadata": {},
   "source": [
    "### Coefficient of variation"
   ]
  },
  {
   "cell_type": "code",
   "execution_count": 217,
   "id": "fe810974",
   "metadata": {},
   "outputs": [
    {
     "name": "stdout",
     "output_type": "stream",
     "text": [
      "1.6968455353998737\n"
     ]
    }
   ],
   "source": [
    "from scipy.stats import variation\n",
    "data1 = [88,93,1,43,48,50,41,91,932,93,96,97,101]\n",
    "\n",
    "print(variation(data1))"
   ]
  },
  {
   "cell_type": "markdown",
   "id": "311988dd",
   "metadata": {},
   "source": [
    "### Geometric standard deviation"
   ]
  },
  {
   "cell_type": "code",
   "execution_count": 218,
   "id": "50d595e8",
   "metadata": {},
   "outputs": [
    {
     "name": "stdout",
     "output_type": "stream",
     "text": [
      "2.6348853951512816\n"
     ]
    }
   ],
   "source": [
    "from scipy.stats import gstd\n",
    "\n",
    "data1 = [5,31,43,48,50,41,71,15,3,8,6,25,36,27,61,31]\n",
    "\n",
    "print(gstd(data1))"
   ]
  },
  {
   "cell_type": "markdown",
   "id": "b2e6c34d",
   "metadata": {},
   "source": [
    "### Standard error of the mean"
   ]
  },
  {
   "cell_type": "code",
   "execution_count": 219,
   "id": "927c3760",
   "metadata": {},
   "outputs": [
    {
     "data": {
      "text/plain": [
       "5.139486639409297"
      ]
     },
     "execution_count": 219,
     "metadata": {},
     "output_type": "execute_result"
    }
   ],
   "source": [
    "from scipy.stats import sem\n",
    "sem(data1)"
   ]
  },
  {
   "cell_type": "markdown",
   "id": "380d065e",
   "metadata": {},
   "source": [
    "###  Entropy of a distribution"
   ]
  },
  {
   "cell_type": "code",
   "execution_count": 220,
   "id": "7623bd1d",
   "metadata": {},
   "outputs": [
    {
     "data": {
      "text/plain": [
       "1.791759469228055"
      ]
     },
     "execution_count": 220,
     "metadata": {},
     "output_type": "execute_result"
    }
   ],
   "source": [
    "dist1 = [1/6, 1/6, 1/6, 1/6, 1/6, 1/6]\n",
    "from scipy.stats import entropy\n",
    "entropy(dist1)"
   ]
  },
  {
   "cell_type": "markdown",
   "id": "82157d3e",
   "metadata": {},
   "source": [
    "### Differential entropy of a distribution"
   ]
  },
  {
   "cell_type": "code",
   "execution_count": 221,
   "id": "585a3ae1",
   "metadata": {},
   "outputs": [
    {
     "name": "stdout",
     "output_type": "stream",
     "text": [
      "-1.8259244896227593\n"
     ]
    }
   ],
   "source": [
    "sample1 = [0.009, 0.11, 0.002, 0.032, 0.047]\n",
    "from scipy.stats import differential_entropy\n",
    "print(differential_entropy(sample1))"
   ]
  },
  {
   "cell_type": "markdown",
   "id": "24670402",
   "metadata": {},
   "source": [
    "###  Repeats and repeat count"
   ]
  },
  {
   "cell_type": "code",
   "execution_count": 242,
   "id": "52e49e89",
   "metadata": {},
   "outputs": [
    {
     "data": {
      "text/plain": [
       "RepeatedResults(values=array([3., 5.]), counts=array([3, 2], dtype=int64))"
      ]
     },
     "execution_count": 242,
     "metadata": {},
     "output_type": "execute_result"
    }
   ],
   "source": [
    "array1 = [1,2,3,4,5,3,3,5]\n",
    "from scipy.stats import find_repeats\n",
    "find_repeats(array1)"
   ]
  },
  {
   "cell_type": "markdown",
   "id": "3a341786",
   "metadata": {},
   "source": [
    "### Cumulative frequency"
   ]
  },
  {
   "cell_type": "code",
   "execution_count": 243,
   "id": "295a2ed8",
   "metadata": {},
   "outputs": [
    {
     "name": "stdout",
     "output_type": "stream",
     "text": [
      "[1. 1. 2. 2. 2. 5. 5. 6. 6. 8.]\n"
     ]
    }
   ],
   "source": [
    "array1 = [1,2,3,4,5,3,3,5]\n",
    "from scipy.stats import cumfreq\n",
    "print(cumfreq(array1)[0])"
   ]
  },
  {
   "cell_type": "markdown",
   "id": "1431e9f0",
   "metadata": {},
   "source": [
    "### Score at a given percentile"
   ]
  },
  {
   "cell_type": "code",
   "execution_count": 244,
   "id": "95adee4e",
   "metadata": {},
   "outputs": [
    {
     "data": {
      "text/plain": [
       "217.0"
      ]
     },
     "execution_count": 244,
     "metadata": {},
     "output_type": "execute_result"
    }
   ],
   "source": [
    "array1 = [930,33,217,629,23,112,5,321,43,812,250]\n",
    "P =50\n",
    "from scipy.stats import scoreatpercentile\n",
    "scoreatpercentile(array1,P)"
   ]
  },
  {
   "cell_type": "markdown",
   "id": "b42cbd0e",
   "metadata": {},
   "source": [
    "### One-Way ANOVA test for binary population groups"
   ]
  },
  {
   "cell_type": "code",
   "execution_count": 247,
   "id": "8725836f",
   "metadata": {},
   "outputs": [
    {
     "name": "stdout",
     "output_type": "stream",
     "text": [
      "F_onewayResult(statistic=0.685785536159601, pvalue=0.4164952236988999)\n"
     ]
    }
   ],
   "source": [
    "from scipy.stats import f_oneway\n",
    "p1=[6,2,3,4,2,3,3,2,7,8,10,4]\n",
    "p2=[4,4,5,7,8,5,3,7,10,4,5,2]\n",
    "print(f_oneway(p1,p2))"
   ]
  },
  {
   "cell_type": "markdown",
   "id": "3406d344",
   "metadata": {},
   "source": [
    "### One-Way ANOVA test for multiple population groups"
   ]
  },
  {
   "cell_type": "code",
   "execution_count": 248,
   "id": "9a918d10",
   "metadata": {},
   "outputs": [
    {
     "name": "stdout",
     "output_type": "stream",
     "text": [
      "F_onewayResult(statistic=3.8556534687126023, pvalue=0.015117004708209373)\n"
     ]
    }
   ],
   "source": [
    "from scipy.stats import f_oneway\n",
    "p1=[6,2,3,4,2,3,3,2,7,8,10,4]\n",
    "p2=[4,4,5,7,8,5,3,7,10,4,5,2]\n",
    "p3=[5,31,43,48,50,41,71,15,3,8,6,25,36,27,61,31]\n",
    "p4=[919,393,173,69,23,12,5,31,43,48,50]\n",
    "print(f_oneway(p1,p2,p3,p4))"
   ]
  },
  {
   "cell_type": "markdown",
   "id": "8dfe7790",
   "metadata": {},
   "source": [
    "### T-test for two independent samples"
   ]
  },
  {
   "cell_type": "code",
   "execution_count": 249,
   "id": "689d2b1c",
   "metadata": {},
   "outputs": [
    {
     "name": "stdout",
     "output_type": "stream",
     "text": [
      "Ttest_indResult(statistic=-0.828121691636924, pvalue=0.4164952236988998)\n"
     ]
    }
   ],
   "source": [
    "p1=[6,2,3,4,2,3,3,2,7,8,10,4]\n",
    "p2=[4,4,5,7,8,5,3,7,10,4,5,2]\n",
    "\n",
    "from scipy.stats import ttest_ind\n",
    "print(ttest_ind(p1,p2))"
   ]
  },
  {
   "cell_type": "markdown",
   "id": "a7835397",
   "metadata": {},
   "source": [
    "### Normality test"
   ]
  },
  {
   "cell_type": "code",
   "execution_count": 252,
   "id": "63738e43",
   "metadata": {},
   "outputs": [
    {
     "name": "stderr",
     "output_type": "stream",
     "text": [
      "C:\\Users\\vivek codes\\anaconda3\\lib\\site-packages\\scipy\\stats\\_stats_py.py:1769: UserWarning: kurtosistest only valid for n>=20 ... continuing anyway, n=11\n",
      "  warnings.warn(\"kurtosistest only valid for n>=20 ... continuing \"\n"
     ]
    },
    {
     "data": {
      "text/plain": [
       "NormaltestResult(statistic=2.736789623110956, pvalue=0.254515176652981)"
      ]
     },
     "execution_count": 252,
     "metadata": {},
     "output_type": "execute_result"
    }
   ],
   "source": [
    "from scipy.stats import normaltest\n",
    "p1=[31,62,97,101,25,16,25,36,27,61,31]\n",
    "\n",
    "normaltest(p1)"
   ]
  },
  {
   "cell_type": "markdown",
   "id": "6bf55243",
   "metadata": {},
   "source": [
    "### Kurtosis test"
   ]
  },
  {
   "cell_type": "code",
   "execution_count": 254,
   "id": "21aa451e",
   "metadata": {},
   "outputs": [
    {
     "name": "stdout",
     "output_type": "stream",
     "text": [
      "KurtosistestResult(statistic=0.07891052215476219, pvalue=0.9371037938728526)\n"
     ]
    }
   ],
   "source": [
    "from scipy.stats import kurtosistest\n",
    "data1=[31,62,97,101,25,16,25,36,27,61,31]\n",
    "\n",
    "print(kurtosistest(data1))"
   ]
  },
  {
   "cell_type": "markdown",
   "id": "cb0cc390",
   "metadata": {},
   "source": [
    "### Test of skewness"
   ]
  },
  {
   "cell_type": "code",
   "execution_count": 256,
   "id": "a65f3046",
   "metadata": {},
   "outputs": [
    {
     "name": "stdout",
     "output_type": "stream",
     "text": [
      "SkewtestResult(statistic=1.5935343886099593, pvalue=0.11104036012028762)\n"
     ]
    }
   ],
   "source": [
    "data1=[6,2,3,4,2,3,3,2,7,8,10,4]\n",
    "\n",
    "from scipy.stats import skewtest\n",
    "print(skewtest(data1))"
   ]
  },
  {
   "cell_type": "markdown",
   "id": "a3f5ccc5",
   "metadata": {},
   "source": [
    "### Mood’s two-sample test for equal scale parameters "
   ]
  },
  {
   "cell_type": "code",
   "execution_count": 2,
   "id": "aca30ce4",
   "metadata": {},
   "outputs": [],
   "source": [
    "from scipy.stats import mood,median_test"
   ]
  },
  {
   "cell_type": "code",
   "execution_count": 4,
   "id": "4eaf47a0",
   "metadata": {},
   "outputs": [
    {
     "data": {
      "text/plain": [
       "(-1.7309620502960825, 0.08345853325870158)"
      ]
     },
     "execution_count": 4,
     "metadata": {},
     "output_type": "execute_result"
    }
   ],
   "source": [
    "from scipy.stats import mood,median_test\n",
    "mood(sample1,sample2)"
   ]
  },
  {
   "cell_type": "markdown",
   "id": "82762b68",
   "metadata": {},
   "source": [
    "### Mood’s median test"
   ]
  },
  {
   "cell_type": "code",
   "execution_count": 6,
   "id": "78b388fb",
   "metadata": {},
   "outputs": [
    {
     "name": "stdout",
     "output_type": "stream",
     "text": [
      "(4.583333333333334, 0.03228435391076682, 6.5, array([[3, 8],\n",
      "       [9, 2]], dtype=int64))\n"
     ]
    }
   ],
   "source": [
    "from scipy.stats import mood,median_test\n",
    "print(median_test(sample1,sample2))"
   ]
  },
  {
   "cell_type": "markdown",
   "id": "5519a89e",
   "metadata": {},
   "source": [
    "### One-way chi-square test"
   ]
  },
  {
   "cell_type": "code",
   "execution_count": 10,
   "id": "1acb8b6a",
   "metadata": {},
   "outputs": [],
   "source": [
    "F_ob=[1, 18, 6, 4, 12, 12]\n",
    "F_exp=[1, 16, 6, 6, 16, 8]"
   ]
  },
  {
   "cell_type": "code",
   "execution_count": 11,
   "id": "cf253bdc",
   "metadata": {},
   "outputs": [
    {
     "name": "stdout",
     "output_type": "stream",
     "text": [
      "Power_divergenceResult(statistic=3.9166666666666665, pvalue=0.5614753252040727)\n"
     ]
    }
   ],
   "source": [
    "from scipy.stats import chisquare\n",
    "print(chisquare(f_obs=F_ob, f_exp=F_exp))"
   ]
  },
  {
   "cell_type": "markdown",
   "id": "6b0d7143",
   "metadata": {},
   "source": [
    "### T-test on two related samples"
   ]
  },
  {
   "cell_type": "code",
   "execution_count": 13,
   "id": "7b63b40a",
   "metadata": {},
   "outputs": [
    {
     "name": "stdout",
     "output_type": "stream",
     "text": [
      "Ttest_relResult(statistic=0.6285059317130549, pvalue=0.5437600392053596)\n"
     ]
    }
   ],
   "source": [
    "sample1 =[30,68,77,119,35,11,33,30,29,62,39]\n",
    "sample2=[31,62,97,101,25,16,25,36,27,61,31]\n",
    "from scipy.stats import ttest_rel\n",
    "print(ttest_rel(sample1,sample2))"
   ]
  },
  {
   "cell_type": "markdown",
   "id": "7da97c96",
   "metadata": {},
   "source": [
    "### z-score"
   ]
  },
  {
   "cell_type": "code",
   "execution_count": 15,
   "id": "4c652433",
   "metadata": {},
   "outputs": [
    {
     "name": "stdout",
     "output_type": "stream",
     "text": [
      "[-0.63370699  0.6711675   0.98021672  2.42244642 -0.46201298 -1.28614423\n",
      " -0.53069058 -0.63370699 -0.66804579  0.46513469 -0.32465777]\n"
     ]
    }
   ],
   "source": [
    "from scipy.stats import zscore\n",
    "print(zscore(sample1))"
   ]
  },
  {
   "cell_type": "markdown",
   "id": "e98b5802",
   "metadata": {},
   "source": [
    "### Covariance matrix for binary variables"
   ]
  },
  {
   "cell_type": "code",
   "execution_count": 17,
   "id": "f92be58f",
   "metadata": {},
   "outputs": [
    {
     "data": {
      "text/plain": [
       "array([[ 2.5, -2.5],\n",
       "       [-2.5,  2.5]])"
      ]
     },
     "execution_count": 17,
     "metadata": {},
     "output_type": "execute_result"
    }
   ],
   "source": [
    "data1= [19,18,17,16,15]\n",
    "data2= [21,22,23,24,25]\n",
    "import numpy as np\n",
    "np.cov(data1,data2)"
   ]
  },
  {
   "cell_type": "markdown",
   "id": "81f4a1fb",
   "metadata": {},
   "source": [
    "### Pearson’s correlation coefficient"
   ]
  },
  {
   "cell_type": "code",
   "execution_count": 18,
   "id": "c5e4c0e9",
   "metadata": {},
   "outputs": [],
   "source": [
    "data1 = [10, 2, 30, 4, 5, 60, 7, 8, 9]\n",
    "data2 = [9, 80, 7, 6, 50, 4, 3, 20, 1]"
   ]
  },
  {
   "cell_type": "code",
   "execution_count": 19,
   "id": "5b6a1691",
   "metadata": {},
   "outputs": [
    {
     "name": "stdout",
     "output_type": "stream",
     "text": [
      "PearsonRResult(statistic=-0.3772226833407402, pvalue=0.3169193867578748)\n"
     ]
    }
   ],
   "source": [
    "from scipy.stats import pearsonr \n",
    "print(pearsonr(data1,data2))"
   ]
  },
  {
   "cell_type": "markdown",
   "id": "b4254284",
   "metadata": {},
   "source": [
    "### Spearman’s correlation coefficient"
   ]
  },
  {
   "cell_type": "code",
   "execution_count": 22,
   "id": "2cb0aac8",
   "metadata": {},
   "outputs": [
    {
     "name": "stdout",
     "output_type": "stream",
     "text": [
      "SpearmanrResult(correlation=-0.43333333333333335, pvalue=0.2439524358800516)\n"
     ]
    }
   ],
   "source": [
    "from scipy.stats import spearmanr;\n",
    "print(spearmanr(data1,data2))"
   ]
  },
  {
   "cell_type": "markdown",
   "id": "aaa1bcce",
   "metadata": {},
   "source": [
    "### Alexander-Govern test"
   ]
  },
  {
   "cell_type": "code",
   "execution_count": 23,
   "id": "d458fd5f",
   "metadata": {},
   "outputs": [
    {
     "name": "stdout",
     "output_type": "stream",
     "text": [
      "AlexanderGovernResult(statistic=0.19287640464766484, pvalue=0.6605333161665234)\n"
     ]
    }
   ],
   "source": [
    "from scipy.stats import alexandergovern\n",
    "print(alexandergovern(data1,data2))"
   ]
  },
  {
   "cell_type": "markdown",
   "id": "9d79c151",
   "metadata": {},
   "source": [
    "### Correlation measure for ordinal data"
   ]
  },
  {
   "cell_type": "code",
   "execution_count": 26,
   "id": "858a2fbd",
   "metadata": {},
   "outputs": [
    {
     "name": "stdout",
     "output_type": "stream",
     "text": [
      "KendalltauResult(correlation=-0.3888888888888889, pvalue=0.18018077601410934)\n"
     ]
    }
   ],
   "source": [
    "data1 = [10, 2, 30, 4, 5, 60, 7, 8, 9]\n",
    "data2 = [9, 80, 7, 6, 50, 4, 3, 20, 1]\n",
    "\n",
    "from scipy.stats import kendalltau;\n",
    "print(kendalltau(data1,data2))"
   ]
  },
  {
   "cell_type": "markdown",
   "id": "a309de25",
   "metadata": {},
   "source": [
    "### Somer’s D for two ordinal association"
   ]
  },
  {
   "cell_type": "code",
   "execution_count": 31,
   "id": "af2577b6",
   "metadata": {},
   "outputs": [],
   "source": [
    "data1 = [10, 2, 30, 4,9]\n",
    "data2 = [9, 80, 7, 6, 1]"
   ]
  },
  {
   "cell_type": "code",
   "execution_count": 32,
   "id": "4070d074",
   "metadata": {},
   "outputs": [
    {
     "name": "stdout",
     "output_type": "stream",
     "text": [
      "SomersDResult(statistic=-0.2, pvalue=0.5761501220305789, table=array([[0, 0, 0, 0, 1],\n",
      "       [0, 1, 0, 0, 0],\n",
      "       [1, 0, 0, 0, 0],\n",
      "       [0, 0, 0, 1, 0],\n",
      "       [0, 0, 1, 0, 0]]))\n"
     ]
    }
   ],
   "source": [
    "from scipy.stats import somersd\n",
    "print(somersd(data1,data2))"
   ]
  },
  {
   "cell_type": "markdown",
   "id": "3e6e95aa",
   "metadata": {},
   "source": [
    "### T-test for the mean of one group of scores"
   ]
  },
  {
   "cell_type": "code",
   "execution_count": 33,
   "id": "2db6727c",
   "metadata": {},
   "outputs": [
    {
     "data": {
      "text/plain": [
       "Ttest_1sampResult(statistic=1.6064386578049978, pvalue=0.1834526400556382)"
      ]
     },
     "execution_count": 33,
     "metadata": {},
     "output_type": "execute_result"
    }
   ],
   "source": [
    "array1 = [10, 2, 30, 4,9]\n",
    "N = 3\n",
    "from scipy.stats import ttest_1samp\n",
    "ttest_1samp(array1,N)"
   ]
  },
  {
   "cell_type": "markdown",
   "id": "c8348a51",
   "metadata": {},
   "source": [
    "### Standard error of the trimmed mean"
   ]
  },
  {
   "cell_type": "code",
   "execution_count": 38,
   "id": "6f69bf33",
   "metadata": {},
   "outputs": [
    {
     "name": "stdout",
     "output_type": "stream",
     "text": [
      "136.5951476993235\n"
     ]
    }
   ],
   "source": [
    "array1 = [513,322,373,642,536,675,74,438,529,180]\n",
    "\n",
    "from scipy.stats.mstats import trimmed_std\n",
    "print(trimmed_std(array1, (0.1,0.1)))"
   ]
  },
  {
   "cell_type": "markdown",
   "id": "4f0d5edc",
   "metadata": {},
   "source": [
    "### Probability of drawn colored balls"
   ]
  },
  {
   "cell_type": "code",
   "execution_count": 7,
   "id": "92bf6c49",
   "metadata": {},
   "outputs": [],
   "source": [
    "N1,N2,N3 = 2,3,2"
   ]
  },
  {
   "cell_type": "code",
   "execution_count": 8,
   "id": "dd916553",
   "metadata": {},
   "outputs": [
    {
     "data": {
      "text/plain": [
       "0.3181818181818182"
      ]
     },
     "execution_count": 8,
     "metadata": {},
     "output_type": "execute_result"
    }
   ],
   "source": [
    "(7/12)*(6/11)"
   ]
  },
  {
   "cell_type": "code",
   "execution_count": 9,
   "id": "057fe263",
   "metadata": {},
   "outputs": [
    {
     "name": "stdout",
     "output_type": "stream",
     "text": [
      "0.47619047619047616\n"
     ]
    }
   ],
   "source": [
    "total = N1+N2+N3\n",
    "print(((N1+N2)/total)*((N1+N2-1)/(total-1)))"
   ]
  },
  {
   "cell_type": "markdown",
   "id": "e5374bbd",
   "metadata": {},
   "source": [
    "### Mood’s two-sample test for equal scale parameters"
   ]
  },
  {
   "cell_type": "code",
   "execution_count": 38,
   "id": "f1558fa2",
   "metadata": {},
   "outputs": [
    {
     "name": "stdout",
     "output_type": "stream",
     "text": [
      "[-- -- 3 4 5 6 7 8 9 10]\n"
     ]
    },
    {
     "data": {
      "text/plain": [
       "masked_array(data=[--, --, 3, 4, 5, 6, 7, 8, 9, 10],\n",
       "             mask=[ True,  True, False, False, False, False, False, False,\n",
       "                   False, False],\n",
       "       fill_value=999999)"
      ]
     },
     "execution_count": 38,
     "metadata": {},
     "output_type": "execute_result"
    }
   ],
   "source": [
    "from scipy.stats.mstats import trimtail;\n",
    "array1 = [1,2,3,4,5,6,7,8,9,10]\n",
    "print(trimtail(array1,tail='left',inclusive=(0.50,0.3)))\n",
    "trimtail(array1,tail='left')"
   ]
  },
  {
   "cell_type": "code",
   "execution_count": null,
   "id": "f83b8007",
   "metadata": {},
   "outputs": [],
   "source": []
  }
 ],
 "metadata": {
  "kernelspec": {
   "display_name": "Python 3 (ipykernel)",
   "language": "python",
   "name": "python3"
  },
  "language_info": {
   "codemirror_mode": {
    "name": "ipython",
    "version": 3
   },
   "file_extension": ".py",
   "mimetype": "text/x-python",
   "name": "python",
   "nbconvert_exporter": "python",
   "pygments_lexer": "ipython3",
   "version": "3.9.13"
  }
 },
 "nbformat": 4,
 "nbformat_minor": 5
}
